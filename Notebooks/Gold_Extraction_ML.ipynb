{
 "cells": [
  {
   "cell_type": "markdown",
   "metadata": {},
   "source": [
    "Project Title: Gold Extraction ML Modeling \n",
    "\n",
    "Project Intro:\n",
    "\n",
    "In this project were taking a deep dive into the extraction process of gold from ore. Well be preparing a prototype for a ML model for Zyra. \n",
    "\n",
    "Project Description:\n",
    "\n",
    "The model should predict the amount of gold recovered from gold ore. You have the data on extraction and purification.\n",
    "The model will help to optimize the production and eliminate unprofitable parameters.\n",
    "\n",
    "In this project we will be:\n",
    "\n",
    "Preparing the data\n",
    "Performing data analysis\n",
    "Developing and training a model"
   ]
  },
  {
   "cell_type": "code",
   "execution_count": 3,
   "metadata": {
    "trusted": true
   },
   "outputs": [],
   "source": [
    "import pandas as pd \n",
    "import numpy as np \n",
    "\n",
    "from sklearn.model_selection import train_test_split\n",
    "from sklearn.metrics import mean_absolute_error\n",
    "from sklearn.linear_model import LogisticRegression\n",
    "from sklearn.metrics import precision_score, recall_score\n",
    "from sklearn.linear_model import LinearRegression\n",
    "from scipy.stats import bootstrap\n",
    "from sklearn.preprocessing import StandardScaler\n",
    "from sklearn.metrics import r2_score\n",
    "import matplotlib.pyplot as plt\n",
    "import seaborn as sns\n",
    "import matplotlib.pyplot as plt\n",
    "from sklearn.ensemble import RandomForestRegressor\n",
    "from sklearn.model_selection import cross_val_score\n",
    "from sklearn.metrics import make_scorer\n",
    "from sklearn.impute import SimpleImputer\n",
    "import lightgbm as lgb\n",
    "from sklearn.model_selection import GridSearchCV\n",
    "from sklearn.dummy import DummyRegressor"
   ]
  },
  {
   "cell_type": "code",
   "execution_count": 4,
   "metadata": {
    "trusted": true
   },
   "outputs": [],
   "source": [
    "%matplotlib inline"
   ]
  },
  {
   "cell_type": "code",
   "execution_count": 5,
   "metadata": {
    "trusted": true
   },
   "outputs": [],
   "source": [
    "try:\n",
    "    golddf_train = pd.read_csv('/Users/macos/Downloads/gold_recovery_train.csv')\n",
    "except:    \n",
    "    golddf_train = pd.read_csv('/datasets/gold_recovery_train.csv')\n",
    "try:    \n",
    "    golddf_test = pd.read_csv('/Users/macos/Downloads/gold_recovery_test.csv')\n",
    "except:    \n",
    "    golddf_test = pd.read_csv('/datasets/gold_recovery_test.csv')\n",
    "try:\n",
    "    golddf_full = pd.read_csv('/Users/macos/Downloads/gold_recovery_full.csv')\n",
    "except:\n",
    "     golddf_full = pd.read_csv('/datasets/gold_recovery_full.csv')"
   ]
  },
  {
   "cell_type": "markdown",
   "metadata": {},
   "source": [
    "Importing libraries and datasets."
   ]
  },
  {
   "cell_type": "code",
   "execution_count": 6,
   "metadata": {
    "trusted": true
   },
   "outputs": [],
   "source": [
    "def basicdataprep(df):\n",
    "    print(\"DataFrame Info:\")\n",
    "    print(df.info(),\"\\n\")\n",
    "    print(\"Descriptive Stats:\")\n",
    "    print(df.describe(),\"\\n\")\n",
    "    print(\"Random Sample:\")\n",
    "    print(df.sample(5))\n",
    "    print(\"Duplicates Amount:\")\n",
    "    print(df.duplicated().sum())\n",
    "    print(\"DataFram Columns:\")\n",
    "    print(df.columns)\n",
    "    return df\n",
    "\n"
   ]
  },
  {
   "cell_type": "markdown",
   "metadata": {},
   "source": [
    "function for basic data prep."
   ]
  },
  {
   "cell_type": "code",
   "execution_count": 7,
   "metadata": {
    "trusted": true
   },
   "outputs": [
    {
     "name": "stdout",
     "output_type": "stream",
     "text": [
      "DataFrame Info:\n",
      "<class 'pandas.core.frame.DataFrame'>\n",
      "RangeIndex: 16860 entries, 0 to 16859\n",
      "Data columns (total 87 columns):\n",
      " #   Column                                              Non-Null Count  Dtype  \n",
      "---  ------                                              --------------  -----  \n",
      " 0   date                                                16860 non-null  object \n",
      " 1   final.output.concentrate_ag                         16788 non-null  float64\n",
      " 2   final.output.concentrate_pb                         16788 non-null  float64\n",
      " 3   final.output.concentrate_sol                        16490 non-null  float64\n",
      " 4   final.output.concentrate_au                         16789 non-null  float64\n",
      " 5   final.output.recovery                               15339 non-null  float64\n",
      " 6   final.output.tail_ag                                16794 non-null  float64\n",
      " 7   final.output.tail_pb                                16677 non-null  float64\n",
      " 8   final.output.tail_sol                               16715 non-null  float64\n",
      " 9   final.output.tail_au                                16794 non-null  float64\n",
      " 10  primary_cleaner.input.sulfate                       15553 non-null  float64\n",
      " 11  primary_cleaner.input.depressant                    15598 non-null  float64\n",
      " 12  primary_cleaner.input.feed_size                     16860 non-null  float64\n",
      " 13  primary_cleaner.input.xanthate                      15875 non-null  float64\n",
      " 14  primary_cleaner.output.concentrate_ag               16778 non-null  float64\n",
      " 15  primary_cleaner.output.concentrate_pb               16502 non-null  float64\n",
      " 16  primary_cleaner.output.concentrate_sol              16224 non-null  float64\n",
      " 17  primary_cleaner.output.concentrate_au               16778 non-null  float64\n",
      " 18  primary_cleaner.output.tail_ag                      16777 non-null  float64\n",
      " 19  primary_cleaner.output.tail_pb                      16761 non-null  float64\n",
      " 20  primary_cleaner.output.tail_sol                     16579 non-null  float64\n",
      " 21  primary_cleaner.output.tail_au                      16777 non-null  float64\n",
      " 22  primary_cleaner.state.floatbank8_a_air              16820 non-null  float64\n",
      " 23  primary_cleaner.state.floatbank8_a_level            16827 non-null  float64\n",
      " 24  primary_cleaner.state.floatbank8_b_air              16820 non-null  float64\n",
      " 25  primary_cleaner.state.floatbank8_b_level            16833 non-null  float64\n",
      " 26  primary_cleaner.state.floatbank8_c_air              16822 non-null  float64\n",
      " 27  primary_cleaner.state.floatbank8_c_level            16833 non-null  float64\n",
      " 28  primary_cleaner.state.floatbank8_d_air              16821 non-null  float64\n",
      " 29  primary_cleaner.state.floatbank8_d_level            16833 non-null  float64\n",
      " 30  rougher.calculation.sulfate_to_au_concentrate       16833 non-null  float64\n",
      " 31  rougher.calculation.floatbank10_sulfate_to_au_feed  16833 non-null  float64\n",
      " 32  rougher.calculation.floatbank11_sulfate_to_au_feed  16833 non-null  float64\n",
      " 33  rougher.calculation.au_pb_ratio                     15618 non-null  float64\n",
      " 34  rougher.input.feed_ag                               16778 non-null  float64\n",
      " 35  rougher.input.feed_pb                               16632 non-null  float64\n",
      " 36  rougher.input.feed_rate                             16347 non-null  float64\n",
      " 37  rougher.input.feed_size                             16443 non-null  float64\n",
      " 38  rougher.input.feed_sol                              16568 non-null  float64\n",
      " 39  rougher.input.feed_au                               16777 non-null  float64\n",
      " 40  rougher.input.floatbank10_sulfate                   15816 non-null  float64\n",
      " 41  rougher.input.floatbank10_xanthate                  16514 non-null  float64\n",
      " 42  rougher.input.floatbank11_sulfate                   16237 non-null  float64\n",
      " 43  rougher.input.floatbank11_xanthate                  14956 non-null  float64\n",
      " 44  rougher.output.concentrate_ag                       16778 non-null  float64\n",
      " 45  rougher.output.concentrate_pb                       16778 non-null  float64\n",
      " 46  rougher.output.concentrate_sol                      16698 non-null  float64\n",
      " 47  rougher.output.concentrate_au                       16778 non-null  float64\n",
      " 48  rougher.output.recovery                             14287 non-null  float64\n",
      " 49  rougher.output.tail_ag                              14610 non-null  float64\n",
      " 50  rougher.output.tail_pb                              16778 non-null  float64\n",
      " 51  rougher.output.tail_sol                             14611 non-null  float64\n",
      " 52  rougher.output.tail_au                              14611 non-null  float64\n",
      " 53  rougher.state.floatbank10_a_air                     16807 non-null  float64\n",
      " 54  rougher.state.floatbank10_a_level                   16807 non-null  float64\n",
      " 55  rougher.state.floatbank10_b_air                     16807 non-null  float64\n",
      " 56  rougher.state.floatbank10_b_level                   16807 non-null  float64\n",
      " 57  rougher.state.floatbank10_c_air                     16807 non-null  float64\n",
      " 58  rougher.state.floatbank10_c_level                   16814 non-null  float64\n",
      " 59  rougher.state.floatbank10_d_air                     16802 non-null  float64\n",
      " 60  rougher.state.floatbank10_d_level                   16809 non-null  float64\n",
      " 61  rougher.state.floatbank10_e_air                     16257 non-null  float64\n",
      " 62  rougher.state.floatbank10_e_level                   16809 non-null  float64\n",
      " 63  rougher.state.floatbank10_f_air                     16802 non-null  float64\n",
      " 64  rougher.state.floatbank10_f_level                   16802 non-null  float64\n",
      " 65  secondary_cleaner.output.tail_ag                    16776 non-null  float64\n",
      " 66  secondary_cleaner.output.tail_pb                    16764 non-null  float64\n",
      " 67  secondary_cleaner.output.tail_sol                   14874 non-null  float64\n",
      " 68  secondary_cleaner.output.tail_au                    16778 non-null  float64\n",
      " 69  secondary_cleaner.state.floatbank2_a_air            16497 non-null  float64\n",
      " 70  secondary_cleaner.state.floatbank2_a_level          16751 non-null  float64\n",
      " 71  secondary_cleaner.state.floatbank2_b_air            16705 non-null  float64\n",
      " 72  secondary_cleaner.state.floatbank2_b_level          16748 non-null  float64\n",
      " 73  secondary_cleaner.state.floatbank3_a_air            16763 non-null  float64\n",
      " 74  secondary_cleaner.state.floatbank3_a_level          16747 non-null  float64\n",
      " 75  secondary_cleaner.state.floatbank3_b_air            16752 non-null  float64\n",
      " 76  secondary_cleaner.state.floatbank3_b_level          16750 non-null  float64\n",
      " 77  secondary_cleaner.state.floatbank4_a_air            16731 non-null  float64\n",
      " 78  secondary_cleaner.state.floatbank4_a_level          16747 non-null  float64\n",
      " 79  secondary_cleaner.state.floatbank4_b_air            16768 non-null  float64\n",
      " 80  secondary_cleaner.state.floatbank4_b_level          16767 non-null  float64\n",
      " 81  secondary_cleaner.state.floatbank5_a_air            16775 non-null  float64\n",
      " 82  secondary_cleaner.state.floatbank5_a_level          16775 non-null  float64\n",
      " 83  secondary_cleaner.state.floatbank5_b_air            16775 non-null  float64\n",
      " 84  secondary_cleaner.state.floatbank5_b_level          16776 non-null  float64\n",
      " 85  secondary_cleaner.state.floatbank6_a_air            16757 non-null  float64\n",
      " 86  secondary_cleaner.state.floatbank6_a_level          16775 non-null  float64\n",
      "dtypes: float64(86), object(1)\n",
      "memory usage: 11.2+ MB\n",
      "None \n",
      "\n",
      "Descriptive Stats:\n",
      "       final.output.concentrate_ag  final.output.concentrate_pb  \\\n",
      "count                 16788.000000                 16788.000000   \n",
      "mean                      4.716907                     9.113559   \n",
      "std                       2.096718                     3.389495   \n",
      "min                       0.000000                     0.000000   \n",
      "25%                       3.971262                     8.825748   \n",
      "50%                       4.869346                    10.065316   \n",
      "75%                       5.821176                    11.054809   \n",
      "max                      16.001945                    17.031899   \n",
      "\n",
      "       final.output.concentrate_sol  final.output.concentrate_au  \\\n",
      "count                  16490.000000                 16789.000000   \n",
      "mean                       8.301123                    39.467217   \n",
      "std                        3.825760                    13.917227   \n",
      "min                        0.000000                     0.000000   \n",
      "25%                        6.939185                    42.055722   \n",
      "50%                        8.557228                    44.498874   \n",
      "75%                       10.289741                    45.976222   \n",
      "max                       18.124851                    53.611374   \n",
      "\n",
      "       final.output.recovery  final.output.tail_ag  final.output.tail_pb  \\\n",
      "count           15339.000000          16794.000000          16677.000000   \n",
      "mean               67.213166              8.757048              2.360327   \n",
      "std                11.960446              3.634103              1.215576   \n",
      "min                 0.000000              0.000000              0.000000   \n",
      "25%                62.625685              7.610544              1.641604   \n",
      "50%                67.644601              9.220393              2.453690   \n",
      "75%                72.824595             10.971110              3.192404   \n",
      "max               100.000000             19.552149              6.086532   \n",
      "\n",
      "       final.output.tail_sol  final.output.tail_au  \\\n",
      "count           16715.000000          16794.000000   \n",
      "mean                9.303932              2.687512   \n",
      "std                 4.263208              1.272757   \n",
      "min                 0.000000              0.000000   \n",
      "25%                 7.870275              2.172953   \n",
      "50%                10.021968              2.781132   \n",
      "75%                11.648573              3.416936   \n",
      "max                22.317730              9.789625   \n",
      "\n",
      "       primary_cleaner.input.sulfate  ...  \\\n",
      "count                   15553.000000  ...   \n",
      "mean                      129.479789  ...   \n",
      "std                        45.386931  ...   \n",
      "min                         0.000003  ...   \n",
      "25%                       103.064021  ...   \n",
      "50%                       131.783108  ...   \n",
      "75%                       159.539839  ...   \n",
      "max                       251.999948  ...   \n",
      "\n",
      "       secondary_cleaner.state.floatbank4_a_air  \\\n",
      "count                              16731.000000   \n",
      "mean                                  19.101874   \n",
      "std                                    6.883163   \n",
      "min                                    0.000000   \n",
      "25%                                   14.508299   \n",
      "50%                                   19.986958   \n",
      "75%                                   24.983961   \n",
      "max                                   60.000000   \n",
      "\n",
      "       secondary_cleaner.state.floatbank4_a_level  \\\n",
      "count                                16747.000000   \n",
      "mean                                  -494.164481   \n",
      "std                                     84.803334   \n",
      "min                                   -799.920713   \n",
      "25%                                   -500.837689   \n",
      "50%                                   -499.778379   \n",
      "75%                                   -494.648754   \n",
      "max                                   -127.692333   \n",
      "\n",
      "       secondary_cleaner.state.floatbank4_b_air  \\\n",
      "count                              16768.000000   \n",
      "mean                                  14.778164   \n",
      "std                                    5.999149   \n",
      "min                                    0.000000   \n",
      "25%                                   10.741388   \n",
      "50%                                   14.943933   \n",
      "75%                                   20.023751   \n",
      "max                                   28.003828   \n",
      "\n",
      "       secondary_cleaner.state.floatbank4_b_level  \\\n",
      "count                                16767.000000   \n",
      "mean                                  -476.600082   \n",
      "std                                     89.381172   \n",
      "min                                   -800.021781   \n",
      "25%                                   -500.269182   \n",
      "50%                                   -499.593286   \n",
      "75%                                   -400.137948   \n",
      "max                                    -71.472472   \n",
      "\n",
      "       secondary_cleaner.state.floatbank5_a_air  \\\n",
      "count                              16775.000000   \n",
      "mean                                  15.779488   \n",
      "std                                    6.834703   \n",
      "min                                   -0.423260   \n",
      "25%                                   10.977713   \n",
      "50%                                   15.998340   \n",
      "75%                                   20.000701   \n",
      "max                                   63.116298   \n",
      "\n",
      "       secondary_cleaner.state.floatbank5_a_level  \\\n",
      "count                                16775.000000   \n",
      "mean                                  -500.230146   \n",
      "std                                     76.983542   \n",
      "min                                   -799.741097   \n",
      "25%                                   -500.530594   \n",
      "50%                                   -499.784231   \n",
      "75%                                   -496.531781   \n",
      "max                                   -275.073125   \n",
      "\n",
      "       secondary_cleaner.state.floatbank5_b_air  \\\n",
      "count                              16775.000000   \n",
      "mean                                  12.377241   \n",
      "std                                    6.219989   \n",
      "min                                    0.427084   \n",
      "25%                                    8.925586   \n",
      "50%                                   11.092839   \n",
      "75%                                   15.979467   \n",
      "max                                   39.846228   \n",
      "\n",
      "       secondary_cleaner.state.floatbank5_b_level  \\\n",
      "count                                16776.000000   \n",
      "mean                                  -498.956257   \n",
      "std                                     82.146207   \n",
      "min                                   -800.258209   \n",
      "25%                                   -500.147603   \n",
      "50%                                   -499.933330   \n",
      "75%                                   -498.418000   \n",
      "max                                   -120.190931   \n",
      "\n",
      "       secondary_cleaner.state.floatbank6_a_air  \\\n",
      "count                              16757.000000   \n",
      "mean                                  18.429208   \n",
      "std                                    6.958294   \n",
      "min                                    0.024270   \n",
      "25%                                   13.977626   \n",
      "50%                                   18.034960   \n",
      "75%                                   24.984992   \n",
      "max                                   54.876806   \n",
      "\n",
      "       secondary_cleaner.state.floatbank6_a_level  \n",
      "count                                16775.000000  \n",
      "mean                                  -521.801826  \n",
      "std                                     77.170888  \n",
      "min                                   -810.473526  \n",
      "25%                                   -501.080595  \n",
      "50%                                   -500.109898  \n",
      "75%                                   -499.565540  \n",
      "max                                    -39.784927  \n",
      "\n",
      "[8 rows x 86 columns] \n",
      "\n",
      "Random Sample:\n",
      "                      date  final.output.concentrate_ag  \\\n",
      "15306  2018-06-14 17:59:59                     0.010000   \n",
      "588    2016-02-08 12:00:00                     5.261795   \n",
      "3017   2016-05-19 16:59:59                     4.898941   \n",
      "16011  2018-07-14 02:59:59                     3.578124   \n",
      "10642  2017-08-02 09:59:59                     4.005877   \n",
      "\n",
      "       final.output.concentrate_pb  final.output.concentrate_sol  \\\n",
      "15306                     0.010000                      0.010000   \n",
      "588                      10.183920                           NaN   \n",
      "3017                      9.286421                     11.902148   \n",
      "16011                    10.723424                      6.793270   \n",
      "10642                     8.732656                      7.141773   \n",
      "\n",
      "       final.output.concentrate_au  final.output.recovery  \\\n",
      "15306                     0.010000             100.000000   \n",
      "588                      45.029075              52.967523   \n",
      "3017                     45.129780              67.169479   \n",
      "16011                    46.696215              73.540921   \n",
      "10642                    46.583784              52.202102   \n",
      "\n",
      "       final.output.tail_ag  final.output.tail_pb  final.output.tail_sol  \\\n",
      "15306              0.000000              0.000000               0.000000   \n",
      "588               10.540486              0.921613              16.090626   \n",
      "3017              12.052382              3.090370              11.942906   \n",
      "16011              9.707619              3.169786               7.921296   \n",
      "10642              7.774396              2.342487               9.928472   \n",
      "\n",
      "       final.output.tail_au  ...  secondary_cleaner.state.floatbank4_a_air  \\\n",
      "15306              0.000000  ...                                 29.996788   \n",
      "588                2.197259  ...                                 16.974642   \n",
      "3017               3.987134  ...                                 10.030711   \n",
      "16011              1.545937  ...                                 17.022614   \n",
      "10642              2.336535  ...                                 13.067997   \n",
      "\n",
      "       secondary_cleaner.state.floatbank4_a_level  \\\n",
      "15306                                 -497.014428   \n",
      "588                                   -500.635045   \n",
      "3017                                  -497.679205   \n",
      "16011                                 -498.694380   \n",
      "10642                                 -501.895464   \n",
      "\n",
      "       secondary_cleaner.state.floatbank4_b_air  \\\n",
      "15306                                 22.029969   \n",
      "588                                   16.045379   \n",
      "3017                                   7.979363   \n",
      "16011                                 14.905484   \n",
      "10642                                 10.005197   \n",
      "\n",
      "       secondary_cleaner.state.floatbank4_b_level  \\\n",
      "15306                                 -499.020571   \n",
      "588                                   -498.517547   \n",
      "3017                                  -499.979400   \n",
      "16011                                 -499.715720   \n",
      "10642                                 -400.072053   \n",
      "\n",
      "       secondary_cleaner.state.floatbank5_a_air  \\\n",
      "15306                                 25.008188   \n",
      "588                                   18.023655   \n",
      "3017                                   8.989671   \n",
      "16011                                 10.934155   \n",
      "10642                                 11.048889   \n",
      "\n",
      "       secondary_cleaner.state.floatbank5_a_level  \\\n",
      "15306                                 -499.420155   \n",
      "588                                   -499.640544   \n",
      "3017                                  -549.360329   \n",
      "16011                                 -498.233436   \n",
      "10642                                 -498.592757   \n",
      "\n",
      "       secondary_cleaner.state.floatbank5_b_air  \\\n",
      "15306                                 23.014401   \n",
      "588                                   15.966602   \n",
      "3017                                   5.990952   \n",
      "16011                                  9.959304   \n",
      "10642                                  8.987233   \n",
      "\n",
      "       secondary_cleaner.state.floatbank5_b_level  \\\n",
      "15306                                 -499.955894   \n",
      "588                                   -500.031974   \n",
      "3017                                  -549.646026   \n",
      "16011                                 -499.919908   \n",
      "10642                                 -499.574236   \n",
      "\n",
      "       secondary_cleaner.state.floatbank6_a_air  \\\n",
      "15306                                 24.991783   \n",
      "588                                   18.023248   \n",
      "3017                                  19.996776   \n",
      "16011                                 13.000907   \n",
      "10642                                 11.985481   \n",
      "\n",
      "       secondary_cleaner.state.floatbank6_a_level  \n",
      "15306                                 -507.538142  \n",
      "588                                   -500.430801  \n",
      "3017                                  -500.177461  \n",
      "16011                                 -499.310562  \n",
      "10642                                 -500.371750  \n",
      "\n",
      "[5 rows x 87 columns]\n",
      "Duplicates Amount:\n",
      "0\n",
      "DataFram Columns:\n",
      "Index(['date', 'final.output.concentrate_ag', 'final.output.concentrate_pb',\n",
      "       'final.output.concentrate_sol', 'final.output.concentrate_au',\n",
      "       'final.output.recovery', 'final.output.tail_ag', 'final.output.tail_pb',\n",
      "       'final.output.tail_sol', 'final.output.tail_au',\n",
      "       'primary_cleaner.input.sulfate', 'primary_cleaner.input.depressant',\n",
      "       'primary_cleaner.input.feed_size', 'primary_cleaner.input.xanthate',\n",
      "       'primary_cleaner.output.concentrate_ag',\n",
      "       'primary_cleaner.output.concentrate_pb',\n",
      "       'primary_cleaner.output.concentrate_sol',\n",
      "       'primary_cleaner.output.concentrate_au',\n",
      "       'primary_cleaner.output.tail_ag', 'primary_cleaner.output.tail_pb',\n",
      "       'primary_cleaner.output.tail_sol', 'primary_cleaner.output.tail_au',\n",
      "       'primary_cleaner.state.floatbank8_a_air',\n",
      "       'primary_cleaner.state.floatbank8_a_level',\n",
      "       'primary_cleaner.state.floatbank8_b_air',\n",
      "       'primary_cleaner.state.floatbank8_b_level',\n",
      "       'primary_cleaner.state.floatbank8_c_air',\n",
      "       'primary_cleaner.state.floatbank8_c_level',\n",
      "       'primary_cleaner.state.floatbank8_d_air',\n",
      "       'primary_cleaner.state.floatbank8_d_level',\n",
      "       'rougher.calculation.sulfate_to_au_concentrate',\n",
      "       'rougher.calculation.floatbank10_sulfate_to_au_feed',\n",
      "       'rougher.calculation.floatbank11_sulfate_to_au_feed',\n",
      "       'rougher.calculation.au_pb_ratio', 'rougher.input.feed_ag',\n",
      "       'rougher.input.feed_pb', 'rougher.input.feed_rate',\n",
      "       'rougher.input.feed_size', 'rougher.input.feed_sol',\n",
      "       'rougher.input.feed_au', 'rougher.input.floatbank10_sulfate',\n",
      "       'rougher.input.floatbank10_xanthate',\n",
      "       'rougher.input.floatbank11_sulfate',\n",
      "       'rougher.input.floatbank11_xanthate', 'rougher.output.concentrate_ag',\n",
      "       'rougher.output.concentrate_pb', 'rougher.output.concentrate_sol',\n",
      "       'rougher.output.concentrate_au', 'rougher.output.recovery',\n",
      "       'rougher.output.tail_ag', 'rougher.output.tail_pb',\n",
      "       'rougher.output.tail_sol', 'rougher.output.tail_au',\n",
      "       'rougher.state.floatbank10_a_air', 'rougher.state.floatbank10_a_level',\n",
      "       'rougher.state.floatbank10_b_air', 'rougher.state.floatbank10_b_level',\n",
      "       'rougher.state.floatbank10_c_air', 'rougher.state.floatbank10_c_level',\n",
      "       'rougher.state.floatbank10_d_air', 'rougher.state.floatbank10_d_level',\n",
      "       'rougher.state.floatbank10_e_air', 'rougher.state.floatbank10_e_level',\n",
      "       'rougher.state.floatbank10_f_air', 'rougher.state.floatbank10_f_level',\n",
      "       'secondary_cleaner.output.tail_ag', 'secondary_cleaner.output.tail_pb',\n",
      "       'secondary_cleaner.output.tail_sol', 'secondary_cleaner.output.tail_au',\n",
      "       'secondary_cleaner.state.floatbank2_a_air',\n",
      "       'secondary_cleaner.state.floatbank2_a_level',\n",
      "       'secondary_cleaner.state.floatbank2_b_air',\n",
      "       'secondary_cleaner.state.floatbank2_b_level',\n",
      "       'secondary_cleaner.state.floatbank3_a_air',\n",
      "       'secondary_cleaner.state.floatbank3_a_level',\n",
      "       'secondary_cleaner.state.floatbank3_b_air',\n",
      "       'secondary_cleaner.state.floatbank3_b_level',\n",
      "       'secondary_cleaner.state.floatbank4_a_air',\n",
      "       'secondary_cleaner.state.floatbank4_a_level',\n",
      "       'secondary_cleaner.state.floatbank4_b_air',\n",
      "       'secondary_cleaner.state.floatbank4_b_level',\n",
      "       'secondary_cleaner.state.floatbank5_a_air',\n",
      "       'secondary_cleaner.state.floatbank5_a_level',\n",
      "       'secondary_cleaner.state.floatbank5_b_air',\n",
      "       'secondary_cleaner.state.floatbank5_b_level',\n",
      "       'secondary_cleaner.state.floatbank6_a_air',\n",
      "       'secondary_cleaner.state.floatbank6_a_level'],\n",
      "      dtype='object')\n"
     ]
    },
    {
     "data": {
      "text/html": [
       "<div>\n",
       "<style scoped>\n",
       "    .dataframe tbody tr th:only-of-type {\n",
       "        vertical-align: middle;\n",
       "    }\n",
       "\n",
       "    .dataframe tbody tr th {\n",
       "        vertical-align: top;\n",
       "    }\n",
       "\n",
       "    .dataframe thead th {\n",
       "        text-align: right;\n",
       "    }\n",
       "</style>\n",
       "<table border=\"1\" class=\"dataframe\">\n",
       "  <thead>\n",
       "    <tr style=\"text-align: right;\">\n",
       "      <th></th>\n",
       "      <th>date</th>\n",
       "      <th>final.output.concentrate_ag</th>\n",
       "      <th>final.output.concentrate_pb</th>\n",
       "      <th>final.output.concentrate_sol</th>\n",
       "      <th>final.output.concentrate_au</th>\n",
       "      <th>final.output.recovery</th>\n",
       "      <th>final.output.tail_ag</th>\n",
       "      <th>final.output.tail_pb</th>\n",
       "      <th>final.output.tail_sol</th>\n",
       "      <th>final.output.tail_au</th>\n",
       "      <th>...</th>\n",
       "      <th>secondary_cleaner.state.floatbank4_a_air</th>\n",
       "      <th>secondary_cleaner.state.floatbank4_a_level</th>\n",
       "      <th>secondary_cleaner.state.floatbank4_b_air</th>\n",
       "      <th>secondary_cleaner.state.floatbank4_b_level</th>\n",
       "      <th>secondary_cleaner.state.floatbank5_a_air</th>\n",
       "      <th>secondary_cleaner.state.floatbank5_a_level</th>\n",
       "      <th>secondary_cleaner.state.floatbank5_b_air</th>\n",
       "      <th>secondary_cleaner.state.floatbank5_b_level</th>\n",
       "      <th>secondary_cleaner.state.floatbank6_a_air</th>\n",
       "      <th>secondary_cleaner.state.floatbank6_a_level</th>\n",
       "    </tr>\n",
       "  </thead>\n",
       "  <tbody>\n",
       "    <tr>\n",
       "      <th>0</th>\n",
       "      <td>2016-01-15 00:00:00</td>\n",
       "      <td>6.055403</td>\n",
       "      <td>9.889648</td>\n",
       "      <td>5.507324</td>\n",
       "      <td>42.192020</td>\n",
       "      <td>70.541216</td>\n",
       "      <td>10.411962</td>\n",
       "      <td>0.895447</td>\n",
       "      <td>16.904297</td>\n",
       "      <td>2.143149</td>\n",
       "      <td>...</td>\n",
       "      <td>14.016835</td>\n",
       "      <td>-502.488007</td>\n",
       "      <td>12.099931</td>\n",
       "      <td>-504.715942</td>\n",
       "      <td>9.925633</td>\n",
       "      <td>-498.310211</td>\n",
       "      <td>8.079666</td>\n",
       "      <td>-500.470978</td>\n",
       "      <td>14.151341</td>\n",
       "      <td>-605.841980</td>\n",
       "    </tr>\n",
       "    <tr>\n",
       "      <th>1</th>\n",
       "      <td>2016-01-15 01:00:00</td>\n",
       "      <td>6.029369</td>\n",
       "      <td>9.968944</td>\n",
       "      <td>5.257781</td>\n",
       "      <td>42.701629</td>\n",
       "      <td>69.266198</td>\n",
       "      <td>10.462676</td>\n",
       "      <td>0.927452</td>\n",
       "      <td>16.634514</td>\n",
       "      <td>2.224930</td>\n",
       "      <td>...</td>\n",
       "      <td>13.992281</td>\n",
       "      <td>-505.503262</td>\n",
       "      <td>11.950531</td>\n",
       "      <td>-501.331529</td>\n",
       "      <td>10.039245</td>\n",
       "      <td>-500.169983</td>\n",
       "      <td>7.984757</td>\n",
       "      <td>-500.582168</td>\n",
       "      <td>13.998353</td>\n",
       "      <td>-599.787184</td>\n",
       "    </tr>\n",
       "    <tr>\n",
       "      <th>2</th>\n",
       "      <td>2016-01-15 02:00:00</td>\n",
       "      <td>6.055926</td>\n",
       "      <td>10.213995</td>\n",
       "      <td>5.383759</td>\n",
       "      <td>42.657501</td>\n",
       "      <td>68.116445</td>\n",
       "      <td>10.507046</td>\n",
       "      <td>0.953716</td>\n",
       "      <td>16.208849</td>\n",
       "      <td>2.257889</td>\n",
       "      <td>...</td>\n",
       "      <td>14.015015</td>\n",
       "      <td>-502.520901</td>\n",
       "      <td>11.912783</td>\n",
       "      <td>-501.133383</td>\n",
       "      <td>10.070913</td>\n",
       "      <td>-500.129135</td>\n",
       "      <td>8.013877</td>\n",
       "      <td>-500.517572</td>\n",
       "      <td>14.028663</td>\n",
       "      <td>-601.427363</td>\n",
       "    </tr>\n",
       "    <tr>\n",
       "      <th>3</th>\n",
       "      <td>2016-01-15 03:00:00</td>\n",
       "      <td>6.047977</td>\n",
       "      <td>9.977019</td>\n",
       "      <td>4.858634</td>\n",
       "      <td>42.689819</td>\n",
       "      <td>68.347543</td>\n",
       "      <td>10.422762</td>\n",
       "      <td>0.883763</td>\n",
       "      <td>16.532835</td>\n",
       "      <td>2.146849</td>\n",
       "      <td>...</td>\n",
       "      <td>14.036510</td>\n",
       "      <td>-500.857308</td>\n",
       "      <td>11.999550</td>\n",
       "      <td>-501.193686</td>\n",
       "      <td>9.970366</td>\n",
       "      <td>-499.201640</td>\n",
       "      <td>7.977324</td>\n",
       "      <td>-500.255908</td>\n",
       "      <td>14.005551</td>\n",
       "      <td>-599.996129</td>\n",
       "    </tr>\n",
       "    <tr>\n",
       "      <th>4</th>\n",
       "      <td>2016-01-15 04:00:00</td>\n",
       "      <td>6.148599</td>\n",
       "      <td>10.142511</td>\n",
       "      <td>4.939416</td>\n",
       "      <td>42.774141</td>\n",
       "      <td>66.927016</td>\n",
       "      <td>10.360302</td>\n",
       "      <td>0.792826</td>\n",
       "      <td>16.525686</td>\n",
       "      <td>2.055292</td>\n",
       "      <td>...</td>\n",
       "      <td>14.027298</td>\n",
       "      <td>-499.838632</td>\n",
       "      <td>11.953070</td>\n",
       "      <td>-501.053894</td>\n",
       "      <td>9.925709</td>\n",
       "      <td>-501.686727</td>\n",
       "      <td>7.894242</td>\n",
       "      <td>-500.356035</td>\n",
       "      <td>13.996647</td>\n",
       "      <td>-601.496691</td>\n",
       "    </tr>\n",
       "    <tr>\n",
       "      <th>...</th>\n",
       "      <td>...</td>\n",
       "      <td>...</td>\n",
       "      <td>...</td>\n",
       "      <td>...</td>\n",
       "      <td>...</td>\n",
       "      <td>...</td>\n",
       "      <td>...</td>\n",
       "      <td>...</td>\n",
       "      <td>...</td>\n",
       "      <td>...</td>\n",
       "      <td>...</td>\n",
       "      <td>...</td>\n",
       "      <td>...</td>\n",
       "      <td>...</td>\n",
       "      <td>...</td>\n",
       "      <td>...</td>\n",
       "      <td>...</td>\n",
       "      <td>...</td>\n",
       "      <td>...</td>\n",
       "      <td>...</td>\n",
       "      <td>...</td>\n",
       "    </tr>\n",
       "    <tr>\n",
       "      <th>16855</th>\n",
       "      <td>2018-08-18 06:59:59</td>\n",
       "      <td>3.224920</td>\n",
       "      <td>11.356233</td>\n",
       "      <td>6.803482</td>\n",
       "      <td>46.713954</td>\n",
       "      <td>73.755150</td>\n",
       "      <td>8.769645</td>\n",
       "      <td>3.141541</td>\n",
       "      <td>10.403181</td>\n",
       "      <td>1.529220</td>\n",
       "      <td>...</td>\n",
       "      <td>23.031497</td>\n",
       "      <td>-501.167942</td>\n",
       "      <td>20.007571</td>\n",
       "      <td>-499.740028</td>\n",
       "      <td>18.006038</td>\n",
       "      <td>-499.834374</td>\n",
       "      <td>13.001114</td>\n",
       "      <td>-500.155694</td>\n",
       "      <td>20.007840</td>\n",
       "      <td>-501.296428</td>\n",
       "    </tr>\n",
       "    <tr>\n",
       "      <th>16856</th>\n",
       "      <td>2018-08-18 07:59:59</td>\n",
       "      <td>3.195978</td>\n",
       "      <td>11.349355</td>\n",
       "      <td>6.862249</td>\n",
       "      <td>46.866780</td>\n",
       "      <td>69.049291</td>\n",
       "      <td>8.897321</td>\n",
       "      <td>3.130493</td>\n",
       "      <td>10.549470</td>\n",
       "      <td>1.612542</td>\n",
       "      <td>...</td>\n",
       "      <td>22.960095</td>\n",
       "      <td>-501.612783</td>\n",
       "      <td>20.035660</td>\n",
       "      <td>-500.251357</td>\n",
       "      <td>17.998535</td>\n",
       "      <td>-500.395178</td>\n",
       "      <td>12.954048</td>\n",
       "      <td>-499.895163</td>\n",
       "      <td>19.968498</td>\n",
       "      <td>-501.041608</td>\n",
       "    </tr>\n",
       "    <tr>\n",
       "      <th>16857</th>\n",
       "      <td>2018-08-18 08:59:59</td>\n",
       "      <td>3.109998</td>\n",
       "      <td>11.434366</td>\n",
       "      <td>6.886013</td>\n",
       "      <td>46.795691</td>\n",
       "      <td>67.002189</td>\n",
       "      <td>8.529606</td>\n",
       "      <td>2.911418</td>\n",
       "      <td>11.115147</td>\n",
       "      <td>1.596616</td>\n",
       "      <td>...</td>\n",
       "      <td>23.015718</td>\n",
       "      <td>-501.711599</td>\n",
       "      <td>19.951231</td>\n",
       "      <td>-499.857027</td>\n",
       "      <td>18.019543</td>\n",
       "      <td>-500.451156</td>\n",
       "      <td>13.023431</td>\n",
       "      <td>-499.914391</td>\n",
       "      <td>19.990885</td>\n",
       "      <td>-501.518452</td>\n",
       "    </tr>\n",
       "    <tr>\n",
       "      <th>16858</th>\n",
       "      <td>2018-08-18 09:59:59</td>\n",
       "      <td>3.367241</td>\n",
       "      <td>11.625587</td>\n",
       "      <td>6.799433</td>\n",
       "      <td>46.408188</td>\n",
       "      <td>65.523246</td>\n",
       "      <td>8.777171</td>\n",
       "      <td>2.819214</td>\n",
       "      <td>10.463847</td>\n",
       "      <td>1.602879</td>\n",
       "      <td>...</td>\n",
       "      <td>23.024963</td>\n",
       "      <td>-501.153409</td>\n",
       "      <td>20.054122</td>\n",
       "      <td>-500.314711</td>\n",
       "      <td>17.979515</td>\n",
       "      <td>-499.272871</td>\n",
       "      <td>12.992404</td>\n",
       "      <td>-499.976268</td>\n",
       "      <td>20.013986</td>\n",
       "      <td>-500.625471</td>\n",
       "    </tr>\n",
       "    <tr>\n",
       "      <th>16859</th>\n",
       "      <td>2018-08-18 10:59:59</td>\n",
       "      <td>3.598375</td>\n",
       "      <td>11.737832</td>\n",
       "      <td>6.717509</td>\n",
       "      <td>46.299438</td>\n",
       "      <td>70.281454</td>\n",
       "      <td>8.406690</td>\n",
       "      <td>2.517518</td>\n",
       "      <td>10.652193</td>\n",
       "      <td>1.389434</td>\n",
       "      <td>...</td>\n",
       "      <td>23.018622</td>\n",
       "      <td>-500.492702</td>\n",
       "      <td>20.020205</td>\n",
       "      <td>-500.220296</td>\n",
       "      <td>17.963512</td>\n",
       "      <td>-499.939490</td>\n",
       "      <td>12.990306</td>\n",
       "      <td>-500.080993</td>\n",
       "      <td>19.990336</td>\n",
       "      <td>-499.191575</td>\n",
       "    </tr>\n",
       "  </tbody>\n",
       "</table>\n",
       "<p>16860 rows × 87 columns</p>\n",
       "</div>"
      ],
      "text/plain": [
       "                      date  final.output.concentrate_ag  \\\n",
       "0      2016-01-15 00:00:00                     6.055403   \n",
       "1      2016-01-15 01:00:00                     6.029369   \n",
       "2      2016-01-15 02:00:00                     6.055926   \n",
       "3      2016-01-15 03:00:00                     6.047977   \n",
       "4      2016-01-15 04:00:00                     6.148599   \n",
       "...                    ...                          ...   \n",
       "16855  2018-08-18 06:59:59                     3.224920   \n",
       "16856  2018-08-18 07:59:59                     3.195978   \n",
       "16857  2018-08-18 08:59:59                     3.109998   \n",
       "16858  2018-08-18 09:59:59                     3.367241   \n",
       "16859  2018-08-18 10:59:59                     3.598375   \n",
       "\n",
       "       final.output.concentrate_pb  final.output.concentrate_sol  \\\n",
       "0                         9.889648                      5.507324   \n",
       "1                         9.968944                      5.257781   \n",
       "2                        10.213995                      5.383759   \n",
       "3                         9.977019                      4.858634   \n",
       "4                        10.142511                      4.939416   \n",
       "...                            ...                           ...   \n",
       "16855                    11.356233                      6.803482   \n",
       "16856                    11.349355                      6.862249   \n",
       "16857                    11.434366                      6.886013   \n",
       "16858                    11.625587                      6.799433   \n",
       "16859                    11.737832                      6.717509   \n",
       "\n",
       "       final.output.concentrate_au  final.output.recovery  \\\n",
       "0                        42.192020              70.541216   \n",
       "1                        42.701629              69.266198   \n",
       "2                        42.657501              68.116445   \n",
       "3                        42.689819              68.347543   \n",
       "4                        42.774141              66.927016   \n",
       "...                            ...                    ...   \n",
       "16855                    46.713954              73.755150   \n",
       "16856                    46.866780              69.049291   \n",
       "16857                    46.795691              67.002189   \n",
       "16858                    46.408188              65.523246   \n",
       "16859                    46.299438              70.281454   \n",
       "\n",
       "       final.output.tail_ag  final.output.tail_pb  final.output.tail_sol  \\\n",
       "0                 10.411962              0.895447              16.904297   \n",
       "1                 10.462676              0.927452              16.634514   \n",
       "2                 10.507046              0.953716              16.208849   \n",
       "3                 10.422762              0.883763              16.532835   \n",
       "4                 10.360302              0.792826              16.525686   \n",
       "...                     ...                   ...                    ...   \n",
       "16855              8.769645              3.141541              10.403181   \n",
       "16856              8.897321              3.130493              10.549470   \n",
       "16857              8.529606              2.911418              11.115147   \n",
       "16858              8.777171              2.819214              10.463847   \n",
       "16859              8.406690              2.517518              10.652193   \n",
       "\n",
       "       final.output.tail_au  ...  secondary_cleaner.state.floatbank4_a_air  \\\n",
       "0                  2.143149  ...                                 14.016835   \n",
       "1                  2.224930  ...                                 13.992281   \n",
       "2                  2.257889  ...                                 14.015015   \n",
       "3                  2.146849  ...                                 14.036510   \n",
       "4                  2.055292  ...                                 14.027298   \n",
       "...                     ...  ...                                       ...   \n",
       "16855              1.529220  ...                                 23.031497   \n",
       "16856              1.612542  ...                                 22.960095   \n",
       "16857              1.596616  ...                                 23.015718   \n",
       "16858              1.602879  ...                                 23.024963   \n",
       "16859              1.389434  ...                                 23.018622   \n",
       "\n",
       "       secondary_cleaner.state.floatbank4_a_level  \\\n",
       "0                                     -502.488007   \n",
       "1                                     -505.503262   \n",
       "2                                     -502.520901   \n",
       "3                                     -500.857308   \n",
       "4                                     -499.838632   \n",
       "...                                           ...   \n",
       "16855                                 -501.167942   \n",
       "16856                                 -501.612783   \n",
       "16857                                 -501.711599   \n",
       "16858                                 -501.153409   \n",
       "16859                                 -500.492702   \n",
       "\n",
       "       secondary_cleaner.state.floatbank4_b_air  \\\n",
       "0                                     12.099931   \n",
       "1                                     11.950531   \n",
       "2                                     11.912783   \n",
       "3                                     11.999550   \n",
       "4                                     11.953070   \n",
       "...                                         ...   \n",
       "16855                                 20.007571   \n",
       "16856                                 20.035660   \n",
       "16857                                 19.951231   \n",
       "16858                                 20.054122   \n",
       "16859                                 20.020205   \n",
       "\n",
       "       secondary_cleaner.state.floatbank4_b_level  \\\n",
       "0                                     -504.715942   \n",
       "1                                     -501.331529   \n",
       "2                                     -501.133383   \n",
       "3                                     -501.193686   \n",
       "4                                     -501.053894   \n",
       "...                                           ...   \n",
       "16855                                 -499.740028   \n",
       "16856                                 -500.251357   \n",
       "16857                                 -499.857027   \n",
       "16858                                 -500.314711   \n",
       "16859                                 -500.220296   \n",
       "\n",
       "       secondary_cleaner.state.floatbank5_a_air  \\\n",
       "0                                      9.925633   \n",
       "1                                     10.039245   \n",
       "2                                     10.070913   \n",
       "3                                      9.970366   \n",
       "4                                      9.925709   \n",
       "...                                         ...   \n",
       "16855                                 18.006038   \n",
       "16856                                 17.998535   \n",
       "16857                                 18.019543   \n",
       "16858                                 17.979515   \n",
       "16859                                 17.963512   \n",
       "\n",
       "       secondary_cleaner.state.floatbank5_a_level  \\\n",
       "0                                     -498.310211   \n",
       "1                                     -500.169983   \n",
       "2                                     -500.129135   \n",
       "3                                     -499.201640   \n",
       "4                                     -501.686727   \n",
       "...                                           ...   \n",
       "16855                                 -499.834374   \n",
       "16856                                 -500.395178   \n",
       "16857                                 -500.451156   \n",
       "16858                                 -499.272871   \n",
       "16859                                 -499.939490   \n",
       "\n",
       "       secondary_cleaner.state.floatbank5_b_air  \\\n",
       "0                                      8.079666   \n",
       "1                                      7.984757   \n",
       "2                                      8.013877   \n",
       "3                                      7.977324   \n",
       "4                                      7.894242   \n",
       "...                                         ...   \n",
       "16855                                 13.001114   \n",
       "16856                                 12.954048   \n",
       "16857                                 13.023431   \n",
       "16858                                 12.992404   \n",
       "16859                                 12.990306   \n",
       "\n",
       "       secondary_cleaner.state.floatbank5_b_level  \\\n",
       "0                                     -500.470978   \n",
       "1                                     -500.582168   \n",
       "2                                     -500.517572   \n",
       "3                                     -500.255908   \n",
       "4                                     -500.356035   \n",
       "...                                           ...   \n",
       "16855                                 -500.155694   \n",
       "16856                                 -499.895163   \n",
       "16857                                 -499.914391   \n",
       "16858                                 -499.976268   \n",
       "16859                                 -500.080993   \n",
       "\n",
       "       secondary_cleaner.state.floatbank6_a_air  \\\n",
       "0                                     14.151341   \n",
       "1                                     13.998353   \n",
       "2                                     14.028663   \n",
       "3                                     14.005551   \n",
       "4                                     13.996647   \n",
       "...                                         ...   \n",
       "16855                                 20.007840   \n",
       "16856                                 19.968498   \n",
       "16857                                 19.990885   \n",
       "16858                                 20.013986   \n",
       "16859                                 19.990336   \n",
       "\n",
       "       secondary_cleaner.state.floatbank6_a_level  \n",
       "0                                     -605.841980  \n",
       "1                                     -599.787184  \n",
       "2                                     -601.427363  \n",
       "3                                     -599.996129  \n",
       "4                                     -601.496691  \n",
       "...                                           ...  \n",
       "16855                                 -501.296428  \n",
       "16856                                 -501.041608  \n",
       "16857                                 -501.518452  \n",
       "16858                                 -500.625471  \n",
       "16859                                 -499.191575  \n",
       "\n",
       "[16860 rows x 87 columns]"
      ]
     },
     "execution_count": 7,
     "metadata": {},
     "output_type": "execute_result"
    }
   ],
   "source": [
    "basicdataprep(golddf_train)"
   ]
  },
  {
   "cell_type": "code",
   "execution_count": 8,
   "metadata": {
    "trusted": true
   },
   "outputs": [
    {
     "name": "stdout",
     "output_type": "stream",
     "text": [
      "DataFrame Info:\n",
      "<class 'pandas.core.frame.DataFrame'>\n",
      "RangeIndex: 5856 entries, 0 to 5855\n",
      "Data columns (total 53 columns):\n",
      " #   Column                                      Non-Null Count  Dtype  \n",
      "---  ------                                      --------------  -----  \n",
      " 0   date                                        5856 non-null   object \n",
      " 1   primary_cleaner.input.sulfate               5554 non-null   float64\n",
      " 2   primary_cleaner.input.depressant            5572 non-null   float64\n",
      " 3   primary_cleaner.input.feed_size             5856 non-null   float64\n",
      " 4   primary_cleaner.input.xanthate              5690 non-null   float64\n",
      " 5   primary_cleaner.state.floatbank8_a_air      5840 non-null   float64\n",
      " 6   primary_cleaner.state.floatbank8_a_level    5840 non-null   float64\n",
      " 7   primary_cleaner.state.floatbank8_b_air      5840 non-null   float64\n",
      " 8   primary_cleaner.state.floatbank8_b_level    5840 non-null   float64\n",
      " 9   primary_cleaner.state.floatbank8_c_air      5840 non-null   float64\n",
      " 10  primary_cleaner.state.floatbank8_c_level    5840 non-null   float64\n",
      " 11  primary_cleaner.state.floatbank8_d_air      5840 non-null   float64\n",
      " 12  primary_cleaner.state.floatbank8_d_level    5840 non-null   float64\n",
      " 13  rougher.input.feed_ag                       5840 non-null   float64\n",
      " 14  rougher.input.feed_pb                       5840 non-null   float64\n",
      " 15  rougher.input.feed_rate                     5816 non-null   float64\n",
      " 16  rougher.input.feed_size                     5834 non-null   float64\n",
      " 17  rougher.input.feed_sol                      5789 non-null   float64\n",
      " 18  rougher.input.feed_au                       5840 non-null   float64\n",
      " 19  rougher.input.floatbank10_sulfate           5599 non-null   float64\n",
      " 20  rougher.input.floatbank10_xanthate          5733 non-null   float64\n",
      " 21  rougher.input.floatbank11_sulfate           5801 non-null   float64\n",
      " 22  rougher.input.floatbank11_xanthate          5503 non-null   float64\n",
      " 23  rougher.state.floatbank10_a_air             5839 non-null   float64\n",
      " 24  rougher.state.floatbank10_a_level           5840 non-null   float64\n",
      " 25  rougher.state.floatbank10_b_air             5839 non-null   float64\n",
      " 26  rougher.state.floatbank10_b_level           5840 non-null   float64\n",
      " 27  rougher.state.floatbank10_c_air             5839 non-null   float64\n",
      " 28  rougher.state.floatbank10_c_level           5840 non-null   float64\n",
      " 29  rougher.state.floatbank10_d_air             5839 non-null   float64\n",
      " 30  rougher.state.floatbank10_d_level           5840 non-null   float64\n",
      " 31  rougher.state.floatbank10_e_air             5839 non-null   float64\n",
      " 32  rougher.state.floatbank10_e_level           5840 non-null   float64\n",
      " 33  rougher.state.floatbank10_f_air             5839 non-null   float64\n",
      " 34  rougher.state.floatbank10_f_level           5840 non-null   float64\n",
      " 35  secondary_cleaner.state.floatbank2_a_air    5836 non-null   float64\n",
      " 36  secondary_cleaner.state.floatbank2_a_level  5840 non-null   float64\n",
      " 37  secondary_cleaner.state.floatbank2_b_air    5833 non-null   float64\n",
      " 38  secondary_cleaner.state.floatbank2_b_level  5840 non-null   float64\n",
      " 39  secondary_cleaner.state.floatbank3_a_air    5822 non-null   float64\n",
      " 40  secondary_cleaner.state.floatbank3_a_level  5840 non-null   float64\n",
      " 41  secondary_cleaner.state.floatbank3_b_air    5840 non-null   float64\n",
      " 42  secondary_cleaner.state.floatbank3_b_level  5840 non-null   float64\n",
      " 43  secondary_cleaner.state.floatbank4_a_air    5840 non-null   float64\n",
      " 44  secondary_cleaner.state.floatbank4_a_level  5840 non-null   float64\n",
      " 45  secondary_cleaner.state.floatbank4_b_air    5840 non-null   float64\n",
      " 46  secondary_cleaner.state.floatbank4_b_level  5840 non-null   float64\n",
      " 47  secondary_cleaner.state.floatbank5_a_air    5840 non-null   float64\n",
      " 48  secondary_cleaner.state.floatbank5_a_level  5840 non-null   float64\n",
      " 49  secondary_cleaner.state.floatbank5_b_air    5840 non-null   float64\n",
      " 50  secondary_cleaner.state.floatbank5_b_level  5840 non-null   float64\n",
      " 51  secondary_cleaner.state.floatbank6_a_air    5840 non-null   float64\n",
      " 52  secondary_cleaner.state.floatbank6_a_level  5840 non-null   float64\n",
      "dtypes: float64(52), object(1)\n",
      "memory usage: 2.4+ MB\n",
      "None \n",
      "\n",
      "Descriptive Stats:\n",
      "       primary_cleaner.input.sulfate  primary_cleaner.input.depressant  \\\n",
      "count                    5554.000000                       5572.000000   \n",
      "mean                      170.515243                          8.482873   \n",
      "std                        49.608602                          3.353105   \n",
      "min                         0.000103                          0.000031   \n",
      "25%                       143.340022                          6.411500   \n",
      "50%                       176.103893                          8.023252   \n",
      "75%                       207.240761                         10.017725   \n",
      "max                       274.409626                         40.024582   \n",
      "\n",
      "       primary_cleaner.input.feed_size  primary_cleaner.input.xanthate  \\\n",
      "count                      5856.000000                     5690.000000   \n",
      "mean                          7.264651                        1.321420   \n",
      "std                           0.611526                        0.693246   \n",
      "min                           5.650000                        0.000003   \n",
      "25%                           6.885625                        0.888769   \n",
      "50%                           7.259333                        1.183362   \n",
      "75%                           7.650000                        1.763797   \n",
      "max                          15.500000                        5.433169   \n",
      "\n",
      "       primary_cleaner.state.floatbank8_a_air  \\\n",
      "count                             5840.000000   \n",
      "mean                              1481.990241   \n",
      "std                                310.453166   \n",
      "min                                  0.000000   \n",
      "25%                               1497.190681   \n",
      "50%                               1554.659783   \n",
      "75%                               1601.681656   \n",
      "max                               2212.432090   \n",
      "\n",
      "       primary_cleaner.state.floatbank8_a_level  \\\n",
      "count                               5840.000000   \n",
      "mean                                -509.057796   \n",
      "std                                   61.339256   \n",
      "min                                 -799.773788   \n",
      "25%                                 -500.455211   \n",
      "50%                                 -499.997402   \n",
      "75%                                 -499.575313   \n",
      "max                                  -57.195404   \n",
      "\n",
      "       primary_cleaner.state.floatbank8_b_air  \\\n",
      "count                             5840.000000   \n",
      "mean                              1486.908670   \n",
      "std                                313.224286   \n",
      "min                                  0.000000   \n",
      "25%                               1497.150234   \n",
      "50%                               1553.268084   \n",
      "75%                               1601.784707   \n",
      "max                               1975.147923   \n",
      "\n",
      "       primary_cleaner.state.floatbank8_b_level  \\\n",
      "count                               5840.000000   \n",
      "mean                                -511.743956   \n",
      "std                                   67.139074   \n",
      "min                                 -800.029078   \n",
      "25%                                 -500.936639   \n",
      "50%                                 -500.066588   \n",
      "75%                                 -499.323361   \n",
      "max                                 -142.527229   \n",
      "\n",
      "       primary_cleaner.state.floatbank8_c_air  \\\n",
      "count                             5840.000000   \n",
      "mean                              1468.495216   \n",
      "std                                309.980748   \n",
      "min                                  0.000000   \n",
      "25%                               1437.050321   \n",
      "50%                               1546.160672   \n",
      "75%                               1600.785573   \n",
      "max                               1715.053773   \n",
      "\n",
      "       primary_cleaner.state.floatbank8_c_level  ...  \\\n",
      "count                               5840.000000  ...   \n",
      "mean                                -509.741212  ...   \n",
      "std                                   62.671873  ...   \n",
      "min                                 -799.995127  ...   \n",
      "25%                                 -501.300441  ...   \n",
      "50%                                 -500.079537  ...   \n",
      "75%                                 -499.009545  ...   \n",
      "max                                 -150.937035  ...   \n",
      "\n",
      "       secondary_cleaner.state.floatbank4_a_air  \\\n",
      "count                               5840.000000   \n",
      "mean                                  15.636031   \n",
      "std                                    4.660835   \n",
      "min                                    0.000000   \n",
      "25%                                   12.057838   \n",
      "50%                                   17.001867   \n",
      "75%                                   18.030985   \n",
      "max                                   30.051797   \n",
      "\n",
      "       secondary_cleaner.state.floatbank4_a_level  \\\n",
      "count                                 5840.000000   \n",
      "mean                                  -516.266074   \n",
      "std                                     62.756748   \n",
      "min                                   -799.798523   \n",
      "25%                                   -501.054741   \n",
      "50%                                   -500.160145   \n",
      "75%                                   -499.441529   \n",
      "max                                   -401.565212   \n",
      "\n",
      "       secondary_cleaner.state.floatbank4_b_air  \\\n",
      "count                               5840.000000   \n",
      "mean                                  13.145702   \n",
      "std                                    4.304086   \n",
      "min                                    0.000000   \n",
      "25%                                   11.880119   \n",
      "50%                                   14.952102   \n",
      "75%                                   15.940011   \n",
      "max                                   31.269706   \n",
      "\n",
      "       secondary_cleaner.state.floatbank4_b_level  \\\n",
      "count                                 5840.000000   \n",
      "mean                                  -476.338907   \n",
      "std                                    105.549424   \n",
      "min                                   -800.836914   \n",
      "25%                                   -500.419113   \n",
      "50%                                   -499.644328   \n",
      "75%                                   -401.523664   \n",
      "max                                     -6.506986   \n",
      "\n",
      "       secondary_cleaner.state.floatbank5_a_air  \\\n",
      "count                               5840.000000   \n",
      "mean                                  12.308967   \n",
      "std                                    3.762827   \n",
      "min                                   -0.223393   \n",
      "25%                                   10.123459   \n",
      "50%                                   12.062877   \n",
      "75%                                   15.017881   \n",
      "max                                   25.258848   \n",
      "\n",
      "       secondary_cleaner.state.floatbank5_a_level  \\\n",
      "count                                 5840.000000   \n",
      "mean                                  -512.208126   \n",
      "std                                     58.864651   \n",
      "min                                   -799.661076   \n",
      "25%                                   -500.879383   \n",
      "50%                                   -500.047621   \n",
      "75%                                   -499.297033   \n",
      "max                                   -244.483566   \n",
      "\n",
      "       secondary_cleaner.state.floatbank5_b_air  \\\n",
      "count                               5840.000000   \n",
      "mean                                   9.470986   \n",
      "std                                    3.312471   \n",
      "min                                    0.528083   \n",
      "25%                                    7.991208   \n",
      "50%                                    9.980774   \n",
      "75%                                   11.992176   \n",
      "max                                   14.090194   \n",
      "\n",
      "       secondary_cleaner.state.floatbank5_b_level  \\\n",
      "count                                 5840.000000   \n",
      "mean                                  -505.017827   \n",
      "std                                     68.785898   \n",
      "min                                   -800.220337   \n",
      "25%                                   -500.223089   \n",
      "50%                                   -500.001338   \n",
      "75%                                   -499.722835   \n",
      "max                                   -126.463446   \n",
      "\n",
      "       secondary_cleaner.state.floatbank6_a_air  \\\n",
      "count                               5840.000000   \n",
      "mean                                  16.678722   \n",
      "std                                    5.404514   \n",
      "min                                   -0.079426   \n",
      "25%                                   13.012422   \n",
      "50%                                   16.007242   \n",
      "75%                                   21.009076   \n",
      "max                                   26.705889   \n",
      "\n",
      "       secondary_cleaner.state.floatbank6_a_level  \n",
      "count                                 5840.000000  \n",
      "mean                                  -512.351694  \n",
      "std                                     69.919839  \n",
      "min                                   -809.859706  \n",
      "25%                                   -500.833821  \n",
      "50%                                   -500.041085  \n",
      "75%                                   -499.395621  \n",
      "max                                    -29.093593  \n",
      "\n",
      "[8 rows x 52 columns] \n",
      "\n",
      "Random Sample:\n",
      "                     date  primary_cleaner.input.sulfate  \\\n",
      "4978  2017-11-25 10:59:59                     208.661530   \n",
      "2133  2016-11-28 21:59:59                     220.314173   \n",
      "2516  2016-12-14 20:59:59                     197.877727   \n",
      "5463  2017-12-15 15:59:59                     150.262167   \n",
      "4385  2017-10-31 17:59:59                     216.983839   \n",
      "\n",
      "      primary_cleaner.input.depressant  primary_cleaner.input.feed_size  \\\n",
      "4978                          8.480312                             7.08   \n",
      "2133                          8.002171                             6.87   \n",
      "2516                         10.529339                             8.00   \n",
      "5463                          5.524997                             6.64   \n",
      "4385                         10.546904                             7.40   \n",
      "\n",
      "      primary_cleaner.input.xanthate  primary_cleaner.state.floatbank8_a_air  \\\n",
      "4978                        2.498088                             1638.721902   \n",
      "2133                        1.294430                             1503.489485   \n",
      "2516                        1.089015                             1602.874585   \n",
      "5463                        1.002942                             1548.922977   \n",
      "4385                        2.516666                             1801.396321   \n",
      "\n",
      "      primary_cleaner.state.floatbank8_a_level  \\\n",
      "4978                               -500.393323   \n",
      "2133                               -499.959033   \n",
      "2516                               -499.758360   \n",
      "5463                               -501.673620   \n",
      "4385                               -499.832027   \n",
      "\n",
      "      primary_cleaner.state.floatbank8_b_air  \\\n",
      "4978                             1638.698451   \n",
      "2133                             1497.201804   \n",
      "2516                             1602.027117   \n",
      "5463                             1549.256516   \n",
      "4385                             1782.933196   \n",
      "\n",
      "      primary_cleaner.state.floatbank8_b_level  \\\n",
      "4978                               -499.004403   \n",
      "2133                               -500.047877   \n",
      "2516                               -500.814738   \n",
      "5463                               -798.698579   \n",
      "4385                               -501.176501   \n",
      "\n",
      "      primary_cleaner.state.floatbank8_c_air  ...  \\\n",
      "4978                             1610.426862  ...   \n",
      "2133                             1500.666861  ...   \n",
      "2516                             1599.138091  ...   \n",
      "5463                             1549.836488  ...   \n",
      "4385                             1313.867866  ...   \n",
      "\n",
      "      secondary_cleaner.state.floatbank4_a_air  \\\n",
      "4978                                 16.998853   \n",
      "2133                                 18.037308   \n",
      "2516                                 16.994335   \n",
      "5463                                 20.059912   \n",
      "4385                                 18.010665   \n",
      "\n",
      "      secondary_cleaner.state.floatbank4_a_level  \\\n",
      "4978                                 -497.060335   \n",
      "2133                                 -499.451956   \n",
      "2516                                 -499.672431   \n",
      "5463                                 -501.092380   \n",
      "4385                                 -498.113187   \n",
      "\n",
      "      secondary_cleaner.state.floatbank4_b_air  \\\n",
      "4978                                 14.921303   \n",
      "2133                                 15.866397   \n",
      "2516                                 14.958968   \n",
      "5463                                 14.845413   \n",
      "4385                                 15.980731   \n",
      "\n",
      "      secondary_cleaner.state.floatbank4_b_level  \\\n",
      "4978                                 -497.450298   \n",
      "2133                                 -499.846381   \n",
      "2516                                 -499.421584   \n",
      "5463                                 -153.273349   \n",
      "4385                                 -499.227673   \n",
      "\n",
      "      secondary_cleaner.state.floatbank5_a_air  \\\n",
      "4978                                 10.949830   \n",
      "2133                                 16.578408   \n",
      "2516                                 17.745887   \n",
      "5463                                 10.956109   \n",
      "4385                                 15.024550   \n",
      "\n",
      "      secondary_cleaner.state.floatbank5_a_level  \\\n",
      "4978                                 -498.466498   \n",
      "2133                                 -499.910808   \n",
      "2516                                 -499.559172   \n",
      "5463                                 -499.958557   \n",
      "4385                                 -429.349589   \n",
      "\n",
      "      secondary_cleaner.state.floatbank5_b_air  \\\n",
      "4978                                  9.035722   \n",
      "2133                                 11.999958   \n",
      "2516                                 11.961222   \n",
      "5463                                  8.035159   \n",
      "4385                                 11.006896   \n",
      "\n",
      "      secondary_cleaner.state.floatbank5_b_level  \\\n",
      "4978                                 -499.727891   \n",
      "2133                                 -499.871094   \n",
      "2516                                 -500.117656   \n",
      "5463                                 -500.521059   \n",
      "4385                                 -167.325038   \n",
      "\n",
      "      secondary_cleaner.state.floatbank6_a_air  \\\n",
      "4978                                 16.002827   \n",
      "2133                                 22.002715   \n",
      "2516                                 21.007353   \n",
      "5463                                 12.013049   \n",
      "4385                                 15.986404   \n",
      "\n",
      "      secondary_cleaner.state.floatbank6_a_level  \n",
      "4978                                 -498.332984  \n",
      "2133                                 -501.881237  \n",
      "2516                                 -499.553347  \n",
      "5463                                 -501.332094  \n",
      "4385                                 -233.540161  \n",
      "\n",
      "[5 rows x 53 columns]\n",
      "Duplicates Amount:\n",
      "0\n",
      "DataFram Columns:\n",
      "Index(['date', 'primary_cleaner.input.sulfate',\n",
      "       'primary_cleaner.input.depressant', 'primary_cleaner.input.feed_size',\n",
      "       'primary_cleaner.input.xanthate',\n",
      "       'primary_cleaner.state.floatbank8_a_air',\n",
      "       'primary_cleaner.state.floatbank8_a_level',\n",
      "       'primary_cleaner.state.floatbank8_b_air',\n",
      "       'primary_cleaner.state.floatbank8_b_level',\n",
      "       'primary_cleaner.state.floatbank8_c_air',\n",
      "       'primary_cleaner.state.floatbank8_c_level',\n",
      "       'primary_cleaner.state.floatbank8_d_air',\n",
      "       'primary_cleaner.state.floatbank8_d_level', 'rougher.input.feed_ag',\n",
      "       'rougher.input.feed_pb', 'rougher.input.feed_rate',\n",
      "       'rougher.input.feed_size', 'rougher.input.feed_sol',\n",
      "       'rougher.input.feed_au', 'rougher.input.floatbank10_sulfate',\n",
      "       'rougher.input.floatbank10_xanthate',\n",
      "       'rougher.input.floatbank11_sulfate',\n",
      "       'rougher.input.floatbank11_xanthate', 'rougher.state.floatbank10_a_air',\n",
      "       'rougher.state.floatbank10_a_level', 'rougher.state.floatbank10_b_air',\n",
      "       'rougher.state.floatbank10_b_level', 'rougher.state.floatbank10_c_air',\n",
      "       'rougher.state.floatbank10_c_level', 'rougher.state.floatbank10_d_air',\n",
      "       'rougher.state.floatbank10_d_level', 'rougher.state.floatbank10_e_air',\n",
      "       'rougher.state.floatbank10_e_level', 'rougher.state.floatbank10_f_air',\n",
      "       'rougher.state.floatbank10_f_level',\n",
      "       'secondary_cleaner.state.floatbank2_a_air',\n",
      "       'secondary_cleaner.state.floatbank2_a_level',\n",
      "       'secondary_cleaner.state.floatbank2_b_air',\n",
      "       'secondary_cleaner.state.floatbank2_b_level',\n",
      "       'secondary_cleaner.state.floatbank3_a_air',\n",
      "       'secondary_cleaner.state.floatbank3_a_level',\n",
      "       'secondary_cleaner.state.floatbank3_b_air',\n",
      "       'secondary_cleaner.state.floatbank3_b_level',\n",
      "       'secondary_cleaner.state.floatbank4_a_air',\n",
      "       'secondary_cleaner.state.floatbank4_a_level',\n",
      "       'secondary_cleaner.state.floatbank4_b_air',\n",
      "       'secondary_cleaner.state.floatbank4_b_level',\n",
      "       'secondary_cleaner.state.floatbank5_a_air',\n",
      "       'secondary_cleaner.state.floatbank5_a_level',\n",
      "       'secondary_cleaner.state.floatbank5_b_air',\n",
      "       'secondary_cleaner.state.floatbank5_b_level',\n",
      "       'secondary_cleaner.state.floatbank6_a_air',\n",
      "       'secondary_cleaner.state.floatbank6_a_level'],\n",
      "      dtype='object')\n"
     ]
    },
    {
     "data": {
      "text/html": [
       "<div>\n",
       "<style scoped>\n",
       "    .dataframe tbody tr th:only-of-type {\n",
       "        vertical-align: middle;\n",
       "    }\n",
       "\n",
       "    .dataframe tbody tr th {\n",
       "        vertical-align: top;\n",
       "    }\n",
       "\n",
       "    .dataframe thead th {\n",
       "        text-align: right;\n",
       "    }\n",
       "</style>\n",
       "<table border=\"1\" class=\"dataframe\">\n",
       "  <thead>\n",
       "    <tr style=\"text-align: right;\">\n",
       "      <th></th>\n",
       "      <th>date</th>\n",
       "      <th>primary_cleaner.input.sulfate</th>\n",
       "      <th>primary_cleaner.input.depressant</th>\n",
       "      <th>primary_cleaner.input.feed_size</th>\n",
       "      <th>primary_cleaner.input.xanthate</th>\n",
       "      <th>primary_cleaner.state.floatbank8_a_air</th>\n",
       "      <th>primary_cleaner.state.floatbank8_a_level</th>\n",
       "      <th>primary_cleaner.state.floatbank8_b_air</th>\n",
       "      <th>primary_cleaner.state.floatbank8_b_level</th>\n",
       "      <th>primary_cleaner.state.floatbank8_c_air</th>\n",
       "      <th>...</th>\n",
       "      <th>secondary_cleaner.state.floatbank4_a_air</th>\n",
       "      <th>secondary_cleaner.state.floatbank4_a_level</th>\n",
       "      <th>secondary_cleaner.state.floatbank4_b_air</th>\n",
       "      <th>secondary_cleaner.state.floatbank4_b_level</th>\n",
       "      <th>secondary_cleaner.state.floatbank5_a_air</th>\n",
       "      <th>secondary_cleaner.state.floatbank5_a_level</th>\n",
       "      <th>secondary_cleaner.state.floatbank5_b_air</th>\n",
       "      <th>secondary_cleaner.state.floatbank5_b_level</th>\n",
       "      <th>secondary_cleaner.state.floatbank6_a_air</th>\n",
       "      <th>secondary_cleaner.state.floatbank6_a_level</th>\n",
       "    </tr>\n",
       "  </thead>\n",
       "  <tbody>\n",
       "    <tr>\n",
       "      <th>0</th>\n",
       "      <td>2016-09-01 00:59:59</td>\n",
       "      <td>210.800909</td>\n",
       "      <td>14.993118</td>\n",
       "      <td>8.080000</td>\n",
       "      <td>1.005021</td>\n",
       "      <td>1398.981301</td>\n",
       "      <td>-500.225577</td>\n",
       "      <td>1399.144926</td>\n",
       "      <td>-499.919735</td>\n",
       "      <td>1400.102998</td>\n",
       "      <td>...</td>\n",
       "      <td>12.023554</td>\n",
       "      <td>-497.795834</td>\n",
       "      <td>8.016656</td>\n",
       "      <td>-501.289139</td>\n",
       "      <td>7.946562</td>\n",
       "      <td>-432.317850</td>\n",
       "      <td>4.872511</td>\n",
       "      <td>-500.037437</td>\n",
       "      <td>26.705889</td>\n",
       "      <td>-499.709414</td>\n",
       "    </tr>\n",
       "    <tr>\n",
       "      <th>1</th>\n",
       "      <td>2016-09-01 01:59:59</td>\n",
       "      <td>215.392455</td>\n",
       "      <td>14.987471</td>\n",
       "      <td>8.080000</td>\n",
       "      <td>0.990469</td>\n",
       "      <td>1398.777912</td>\n",
       "      <td>-500.057435</td>\n",
       "      <td>1398.055362</td>\n",
       "      <td>-499.778182</td>\n",
       "      <td>1396.151033</td>\n",
       "      <td>...</td>\n",
       "      <td>12.058140</td>\n",
       "      <td>-498.695773</td>\n",
       "      <td>8.130979</td>\n",
       "      <td>-499.634209</td>\n",
       "      <td>7.958270</td>\n",
       "      <td>-525.839648</td>\n",
       "      <td>4.878850</td>\n",
       "      <td>-500.162375</td>\n",
       "      <td>25.019940</td>\n",
       "      <td>-499.819438</td>\n",
       "    </tr>\n",
       "    <tr>\n",
       "      <th>2</th>\n",
       "      <td>2016-09-01 02:59:59</td>\n",
       "      <td>215.259946</td>\n",
       "      <td>12.884934</td>\n",
       "      <td>7.786667</td>\n",
       "      <td>0.996043</td>\n",
       "      <td>1398.493666</td>\n",
       "      <td>-500.868360</td>\n",
       "      <td>1398.860436</td>\n",
       "      <td>-499.764529</td>\n",
       "      <td>1398.075709</td>\n",
       "      <td>...</td>\n",
       "      <td>11.962366</td>\n",
       "      <td>-498.767484</td>\n",
       "      <td>8.096893</td>\n",
       "      <td>-500.827423</td>\n",
       "      <td>8.071056</td>\n",
       "      <td>-500.801673</td>\n",
       "      <td>4.905125</td>\n",
       "      <td>-499.828510</td>\n",
       "      <td>24.994862</td>\n",
       "      <td>-500.622559</td>\n",
       "    </tr>\n",
       "    <tr>\n",
       "      <th>3</th>\n",
       "      <td>2016-09-01 03:59:59</td>\n",
       "      <td>215.336236</td>\n",
       "      <td>12.006805</td>\n",
       "      <td>7.640000</td>\n",
       "      <td>0.863514</td>\n",
       "      <td>1399.618111</td>\n",
       "      <td>-498.863574</td>\n",
       "      <td>1397.440120</td>\n",
       "      <td>-499.211024</td>\n",
       "      <td>1400.129303</td>\n",
       "      <td>...</td>\n",
       "      <td>12.033091</td>\n",
       "      <td>-498.350935</td>\n",
       "      <td>8.074946</td>\n",
       "      <td>-499.474407</td>\n",
       "      <td>7.897085</td>\n",
       "      <td>-500.868509</td>\n",
       "      <td>4.931400</td>\n",
       "      <td>-499.963623</td>\n",
       "      <td>24.948919</td>\n",
       "      <td>-498.709987</td>\n",
       "    </tr>\n",
       "    <tr>\n",
       "      <th>4</th>\n",
       "      <td>2016-09-01 04:59:59</td>\n",
       "      <td>199.099327</td>\n",
       "      <td>10.682530</td>\n",
       "      <td>7.530000</td>\n",
       "      <td>0.805575</td>\n",
       "      <td>1401.268123</td>\n",
       "      <td>-500.808305</td>\n",
       "      <td>1398.128818</td>\n",
       "      <td>-499.504543</td>\n",
       "      <td>1402.172226</td>\n",
       "      <td>...</td>\n",
       "      <td>12.025367</td>\n",
       "      <td>-500.786497</td>\n",
       "      <td>8.054678</td>\n",
       "      <td>-500.397500</td>\n",
       "      <td>8.107890</td>\n",
       "      <td>-509.526725</td>\n",
       "      <td>4.957674</td>\n",
       "      <td>-500.360026</td>\n",
       "      <td>25.003331</td>\n",
       "      <td>-500.856333</td>\n",
       "    </tr>\n",
       "    <tr>\n",
       "      <th>...</th>\n",
       "      <td>...</td>\n",
       "      <td>...</td>\n",
       "      <td>...</td>\n",
       "      <td>...</td>\n",
       "      <td>...</td>\n",
       "      <td>...</td>\n",
       "      <td>...</td>\n",
       "      <td>...</td>\n",
       "      <td>...</td>\n",
       "      <td>...</td>\n",
       "      <td>...</td>\n",
       "      <td>...</td>\n",
       "      <td>...</td>\n",
       "      <td>...</td>\n",
       "      <td>...</td>\n",
       "      <td>...</td>\n",
       "      <td>...</td>\n",
       "      <td>...</td>\n",
       "      <td>...</td>\n",
       "      <td>...</td>\n",
       "      <td>...</td>\n",
       "    </tr>\n",
       "    <tr>\n",
       "      <th>5851</th>\n",
       "      <td>2017-12-31 19:59:59</td>\n",
       "      <td>173.957757</td>\n",
       "      <td>15.963399</td>\n",
       "      <td>8.070000</td>\n",
       "      <td>0.896701</td>\n",
       "      <td>1401.930554</td>\n",
       "      <td>-499.728848</td>\n",
       "      <td>1401.441445</td>\n",
       "      <td>-499.193423</td>\n",
       "      <td>1399.810313</td>\n",
       "      <td>...</td>\n",
       "      <td>13.995957</td>\n",
       "      <td>-500.157454</td>\n",
       "      <td>12.069155</td>\n",
       "      <td>-499.673279</td>\n",
       "      <td>7.977259</td>\n",
       "      <td>-499.516126</td>\n",
       "      <td>5.933319</td>\n",
       "      <td>-499.965973</td>\n",
       "      <td>8.987171</td>\n",
       "      <td>-499.755909</td>\n",
       "    </tr>\n",
       "    <tr>\n",
       "      <th>5852</th>\n",
       "      <td>2017-12-31 20:59:59</td>\n",
       "      <td>172.910270</td>\n",
       "      <td>16.002605</td>\n",
       "      <td>8.070000</td>\n",
       "      <td>0.896519</td>\n",
       "      <td>1447.075722</td>\n",
       "      <td>-494.716823</td>\n",
       "      <td>1448.851892</td>\n",
       "      <td>-465.963026</td>\n",
       "      <td>1443.890424</td>\n",
       "      <td>...</td>\n",
       "      <td>16.749781</td>\n",
       "      <td>-496.031539</td>\n",
       "      <td>13.365371</td>\n",
       "      <td>-499.122723</td>\n",
       "      <td>9.288553</td>\n",
       "      <td>-496.892967</td>\n",
       "      <td>7.372897</td>\n",
       "      <td>-499.942956</td>\n",
       "      <td>8.986832</td>\n",
       "      <td>-499.903761</td>\n",
       "    </tr>\n",
       "    <tr>\n",
       "      <th>5853</th>\n",
       "      <td>2017-12-31 21:59:59</td>\n",
       "      <td>171.135718</td>\n",
       "      <td>15.993669</td>\n",
       "      <td>8.070000</td>\n",
       "      <td>1.165996</td>\n",
       "      <td>1498.836182</td>\n",
       "      <td>-501.770403</td>\n",
       "      <td>1499.572353</td>\n",
       "      <td>-495.516347</td>\n",
       "      <td>1502.749213</td>\n",
       "      <td>...</td>\n",
       "      <td>19.994130</td>\n",
       "      <td>-499.791312</td>\n",
       "      <td>15.101425</td>\n",
       "      <td>-499.936252</td>\n",
       "      <td>10.989181</td>\n",
       "      <td>-498.347898</td>\n",
       "      <td>9.020944</td>\n",
       "      <td>-500.040448</td>\n",
       "      <td>8.982038</td>\n",
       "      <td>-497.789882</td>\n",
       "    </tr>\n",
       "    <tr>\n",
       "      <th>5854</th>\n",
       "      <td>2017-12-31 22:59:59</td>\n",
       "      <td>179.697158</td>\n",
       "      <td>15.438979</td>\n",
       "      <td>8.070000</td>\n",
       "      <td>1.501068</td>\n",
       "      <td>1498.466243</td>\n",
       "      <td>-500.483984</td>\n",
       "      <td>1497.986986</td>\n",
       "      <td>-519.200340</td>\n",
       "      <td>1496.569047</td>\n",
       "      <td>...</td>\n",
       "      <td>19.958760</td>\n",
       "      <td>-499.958750</td>\n",
       "      <td>15.026853</td>\n",
       "      <td>-499.723143</td>\n",
       "      <td>11.011607</td>\n",
       "      <td>-499.985046</td>\n",
       "      <td>9.009783</td>\n",
       "      <td>-499.937902</td>\n",
       "      <td>9.012660</td>\n",
       "      <td>-500.154284</td>\n",
       "    </tr>\n",
       "    <tr>\n",
       "      <th>5855</th>\n",
       "      <td>2017-12-31 23:59:59</td>\n",
       "      <td>181.556856</td>\n",
       "      <td>14.995850</td>\n",
       "      <td>8.070000</td>\n",
       "      <td>1.623454</td>\n",
       "      <td>1498.096303</td>\n",
       "      <td>-499.796922</td>\n",
       "      <td>1501.743791</td>\n",
       "      <td>-505.146931</td>\n",
       "      <td>1499.535978</td>\n",
       "      <td>...</td>\n",
       "      <td>20.034715</td>\n",
       "      <td>-500.728588</td>\n",
       "      <td>14.914199</td>\n",
       "      <td>-499.948518</td>\n",
       "      <td>10.986607</td>\n",
       "      <td>-500.658027</td>\n",
       "      <td>8.989497</td>\n",
       "      <td>-500.337588</td>\n",
       "      <td>8.988632</td>\n",
       "      <td>-500.764937</td>\n",
       "    </tr>\n",
       "  </tbody>\n",
       "</table>\n",
       "<p>5856 rows × 53 columns</p>\n",
       "</div>"
      ],
      "text/plain": [
       "                     date  primary_cleaner.input.sulfate  \\\n",
       "0     2016-09-01 00:59:59                     210.800909   \n",
       "1     2016-09-01 01:59:59                     215.392455   \n",
       "2     2016-09-01 02:59:59                     215.259946   \n",
       "3     2016-09-01 03:59:59                     215.336236   \n",
       "4     2016-09-01 04:59:59                     199.099327   \n",
       "...                   ...                            ...   \n",
       "5851  2017-12-31 19:59:59                     173.957757   \n",
       "5852  2017-12-31 20:59:59                     172.910270   \n",
       "5853  2017-12-31 21:59:59                     171.135718   \n",
       "5854  2017-12-31 22:59:59                     179.697158   \n",
       "5855  2017-12-31 23:59:59                     181.556856   \n",
       "\n",
       "      primary_cleaner.input.depressant  primary_cleaner.input.feed_size  \\\n",
       "0                            14.993118                         8.080000   \n",
       "1                            14.987471                         8.080000   \n",
       "2                            12.884934                         7.786667   \n",
       "3                            12.006805                         7.640000   \n",
       "4                            10.682530                         7.530000   \n",
       "...                                ...                              ...   \n",
       "5851                         15.963399                         8.070000   \n",
       "5852                         16.002605                         8.070000   \n",
       "5853                         15.993669                         8.070000   \n",
       "5854                         15.438979                         8.070000   \n",
       "5855                         14.995850                         8.070000   \n",
       "\n",
       "      primary_cleaner.input.xanthate  primary_cleaner.state.floatbank8_a_air  \\\n",
       "0                           1.005021                             1398.981301   \n",
       "1                           0.990469                             1398.777912   \n",
       "2                           0.996043                             1398.493666   \n",
       "3                           0.863514                             1399.618111   \n",
       "4                           0.805575                             1401.268123   \n",
       "...                              ...                                     ...   \n",
       "5851                        0.896701                             1401.930554   \n",
       "5852                        0.896519                             1447.075722   \n",
       "5853                        1.165996                             1498.836182   \n",
       "5854                        1.501068                             1498.466243   \n",
       "5855                        1.623454                             1498.096303   \n",
       "\n",
       "      primary_cleaner.state.floatbank8_a_level  \\\n",
       "0                                  -500.225577   \n",
       "1                                  -500.057435   \n",
       "2                                  -500.868360   \n",
       "3                                  -498.863574   \n",
       "4                                  -500.808305   \n",
       "...                                        ...   \n",
       "5851                               -499.728848   \n",
       "5852                               -494.716823   \n",
       "5853                               -501.770403   \n",
       "5854                               -500.483984   \n",
       "5855                               -499.796922   \n",
       "\n",
       "      primary_cleaner.state.floatbank8_b_air  \\\n",
       "0                                1399.144926   \n",
       "1                                1398.055362   \n",
       "2                                1398.860436   \n",
       "3                                1397.440120   \n",
       "4                                1398.128818   \n",
       "...                                      ...   \n",
       "5851                             1401.441445   \n",
       "5852                             1448.851892   \n",
       "5853                             1499.572353   \n",
       "5854                             1497.986986   \n",
       "5855                             1501.743791   \n",
       "\n",
       "      primary_cleaner.state.floatbank8_b_level  \\\n",
       "0                                  -499.919735   \n",
       "1                                  -499.778182   \n",
       "2                                  -499.764529   \n",
       "3                                  -499.211024   \n",
       "4                                  -499.504543   \n",
       "...                                        ...   \n",
       "5851                               -499.193423   \n",
       "5852                               -465.963026   \n",
       "5853                               -495.516347   \n",
       "5854                               -519.200340   \n",
       "5855                               -505.146931   \n",
       "\n",
       "      primary_cleaner.state.floatbank8_c_air  ...  \\\n",
       "0                                1400.102998  ...   \n",
       "1                                1396.151033  ...   \n",
       "2                                1398.075709  ...   \n",
       "3                                1400.129303  ...   \n",
       "4                                1402.172226  ...   \n",
       "...                                      ...  ...   \n",
       "5851                             1399.810313  ...   \n",
       "5852                             1443.890424  ...   \n",
       "5853                             1502.749213  ...   \n",
       "5854                             1496.569047  ...   \n",
       "5855                             1499.535978  ...   \n",
       "\n",
       "      secondary_cleaner.state.floatbank4_a_air  \\\n",
       "0                                    12.023554   \n",
       "1                                    12.058140   \n",
       "2                                    11.962366   \n",
       "3                                    12.033091   \n",
       "4                                    12.025367   \n",
       "...                                        ...   \n",
       "5851                                 13.995957   \n",
       "5852                                 16.749781   \n",
       "5853                                 19.994130   \n",
       "5854                                 19.958760   \n",
       "5855                                 20.034715   \n",
       "\n",
       "      secondary_cleaner.state.floatbank4_a_level  \\\n",
       "0                                    -497.795834   \n",
       "1                                    -498.695773   \n",
       "2                                    -498.767484   \n",
       "3                                    -498.350935   \n",
       "4                                    -500.786497   \n",
       "...                                          ...   \n",
       "5851                                 -500.157454   \n",
       "5852                                 -496.031539   \n",
       "5853                                 -499.791312   \n",
       "5854                                 -499.958750   \n",
       "5855                                 -500.728588   \n",
       "\n",
       "      secondary_cleaner.state.floatbank4_b_air  \\\n",
       "0                                     8.016656   \n",
       "1                                     8.130979   \n",
       "2                                     8.096893   \n",
       "3                                     8.074946   \n",
       "4                                     8.054678   \n",
       "...                                        ...   \n",
       "5851                                 12.069155   \n",
       "5852                                 13.365371   \n",
       "5853                                 15.101425   \n",
       "5854                                 15.026853   \n",
       "5855                                 14.914199   \n",
       "\n",
       "      secondary_cleaner.state.floatbank4_b_level  \\\n",
       "0                                    -501.289139   \n",
       "1                                    -499.634209   \n",
       "2                                    -500.827423   \n",
       "3                                    -499.474407   \n",
       "4                                    -500.397500   \n",
       "...                                          ...   \n",
       "5851                                 -499.673279   \n",
       "5852                                 -499.122723   \n",
       "5853                                 -499.936252   \n",
       "5854                                 -499.723143   \n",
       "5855                                 -499.948518   \n",
       "\n",
       "      secondary_cleaner.state.floatbank5_a_air  \\\n",
       "0                                     7.946562   \n",
       "1                                     7.958270   \n",
       "2                                     8.071056   \n",
       "3                                     7.897085   \n",
       "4                                     8.107890   \n",
       "...                                        ...   \n",
       "5851                                  7.977259   \n",
       "5852                                  9.288553   \n",
       "5853                                 10.989181   \n",
       "5854                                 11.011607   \n",
       "5855                                 10.986607   \n",
       "\n",
       "      secondary_cleaner.state.floatbank5_a_level  \\\n",
       "0                                    -432.317850   \n",
       "1                                    -525.839648   \n",
       "2                                    -500.801673   \n",
       "3                                    -500.868509   \n",
       "4                                    -509.526725   \n",
       "...                                          ...   \n",
       "5851                                 -499.516126   \n",
       "5852                                 -496.892967   \n",
       "5853                                 -498.347898   \n",
       "5854                                 -499.985046   \n",
       "5855                                 -500.658027   \n",
       "\n",
       "      secondary_cleaner.state.floatbank5_b_air  \\\n",
       "0                                     4.872511   \n",
       "1                                     4.878850   \n",
       "2                                     4.905125   \n",
       "3                                     4.931400   \n",
       "4                                     4.957674   \n",
       "...                                        ...   \n",
       "5851                                  5.933319   \n",
       "5852                                  7.372897   \n",
       "5853                                  9.020944   \n",
       "5854                                  9.009783   \n",
       "5855                                  8.989497   \n",
       "\n",
       "      secondary_cleaner.state.floatbank5_b_level  \\\n",
       "0                                    -500.037437   \n",
       "1                                    -500.162375   \n",
       "2                                    -499.828510   \n",
       "3                                    -499.963623   \n",
       "4                                    -500.360026   \n",
       "...                                          ...   \n",
       "5851                                 -499.965973   \n",
       "5852                                 -499.942956   \n",
       "5853                                 -500.040448   \n",
       "5854                                 -499.937902   \n",
       "5855                                 -500.337588   \n",
       "\n",
       "      secondary_cleaner.state.floatbank6_a_air  \\\n",
       "0                                    26.705889   \n",
       "1                                    25.019940   \n",
       "2                                    24.994862   \n",
       "3                                    24.948919   \n",
       "4                                    25.003331   \n",
       "...                                        ...   \n",
       "5851                                  8.987171   \n",
       "5852                                  8.986832   \n",
       "5853                                  8.982038   \n",
       "5854                                  9.012660   \n",
       "5855                                  8.988632   \n",
       "\n",
       "      secondary_cleaner.state.floatbank6_a_level  \n",
       "0                                    -499.709414  \n",
       "1                                    -499.819438  \n",
       "2                                    -500.622559  \n",
       "3                                    -498.709987  \n",
       "4                                    -500.856333  \n",
       "...                                          ...  \n",
       "5851                                 -499.755909  \n",
       "5852                                 -499.903761  \n",
       "5853                                 -497.789882  \n",
       "5854                                 -500.154284  \n",
       "5855                                 -500.764937  \n",
       "\n",
       "[5856 rows x 53 columns]"
      ]
     },
     "execution_count": 8,
     "metadata": {},
     "output_type": "execute_result"
    }
   ],
   "source": [
    "basicdataprep(golddf_test)"
   ]
  },
  {
   "cell_type": "code",
   "execution_count": 9,
   "metadata": {
    "trusted": true
   },
   "outputs": [
    {
     "name": "stdout",
     "output_type": "stream",
     "text": [
      "DataFrame Info:\n",
      "<class 'pandas.core.frame.DataFrame'>\n",
      "RangeIndex: 22716 entries, 0 to 22715\n",
      "Data columns (total 87 columns):\n",
      " #   Column                                              Non-Null Count  Dtype  \n",
      "---  ------                                              --------------  -----  \n",
      " 0   date                                                22716 non-null  object \n",
      " 1   final.output.concentrate_ag                         22627 non-null  float64\n",
      " 2   final.output.concentrate_pb                         22629 non-null  float64\n",
      " 3   final.output.concentrate_sol                        22331 non-null  float64\n",
      " 4   final.output.concentrate_au                         22630 non-null  float64\n",
      " 5   final.output.recovery                               20753 non-null  float64\n",
      " 6   final.output.tail_ag                                22633 non-null  float64\n",
      " 7   final.output.tail_pb                                22516 non-null  float64\n",
      " 8   final.output.tail_sol                               22445 non-null  float64\n",
      " 9   final.output.tail_au                                22635 non-null  float64\n",
      " 10  primary_cleaner.input.sulfate                       21107 non-null  float64\n",
      " 11  primary_cleaner.input.depressant                    21170 non-null  float64\n",
      " 12  primary_cleaner.input.feed_size                     22716 non-null  float64\n",
      " 13  primary_cleaner.input.xanthate                      21565 non-null  float64\n",
      " 14  primary_cleaner.output.concentrate_ag               22618 non-null  float64\n",
      " 15  primary_cleaner.output.concentrate_pb               22268 non-null  float64\n",
      " 16  primary_cleaner.output.concentrate_sol              21918 non-null  float64\n",
      " 17  primary_cleaner.output.concentrate_au               22618 non-null  float64\n",
      " 18  primary_cleaner.output.tail_ag                      22614 non-null  float64\n",
      " 19  primary_cleaner.output.tail_pb                      22594 non-null  float64\n",
      " 20  primary_cleaner.output.tail_sol                     22365 non-null  float64\n",
      " 21  primary_cleaner.output.tail_au                      22617 non-null  float64\n",
      " 22  primary_cleaner.state.floatbank8_a_air              22660 non-null  float64\n",
      " 23  primary_cleaner.state.floatbank8_a_level            22667 non-null  float64\n",
      " 24  primary_cleaner.state.floatbank8_b_air              22660 non-null  float64\n",
      " 25  primary_cleaner.state.floatbank8_b_level            22673 non-null  float64\n",
      " 26  primary_cleaner.state.floatbank8_c_air              22662 non-null  float64\n",
      " 27  primary_cleaner.state.floatbank8_c_level            22673 non-null  float64\n",
      " 28  primary_cleaner.state.floatbank8_d_air              22661 non-null  float64\n",
      " 29  primary_cleaner.state.floatbank8_d_level            22673 non-null  float64\n",
      " 30  rougher.calculation.sulfate_to_au_concentrate       22672 non-null  float64\n",
      " 31  rougher.calculation.floatbank10_sulfate_to_au_feed  22672 non-null  float64\n",
      " 32  rougher.calculation.floatbank11_sulfate_to_au_feed  22672 non-null  float64\n",
      " 33  rougher.calculation.au_pb_ratio                     21089 non-null  float64\n",
      " 34  rougher.input.feed_ag                               22618 non-null  float64\n",
      " 35  rougher.input.feed_pb                               22472 non-null  float64\n",
      " 36  rougher.input.feed_rate                             22163 non-null  float64\n",
      " 37  rougher.input.feed_size                             22277 non-null  float64\n",
      " 38  rougher.input.feed_sol                              22357 non-null  float64\n",
      " 39  rougher.input.feed_au                               22617 non-null  float64\n",
      " 40  rougher.input.floatbank10_sulfate                   21415 non-null  float64\n",
      " 41  rougher.input.floatbank10_xanthate                  22247 non-null  float64\n",
      " 42  rougher.input.floatbank11_sulfate                   22038 non-null  float64\n",
      " 43  rougher.input.floatbank11_xanthate                  20459 non-null  float64\n",
      " 44  rougher.output.concentrate_ag                       22618 non-null  float64\n",
      " 45  rougher.output.concentrate_pb                       22618 non-null  float64\n",
      " 46  rougher.output.concentrate_sol                      22526 non-null  float64\n",
      " 47  rougher.output.concentrate_au                       22618 non-null  float64\n",
      " 48  rougher.output.recovery                             19597 non-null  float64\n",
      " 49  rougher.output.tail_ag                              19979 non-null  float64\n",
      " 50  rougher.output.tail_pb                              22618 non-null  float64\n",
      " 51  rougher.output.tail_sol                             19980 non-null  float64\n",
      " 52  rougher.output.tail_au                              19980 non-null  float64\n",
      " 53  rougher.state.floatbank10_a_air                     22646 non-null  float64\n",
      " 54  rougher.state.floatbank10_a_level                   22647 non-null  float64\n",
      " 55  rougher.state.floatbank10_b_air                     22646 non-null  float64\n",
      " 56  rougher.state.floatbank10_b_level                   22647 non-null  float64\n",
      " 57  rougher.state.floatbank10_c_air                     22646 non-null  float64\n",
      " 58  rougher.state.floatbank10_c_level                   22654 non-null  float64\n",
      " 59  rougher.state.floatbank10_d_air                     22641 non-null  float64\n",
      " 60  rougher.state.floatbank10_d_level                   22649 non-null  float64\n",
      " 61  rougher.state.floatbank10_e_air                     22096 non-null  float64\n",
      " 62  rougher.state.floatbank10_e_level                   22649 non-null  float64\n",
      " 63  rougher.state.floatbank10_f_air                     22641 non-null  float64\n",
      " 64  rougher.state.floatbank10_f_level                   22642 non-null  float64\n",
      " 65  secondary_cleaner.output.tail_ag                    22616 non-null  float64\n",
      " 66  secondary_cleaner.output.tail_pb                    22600 non-null  float64\n",
      " 67  secondary_cleaner.output.tail_sol                   20501 non-null  float64\n",
      " 68  secondary_cleaner.output.tail_au                    22618 non-null  float64\n",
      " 69  secondary_cleaner.state.floatbank2_a_air            22333 non-null  float64\n",
      " 70  secondary_cleaner.state.floatbank2_a_level          22591 non-null  float64\n",
      " 71  secondary_cleaner.state.floatbank2_b_air            22538 non-null  float64\n",
      " 72  secondary_cleaner.state.floatbank2_b_level          22588 non-null  float64\n",
      " 73  secondary_cleaner.state.floatbank3_a_air            22585 non-null  float64\n",
      " 74  secondary_cleaner.state.floatbank3_a_level          22587 non-null  float64\n",
      " 75  secondary_cleaner.state.floatbank3_b_air            22592 non-null  float64\n",
      " 76  secondary_cleaner.state.floatbank3_b_level          22590 non-null  float64\n",
      " 77  secondary_cleaner.state.floatbank4_a_air            22571 non-null  float64\n",
      " 78  secondary_cleaner.state.floatbank4_a_level          22587 non-null  float64\n",
      " 79  secondary_cleaner.state.floatbank4_b_air            22608 non-null  float64\n",
      " 80  secondary_cleaner.state.floatbank4_b_level          22607 non-null  float64\n",
      " 81  secondary_cleaner.state.floatbank5_a_air            22615 non-null  float64\n",
      " 82  secondary_cleaner.state.floatbank5_a_level          22615 non-null  float64\n",
      " 83  secondary_cleaner.state.floatbank5_b_air            22615 non-null  float64\n",
      " 84  secondary_cleaner.state.floatbank5_b_level          22616 non-null  float64\n",
      " 85  secondary_cleaner.state.floatbank6_a_air            22597 non-null  float64\n",
      " 86  secondary_cleaner.state.floatbank6_a_level          22615 non-null  float64\n",
      "dtypes: float64(86), object(1)\n",
      "memory usage: 15.1+ MB\n",
      "None \n",
      "\n",
      "Descriptive Stats:\n",
      "       final.output.concentrate_ag  final.output.concentrate_pb  \\\n",
      "count                 22627.000000                 22629.000000   \n",
      "mean                      4.781559                     9.095308   \n",
      "std                       2.030128                     3.230797   \n",
      "min                       0.000000                     0.000000   \n",
      "25%                       4.018525                     8.750171   \n",
      "50%                       4.953729                     9.914519   \n",
      "75%                       5.862593                    10.929839   \n",
      "max                      16.001945                    17.031899   \n",
      "\n",
      "       final.output.concentrate_sol  final.output.concentrate_au  \\\n",
      "count                  22331.000000                 22630.000000   \n",
      "mean                       8.640317                    40.001172   \n",
      "std                        3.785035                    13.398062   \n",
      "min                        0.000000                     0.000000   \n",
      "25%                        7.116799                    42.383721   \n",
      "50%                        8.908792                    44.653436   \n",
      "75%                       10.705824                    46.111999   \n",
      "max                       19.615720                    53.611374   \n",
      "\n",
      "       final.output.recovery  final.output.tail_ag  final.output.tail_pb  \\\n",
      "count           20753.000000          22633.000000          22516.000000   \n",
      "mean               67.447488              8.923690              2.488252   \n",
      "std                11.616034              3.517917              1.189407   \n",
      "min                 0.000000              0.000000              0.000000   \n",
      "25%                63.282393              7.684016              1.805376   \n",
      "50%                68.322258              9.484369              2.653001   \n",
      "75%                72.950836             11.084557              3.287790   \n",
      "max               100.000000             19.552149              6.086532   \n",
      "\n",
      "       final.output.tail_sol  final.output.tail_au  \\\n",
      "count           22445.000000          22635.000000   \n",
      "mean                9.523632              2.827459   \n",
      "std                 4.079739              1.262834   \n",
      "min                 0.000000              0.000000   \n",
      "25%                 8.143576              2.303108   \n",
      "50%                10.212998              2.913794   \n",
      "75%                11.860824              3.555077   \n",
      "max                22.861749              9.789625   \n",
      "\n",
      "       primary_cleaner.input.sulfate  ...  \\\n",
      "count                   21107.000000  ...   \n",
      "mean                      140.277672  ...   \n",
      "std                        49.919004  ...   \n",
      "min                         0.000003  ...   \n",
      "25%                       110.177081  ...   \n",
      "50%                       141.330501  ...   \n",
      "75%                       174.049914  ...   \n",
      "max                       274.409626  ...   \n",
      "\n",
      "       secondary_cleaner.state.floatbank4_a_air  \\\n",
      "count                              22571.000000   \n",
      "mean                                  18.205125   \n",
      "std                                    6.560700   \n",
      "min                                    0.000000   \n",
      "25%                                   14.095940   \n",
      "50%                                   18.007326   \n",
      "75%                                   22.998194   \n",
      "max                                   60.000000   \n",
      "\n",
      "       secondary_cleaner.state.floatbank4_a_level  \\\n",
      "count                                22587.000000   \n",
      "mean                                  -499.878977   \n",
      "std                                     80.273964   \n",
      "min                                   -799.920713   \n",
      "25%                                   -500.896232   \n",
      "50%                                   -499.917108   \n",
      "75%                                   -498.361545   \n",
      "max                                   -127.692333   \n",
      "\n",
      "       secondary_cleaner.state.floatbank4_b_air  \\\n",
      "count                              22608.000000   \n",
      "mean                                  14.356474   \n",
      "std                                    5.655791   \n",
      "min                                    0.000000   \n",
      "25%                                   10.882675   \n",
      "50%                                   14.947646   \n",
      "75%                                   17.977502   \n",
      "max                                   31.269706   \n",
      "\n",
      "       secondary_cleaner.state.floatbank4_b_level  \\\n",
      "count                                22607.000000   \n",
      "mean                                  -476.532613   \n",
      "std                                     93.822791   \n",
      "min                                   -800.836914   \n",
      "25%                                   -500.309169   \n",
      "50%                                   -499.612292   \n",
      "75%                                   -400.224147   \n",
      "max                                     -6.506986   \n",
      "\n",
      "       secondary_cleaner.state.floatbank5_a_air  \\\n",
      "count                              22615.000000   \n",
      "mean                                  14.883276   \n",
      "std                                    6.372811   \n",
      "min                                   -0.423260   \n",
      "25%                                   10.941299   \n",
      "50%                                   14.859117   \n",
      "75%                                   18.014914   \n",
      "max                                   63.116298   \n",
      "\n",
      "       secondary_cleaner.state.floatbank5_a_level  \\\n",
      "count                                22615.000000   \n",
      "mean                                  -503.323288   \n",
      "std                                     72.925589   \n",
      "min                                   -799.741097   \n",
      "25%                                   -500.628697   \n",
      "50%                                   -499.865158   \n",
      "75%                                   -498.489381   \n",
      "max                                   -244.483566   \n",
      "\n",
      "       secondary_cleaner.state.floatbank5_b_air  \\\n",
      "count                              22615.000000   \n",
      "mean                                  11.626743   \n",
      "std                                    5.757449   \n",
      "min                                    0.427084   \n",
      "25%                                    8.037533   \n",
      "50%                                   10.989756   \n",
      "75%                                   14.001193   \n",
      "max                                   39.846228   \n",
      "\n",
      "       secondary_cleaner.state.floatbank5_b_level  \\\n",
      "count                                22616.000000   \n",
      "mean                                  -500.521502   \n",
      "std                                     78.956292   \n",
      "min                                   -800.258209   \n",
      "25%                                   -500.167897   \n",
      "50%                                   -499.951980   \n",
      "75%                                   -499.492354   \n",
      "max                                   -120.190931   \n",
      "\n",
      "       secondary_cleaner.state.floatbank6_a_air  \\\n",
      "count                              22597.000000   \n",
      "mean                                  17.976810   \n",
      "std                                    6.636203   \n",
      "min                                   -0.079426   \n",
      "25%                                   13.968418   \n",
      "50%                                   18.004215   \n",
      "75%                                   23.009704   \n",
      "max                                   54.876806   \n",
      "\n",
      "       secondary_cleaner.state.floatbank6_a_level  \n",
      "count                                22615.000000  \n",
      "mean                                  -519.361465  \n",
      "std                                     75.477151  \n",
      "min                                   -810.473526  \n",
      "25%                                   -500.981671  \n",
      "50%                                   -500.095463  \n",
      "75%                                   -499.526388  \n",
      "max                                    -29.093593  \n",
      "\n",
      "[8 rows x 86 columns] \n",
      "\n",
      "Random Sample:\n",
      "                      date  final.output.concentrate_ag  \\\n",
      "2150   2016-04-13 14:00:00                     6.868900   \n",
      "10073  2017-03-09 16:59:59                     6.960412   \n",
      "4012   2016-06-30 03:59:59                     6.543262   \n",
      "16207  2017-11-20 06:59:59                     6.879037   \n",
      "11540  2017-05-09 19:59:59                     5.175466   \n",
      "\n",
      "       final.output.concentrate_pb  final.output.concentrate_sol  \\\n",
      "2150                      9.971840                      8.957074   \n",
      "10073                     9.667960                      8.752929   \n",
      "4012                      6.172517                      9.775756   \n",
      "16207                     9.886919                     10.349977   \n",
      "11540                    11.814233                      8.531643   \n",
      "\n",
      "       final.output.concentrate_au  final.output.recovery  \\\n",
      "2150                     41.966173              70.784963   \n",
      "10073                    43.196723              73.398076   \n",
      "4012                     46.280430              72.159228   \n",
      "16207                    42.031980              74.258236   \n",
      "11540                    44.192951              63.914233   \n",
      "\n",
      "       final.output.tail_ag  final.output.tail_pb  final.output.tail_sol  \\\n",
      "2150               6.976407              1.823067              12.894950   \n",
      "10073             11.035363              3.503837               6.035359   \n",
      "4012               8.105768              0.752035              14.979395   \n",
      "16207             12.196602              2.902333              11.571254   \n",
      "11540              9.390633              3.349016              10.136382   \n",
      "\n",
      "       final.output.tail_au  ...  secondary_cleaner.state.floatbank4_a_air  \\\n",
      "2150               2.231299  ...                                 14.971196   \n",
      "10073              3.692319  ...                                 24.992385   \n",
      "4012               2.099681  ...                                 17.026710   \n",
      "16207              3.368197  ...                                 18.944965   \n",
      "11540              3.391040  ...                                 24.960315   \n",
      "\n",
      "       secondary_cleaner.state.floatbank4_a_level  \\\n",
      "2150                                  -499.473859   \n",
      "10073                                 -397.587528   \n",
      "4012                                  -501.522908   \n",
      "16207                                 -500.487604   \n",
      "11540                                 -402.324837   \n",
      "\n",
      "       secondary_cleaner.state.floatbank4_b_air  \\\n",
      "2150                                  12.002331   \n",
      "10073                                 23.045903   \n",
      "4012                                   9.101522   \n",
      "16207                                 16.792194   \n",
      "11540                                 23.036429   \n",
      "\n",
      "       secondary_cleaner.state.floatbank4_b_level  \\\n",
      "2150                                  -420.003317   \n",
      "10073                                 -399.602702   \n",
      "4012                                  -422.356078   \n",
      "16207                                 -499.619463   \n",
      "11540                                 -400.963186   \n",
      "\n",
      "       secondary_cleaner.state.floatbank5_a_air  \\\n",
      "2150                                  18.958314   \n",
      "10073                                 22.792454   \n",
      "4012                                  17.139064   \n",
      "16207                                 13.011976   \n",
      "11540                                 25.992914   \n",
      "\n",
      "       secondary_cleaner.state.floatbank5_a_level  \\\n",
      "2150                                  -500.097649   \n",
      "10073                                 -448.885762   \n",
      "4012                                  -501.713315   \n",
      "16207                                 -500.502007   \n",
      "11540                                 -450.299825   \n",
      "\n",
      "       secondary_cleaner.state.floatbank5_b_air  \\\n",
      "2150                                  19.051910   \n",
      "10073                                 19.965684   \n",
      "4012                                   8.082881   \n",
      "16207                                 11.001775   \n",
      "11540                                 24.009543   \n",
      "\n",
      "       secondary_cleaner.state.floatbank5_b_level  \\\n",
      "2150                                  -500.217384   \n",
      "10073                                 -449.874878   \n",
      "4012                                  -500.139571   \n",
      "16207                                 -500.226719   \n",
      "11540                                 -449.910346   \n",
      "\n",
      "       secondary_cleaner.state.floatbank6_a_air  \\\n",
      "2150                                  30.049965   \n",
      "10073                                 24.965512   \n",
      "4012                                  25.023240   \n",
      "16207                                 16.004900   \n",
      "11540                                 30.000312   \n",
      "\n",
      "       secondary_cleaner.state.floatbank6_a_level  \n",
      "2150                                  -501.597198  \n",
      "10073                                 -498.763698  \n",
      "4012                                  -500.878180  \n",
      "16207                                 -501.053791  \n",
      "11540                                 -500.243743  \n",
      "\n",
      "[5 rows x 87 columns]\n",
      "Duplicates Amount:\n",
      "0\n",
      "DataFram Columns:\n",
      "Index(['date', 'final.output.concentrate_ag', 'final.output.concentrate_pb',\n",
      "       'final.output.concentrate_sol', 'final.output.concentrate_au',\n",
      "       'final.output.recovery', 'final.output.tail_ag', 'final.output.tail_pb',\n",
      "       'final.output.tail_sol', 'final.output.tail_au',\n",
      "       'primary_cleaner.input.sulfate', 'primary_cleaner.input.depressant',\n",
      "       'primary_cleaner.input.feed_size', 'primary_cleaner.input.xanthate',\n",
      "       'primary_cleaner.output.concentrate_ag',\n",
      "       'primary_cleaner.output.concentrate_pb',\n",
      "       'primary_cleaner.output.concentrate_sol',\n",
      "       'primary_cleaner.output.concentrate_au',\n",
      "       'primary_cleaner.output.tail_ag', 'primary_cleaner.output.tail_pb',\n",
      "       'primary_cleaner.output.tail_sol', 'primary_cleaner.output.tail_au',\n",
      "       'primary_cleaner.state.floatbank8_a_air',\n",
      "       'primary_cleaner.state.floatbank8_a_level',\n",
      "       'primary_cleaner.state.floatbank8_b_air',\n",
      "       'primary_cleaner.state.floatbank8_b_level',\n",
      "       'primary_cleaner.state.floatbank8_c_air',\n",
      "       'primary_cleaner.state.floatbank8_c_level',\n",
      "       'primary_cleaner.state.floatbank8_d_air',\n",
      "       'primary_cleaner.state.floatbank8_d_level',\n",
      "       'rougher.calculation.sulfate_to_au_concentrate',\n",
      "       'rougher.calculation.floatbank10_sulfate_to_au_feed',\n",
      "       'rougher.calculation.floatbank11_sulfate_to_au_feed',\n",
      "       'rougher.calculation.au_pb_ratio', 'rougher.input.feed_ag',\n",
      "       'rougher.input.feed_pb', 'rougher.input.feed_rate',\n",
      "       'rougher.input.feed_size', 'rougher.input.feed_sol',\n",
      "       'rougher.input.feed_au', 'rougher.input.floatbank10_sulfate',\n",
      "       'rougher.input.floatbank10_xanthate',\n",
      "       'rougher.input.floatbank11_sulfate',\n",
      "       'rougher.input.floatbank11_xanthate', 'rougher.output.concentrate_ag',\n",
      "       'rougher.output.concentrate_pb', 'rougher.output.concentrate_sol',\n",
      "       'rougher.output.concentrate_au', 'rougher.output.recovery',\n",
      "       'rougher.output.tail_ag', 'rougher.output.tail_pb',\n",
      "       'rougher.output.tail_sol', 'rougher.output.tail_au',\n",
      "       'rougher.state.floatbank10_a_air', 'rougher.state.floatbank10_a_level',\n",
      "       'rougher.state.floatbank10_b_air', 'rougher.state.floatbank10_b_level',\n",
      "       'rougher.state.floatbank10_c_air', 'rougher.state.floatbank10_c_level',\n",
      "       'rougher.state.floatbank10_d_air', 'rougher.state.floatbank10_d_level',\n",
      "       'rougher.state.floatbank10_e_air', 'rougher.state.floatbank10_e_level',\n",
      "       'rougher.state.floatbank10_f_air', 'rougher.state.floatbank10_f_level',\n",
      "       'secondary_cleaner.output.tail_ag', 'secondary_cleaner.output.tail_pb',\n",
      "       'secondary_cleaner.output.tail_sol', 'secondary_cleaner.output.tail_au',\n",
      "       'secondary_cleaner.state.floatbank2_a_air',\n",
      "       'secondary_cleaner.state.floatbank2_a_level',\n",
      "       'secondary_cleaner.state.floatbank2_b_air',\n",
      "       'secondary_cleaner.state.floatbank2_b_level',\n",
      "       'secondary_cleaner.state.floatbank3_a_air',\n",
      "       'secondary_cleaner.state.floatbank3_a_level',\n",
      "       'secondary_cleaner.state.floatbank3_b_air',\n",
      "       'secondary_cleaner.state.floatbank3_b_level',\n",
      "       'secondary_cleaner.state.floatbank4_a_air',\n",
      "       'secondary_cleaner.state.floatbank4_a_level',\n",
      "       'secondary_cleaner.state.floatbank4_b_air',\n",
      "       'secondary_cleaner.state.floatbank4_b_level',\n",
      "       'secondary_cleaner.state.floatbank5_a_air',\n",
      "       'secondary_cleaner.state.floatbank5_a_level',\n",
      "       'secondary_cleaner.state.floatbank5_b_air',\n",
      "       'secondary_cleaner.state.floatbank5_b_level',\n",
      "       'secondary_cleaner.state.floatbank6_a_air',\n",
      "       'secondary_cleaner.state.floatbank6_a_level'],\n",
      "      dtype='object')\n"
     ]
    },
    {
     "data": {
      "text/html": [
       "<div>\n",
       "<style scoped>\n",
       "    .dataframe tbody tr th:only-of-type {\n",
       "        vertical-align: middle;\n",
       "    }\n",
       "\n",
       "    .dataframe tbody tr th {\n",
       "        vertical-align: top;\n",
       "    }\n",
       "\n",
       "    .dataframe thead th {\n",
       "        text-align: right;\n",
       "    }\n",
       "</style>\n",
       "<table border=\"1\" class=\"dataframe\">\n",
       "  <thead>\n",
       "    <tr style=\"text-align: right;\">\n",
       "      <th></th>\n",
       "      <th>date</th>\n",
       "      <th>final.output.concentrate_ag</th>\n",
       "      <th>final.output.concentrate_pb</th>\n",
       "      <th>final.output.concentrate_sol</th>\n",
       "      <th>final.output.concentrate_au</th>\n",
       "      <th>final.output.recovery</th>\n",
       "      <th>final.output.tail_ag</th>\n",
       "      <th>final.output.tail_pb</th>\n",
       "      <th>final.output.tail_sol</th>\n",
       "      <th>final.output.tail_au</th>\n",
       "      <th>...</th>\n",
       "      <th>secondary_cleaner.state.floatbank4_a_air</th>\n",
       "      <th>secondary_cleaner.state.floatbank4_a_level</th>\n",
       "      <th>secondary_cleaner.state.floatbank4_b_air</th>\n",
       "      <th>secondary_cleaner.state.floatbank4_b_level</th>\n",
       "      <th>secondary_cleaner.state.floatbank5_a_air</th>\n",
       "      <th>secondary_cleaner.state.floatbank5_a_level</th>\n",
       "      <th>secondary_cleaner.state.floatbank5_b_air</th>\n",
       "      <th>secondary_cleaner.state.floatbank5_b_level</th>\n",
       "      <th>secondary_cleaner.state.floatbank6_a_air</th>\n",
       "      <th>secondary_cleaner.state.floatbank6_a_level</th>\n",
       "    </tr>\n",
       "  </thead>\n",
       "  <tbody>\n",
       "    <tr>\n",
       "      <th>0</th>\n",
       "      <td>2016-01-15 00:00:00</td>\n",
       "      <td>6.055403</td>\n",
       "      <td>9.889648</td>\n",
       "      <td>5.507324</td>\n",
       "      <td>42.192020</td>\n",
       "      <td>70.541216</td>\n",
       "      <td>10.411962</td>\n",
       "      <td>0.895447</td>\n",
       "      <td>16.904297</td>\n",
       "      <td>2.143149</td>\n",
       "      <td>...</td>\n",
       "      <td>14.016835</td>\n",
       "      <td>-502.488007</td>\n",
       "      <td>12.099931</td>\n",
       "      <td>-504.715942</td>\n",
       "      <td>9.925633</td>\n",
       "      <td>-498.310211</td>\n",
       "      <td>8.079666</td>\n",
       "      <td>-500.470978</td>\n",
       "      <td>14.151341</td>\n",
       "      <td>-605.841980</td>\n",
       "    </tr>\n",
       "    <tr>\n",
       "      <th>1</th>\n",
       "      <td>2016-01-15 01:00:00</td>\n",
       "      <td>6.029369</td>\n",
       "      <td>9.968944</td>\n",
       "      <td>5.257781</td>\n",
       "      <td>42.701629</td>\n",
       "      <td>69.266198</td>\n",
       "      <td>10.462676</td>\n",
       "      <td>0.927452</td>\n",
       "      <td>16.634514</td>\n",
       "      <td>2.224930</td>\n",
       "      <td>...</td>\n",
       "      <td>13.992281</td>\n",
       "      <td>-505.503262</td>\n",
       "      <td>11.950531</td>\n",
       "      <td>-501.331529</td>\n",
       "      <td>10.039245</td>\n",
       "      <td>-500.169983</td>\n",
       "      <td>7.984757</td>\n",
       "      <td>-500.582168</td>\n",
       "      <td>13.998353</td>\n",
       "      <td>-599.787184</td>\n",
       "    </tr>\n",
       "    <tr>\n",
       "      <th>2</th>\n",
       "      <td>2016-01-15 02:00:00</td>\n",
       "      <td>6.055926</td>\n",
       "      <td>10.213995</td>\n",
       "      <td>5.383759</td>\n",
       "      <td>42.657501</td>\n",
       "      <td>68.116445</td>\n",
       "      <td>10.507046</td>\n",
       "      <td>0.953716</td>\n",
       "      <td>16.208849</td>\n",
       "      <td>2.257889</td>\n",
       "      <td>...</td>\n",
       "      <td>14.015015</td>\n",
       "      <td>-502.520901</td>\n",
       "      <td>11.912783</td>\n",
       "      <td>-501.133383</td>\n",
       "      <td>10.070913</td>\n",
       "      <td>-500.129135</td>\n",
       "      <td>8.013877</td>\n",
       "      <td>-500.517572</td>\n",
       "      <td>14.028663</td>\n",
       "      <td>-601.427363</td>\n",
       "    </tr>\n",
       "    <tr>\n",
       "      <th>3</th>\n",
       "      <td>2016-01-15 03:00:00</td>\n",
       "      <td>6.047977</td>\n",
       "      <td>9.977019</td>\n",
       "      <td>4.858634</td>\n",
       "      <td>42.689819</td>\n",
       "      <td>68.347543</td>\n",
       "      <td>10.422762</td>\n",
       "      <td>0.883763</td>\n",
       "      <td>16.532835</td>\n",
       "      <td>2.146849</td>\n",
       "      <td>...</td>\n",
       "      <td>14.036510</td>\n",
       "      <td>-500.857308</td>\n",
       "      <td>11.999550</td>\n",
       "      <td>-501.193686</td>\n",
       "      <td>9.970366</td>\n",
       "      <td>-499.201640</td>\n",
       "      <td>7.977324</td>\n",
       "      <td>-500.255908</td>\n",
       "      <td>14.005551</td>\n",
       "      <td>-599.996129</td>\n",
       "    </tr>\n",
       "    <tr>\n",
       "      <th>4</th>\n",
       "      <td>2016-01-15 04:00:00</td>\n",
       "      <td>6.148599</td>\n",
       "      <td>10.142511</td>\n",
       "      <td>4.939416</td>\n",
       "      <td>42.774141</td>\n",
       "      <td>66.927016</td>\n",
       "      <td>10.360302</td>\n",
       "      <td>0.792826</td>\n",
       "      <td>16.525686</td>\n",
       "      <td>2.055292</td>\n",
       "      <td>...</td>\n",
       "      <td>14.027298</td>\n",
       "      <td>-499.838632</td>\n",
       "      <td>11.953070</td>\n",
       "      <td>-501.053894</td>\n",
       "      <td>9.925709</td>\n",
       "      <td>-501.686727</td>\n",
       "      <td>7.894242</td>\n",
       "      <td>-500.356035</td>\n",
       "      <td>13.996647</td>\n",
       "      <td>-601.496691</td>\n",
       "    </tr>\n",
       "    <tr>\n",
       "      <th>...</th>\n",
       "      <td>...</td>\n",
       "      <td>...</td>\n",
       "      <td>...</td>\n",
       "      <td>...</td>\n",
       "      <td>...</td>\n",
       "      <td>...</td>\n",
       "      <td>...</td>\n",
       "      <td>...</td>\n",
       "      <td>...</td>\n",
       "      <td>...</td>\n",
       "      <td>...</td>\n",
       "      <td>...</td>\n",
       "      <td>...</td>\n",
       "      <td>...</td>\n",
       "      <td>...</td>\n",
       "      <td>...</td>\n",
       "      <td>...</td>\n",
       "      <td>...</td>\n",
       "      <td>...</td>\n",
       "      <td>...</td>\n",
       "      <td>...</td>\n",
       "    </tr>\n",
       "    <tr>\n",
       "      <th>22711</th>\n",
       "      <td>2018-08-18 06:59:59</td>\n",
       "      <td>3.224920</td>\n",
       "      <td>11.356233</td>\n",
       "      <td>6.803482</td>\n",
       "      <td>46.713954</td>\n",
       "      <td>73.755150</td>\n",
       "      <td>8.769645</td>\n",
       "      <td>3.141541</td>\n",
       "      <td>10.403181</td>\n",
       "      <td>1.529220</td>\n",
       "      <td>...</td>\n",
       "      <td>23.031497</td>\n",
       "      <td>-501.167942</td>\n",
       "      <td>20.007571</td>\n",
       "      <td>-499.740028</td>\n",
       "      <td>18.006038</td>\n",
       "      <td>-499.834374</td>\n",
       "      <td>13.001114</td>\n",
       "      <td>-500.155694</td>\n",
       "      <td>20.007840</td>\n",
       "      <td>-501.296428</td>\n",
       "    </tr>\n",
       "    <tr>\n",
       "      <th>22712</th>\n",
       "      <td>2018-08-18 07:59:59</td>\n",
       "      <td>3.195978</td>\n",
       "      <td>11.349355</td>\n",
       "      <td>6.862249</td>\n",
       "      <td>46.866780</td>\n",
       "      <td>69.049291</td>\n",
       "      <td>8.897321</td>\n",
       "      <td>3.130493</td>\n",
       "      <td>10.549470</td>\n",
       "      <td>1.612542</td>\n",
       "      <td>...</td>\n",
       "      <td>22.960095</td>\n",
       "      <td>-501.612783</td>\n",
       "      <td>20.035660</td>\n",
       "      <td>-500.251357</td>\n",
       "      <td>17.998535</td>\n",
       "      <td>-500.395178</td>\n",
       "      <td>12.954048</td>\n",
       "      <td>-499.895163</td>\n",
       "      <td>19.968498</td>\n",
       "      <td>-501.041608</td>\n",
       "    </tr>\n",
       "    <tr>\n",
       "      <th>22713</th>\n",
       "      <td>2018-08-18 08:59:59</td>\n",
       "      <td>3.109998</td>\n",
       "      <td>11.434366</td>\n",
       "      <td>6.886013</td>\n",
       "      <td>46.795691</td>\n",
       "      <td>67.002189</td>\n",
       "      <td>8.529606</td>\n",
       "      <td>2.911418</td>\n",
       "      <td>11.115147</td>\n",
       "      <td>1.596616</td>\n",
       "      <td>...</td>\n",
       "      <td>23.015718</td>\n",
       "      <td>-501.711599</td>\n",
       "      <td>19.951231</td>\n",
       "      <td>-499.857027</td>\n",
       "      <td>18.019543</td>\n",
       "      <td>-500.451156</td>\n",
       "      <td>13.023431</td>\n",
       "      <td>-499.914391</td>\n",
       "      <td>19.990885</td>\n",
       "      <td>-501.518452</td>\n",
       "    </tr>\n",
       "    <tr>\n",
       "      <th>22714</th>\n",
       "      <td>2018-08-18 09:59:59</td>\n",
       "      <td>3.367241</td>\n",
       "      <td>11.625587</td>\n",
       "      <td>6.799433</td>\n",
       "      <td>46.408188</td>\n",
       "      <td>65.523246</td>\n",
       "      <td>8.777171</td>\n",
       "      <td>2.819214</td>\n",
       "      <td>10.463847</td>\n",
       "      <td>1.602879</td>\n",
       "      <td>...</td>\n",
       "      <td>23.024963</td>\n",
       "      <td>-501.153409</td>\n",
       "      <td>20.054122</td>\n",
       "      <td>-500.314711</td>\n",
       "      <td>17.979515</td>\n",
       "      <td>-499.272871</td>\n",
       "      <td>12.992404</td>\n",
       "      <td>-499.976268</td>\n",
       "      <td>20.013986</td>\n",
       "      <td>-500.625471</td>\n",
       "    </tr>\n",
       "    <tr>\n",
       "      <th>22715</th>\n",
       "      <td>2018-08-18 10:59:59</td>\n",
       "      <td>3.598375</td>\n",
       "      <td>11.737832</td>\n",
       "      <td>6.717509</td>\n",
       "      <td>46.299438</td>\n",
       "      <td>70.281454</td>\n",
       "      <td>8.406690</td>\n",
       "      <td>2.517518</td>\n",
       "      <td>10.652193</td>\n",
       "      <td>1.389434</td>\n",
       "      <td>...</td>\n",
       "      <td>23.018622</td>\n",
       "      <td>-500.492702</td>\n",
       "      <td>20.020205</td>\n",
       "      <td>-500.220296</td>\n",
       "      <td>17.963512</td>\n",
       "      <td>-499.939490</td>\n",
       "      <td>12.990306</td>\n",
       "      <td>-500.080993</td>\n",
       "      <td>19.990336</td>\n",
       "      <td>-499.191575</td>\n",
       "    </tr>\n",
       "  </tbody>\n",
       "</table>\n",
       "<p>22716 rows × 87 columns</p>\n",
       "</div>"
      ],
      "text/plain": [
       "                      date  final.output.concentrate_ag  \\\n",
       "0      2016-01-15 00:00:00                     6.055403   \n",
       "1      2016-01-15 01:00:00                     6.029369   \n",
       "2      2016-01-15 02:00:00                     6.055926   \n",
       "3      2016-01-15 03:00:00                     6.047977   \n",
       "4      2016-01-15 04:00:00                     6.148599   \n",
       "...                    ...                          ...   \n",
       "22711  2018-08-18 06:59:59                     3.224920   \n",
       "22712  2018-08-18 07:59:59                     3.195978   \n",
       "22713  2018-08-18 08:59:59                     3.109998   \n",
       "22714  2018-08-18 09:59:59                     3.367241   \n",
       "22715  2018-08-18 10:59:59                     3.598375   \n",
       "\n",
       "       final.output.concentrate_pb  final.output.concentrate_sol  \\\n",
       "0                         9.889648                      5.507324   \n",
       "1                         9.968944                      5.257781   \n",
       "2                        10.213995                      5.383759   \n",
       "3                         9.977019                      4.858634   \n",
       "4                        10.142511                      4.939416   \n",
       "...                            ...                           ...   \n",
       "22711                    11.356233                      6.803482   \n",
       "22712                    11.349355                      6.862249   \n",
       "22713                    11.434366                      6.886013   \n",
       "22714                    11.625587                      6.799433   \n",
       "22715                    11.737832                      6.717509   \n",
       "\n",
       "       final.output.concentrate_au  final.output.recovery  \\\n",
       "0                        42.192020              70.541216   \n",
       "1                        42.701629              69.266198   \n",
       "2                        42.657501              68.116445   \n",
       "3                        42.689819              68.347543   \n",
       "4                        42.774141              66.927016   \n",
       "...                            ...                    ...   \n",
       "22711                    46.713954              73.755150   \n",
       "22712                    46.866780              69.049291   \n",
       "22713                    46.795691              67.002189   \n",
       "22714                    46.408188              65.523246   \n",
       "22715                    46.299438              70.281454   \n",
       "\n",
       "       final.output.tail_ag  final.output.tail_pb  final.output.tail_sol  \\\n",
       "0                 10.411962              0.895447              16.904297   \n",
       "1                 10.462676              0.927452              16.634514   \n",
       "2                 10.507046              0.953716              16.208849   \n",
       "3                 10.422762              0.883763              16.532835   \n",
       "4                 10.360302              0.792826              16.525686   \n",
       "...                     ...                   ...                    ...   \n",
       "22711              8.769645              3.141541              10.403181   \n",
       "22712              8.897321              3.130493              10.549470   \n",
       "22713              8.529606              2.911418              11.115147   \n",
       "22714              8.777171              2.819214              10.463847   \n",
       "22715              8.406690              2.517518              10.652193   \n",
       "\n",
       "       final.output.tail_au  ...  secondary_cleaner.state.floatbank4_a_air  \\\n",
       "0                  2.143149  ...                                 14.016835   \n",
       "1                  2.224930  ...                                 13.992281   \n",
       "2                  2.257889  ...                                 14.015015   \n",
       "3                  2.146849  ...                                 14.036510   \n",
       "4                  2.055292  ...                                 14.027298   \n",
       "...                     ...  ...                                       ...   \n",
       "22711              1.529220  ...                                 23.031497   \n",
       "22712              1.612542  ...                                 22.960095   \n",
       "22713              1.596616  ...                                 23.015718   \n",
       "22714              1.602879  ...                                 23.024963   \n",
       "22715              1.389434  ...                                 23.018622   \n",
       "\n",
       "       secondary_cleaner.state.floatbank4_a_level  \\\n",
       "0                                     -502.488007   \n",
       "1                                     -505.503262   \n",
       "2                                     -502.520901   \n",
       "3                                     -500.857308   \n",
       "4                                     -499.838632   \n",
       "...                                           ...   \n",
       "22711                                 -501.167942   \n",
       "22712                                 -501.612783   \n",
       "22713                                 -501.711599   \n",
       "22714                                 -501.153409   \n",
       "22715                                 -500.492702   \n",
       "\n",
       "       secondary_cleaner.state.floatbank4_b_air  \\\n",
       "0                                     12.099931   \n",
       "1                                     11.950531   \n",
       "2                                     11.912783   \n",
       "3                                     11.999550   \n",
       "4                                     11.953070   \n",
       "...                                         ...   \n",
       "22711                                 20.007571   \n",
       "22712                                 20.035660   \n",
       "22713                                 19.951231   \n",
       "22714                                 20.054122   \n",
       "22715                                 20.020205   \n",
       "\n",
       "       secondary_cleaner.state.floatbank4_b_level  \\\n",
       "0                                     -504.715942   \n",
       "1                                     -501.331529   \n",
       "2                                     -501.133383   \n",
       "3                                     -501.193686   \n",
       "4                                     -501.053894   \n",
       "...                                           ...   \n",
       "22711                                 -499.740028   \n",
       "22712                                 -500.251357   \n",
       "22713                                 -499.857027   \n",
       "22714                                 -500.314711   \n",
       "22715                                 -500.220296   \n",
       "\n",
       "       secondary_cleaner.state.floatbank5_a_air  \\\n",
       "0                                      9.925633   \n",
       "1                                     10.039245   \n",
       "2                                     10.070913   \n",
       "3                                      9.970366   \n",
       "4                                      9.925709   \n",
       "...                                         ...   \n",
       "22711                                 18.006038   \n",
       "22712                                 17.998535   \n",
       "22713                                 18.019543   \n",
       "22714                                 17.979515   \n",
       "22715                                 17.963512   \n",
       "\n",
       "       secondary_cleaner.state.floatbank5_a_level  \\\n",
       "0                                     -498.310211   \n",
       "1                                     -500.169983   \n",
       "2                                     -500.129135   \n",
       "3                                     -499.201640   \n",
       "4                                     -501.686727   \n",
       "...                                           ...   \n",
       "22711                                 -499.834374   \n",
       "22712                                 -500.395178   \n",
       "22713                                 -500.451156   \n",
       "22714                                 -499.272871   \n",
       "22715                                 -499.939490   \n",
       "\n",
       "       secondary_cleaner.state.floatbank5_b_air  \\\n",
       "0                                      8.079666   \n",
       "1                                      7.984757   \n",
       "2                                      8.013877   \n",
       "3                                      7.977324   \n",
       "4                                      7.894242   \n",
       "...                                         ...   \n",
       "22711                                 13.001114   \n",
       "22712                                 12.954048   \n",
       "22713                                 13.023431   \n",
       "22714                                 12.992404   \n",
       "22715                                 12.990306   \n",
       "\n",
       "       secondary_cleaner.state.floatbank5_b_level  \\\n",
       "0                                     -500.470978   \n",
       "1                                     -500.582168   \n",
       "2                                     -500.517572   \n",
       "3                                     -500.255908   \n",
       "4                                     -500.356035   \n",
       "...                                           ...   \n",
       "22711                                 -500.155694   \n",
       "22712                                 -499.895163   \n",
       "22713                                 -499.914391   \n",
       "22714                                 -499.976268   \n",
       "22715                                 -500.080993   \n",
       "\n",
       "       secondary_cleaner.state.floatbank6_a_air  \\\n",
       "0                                     14.151341   \n",
       "1                                     13.998353   \n",
       "2                                     14.028663   \n",
       "3                                     14.005551   \n",
       "4                                     13.996647   \n",
       "...                                         ...   \n",
       "22711                                 20.007840   \n",
       "22712                                 19.968498   \n",
       "22713                                 19.990885   \n",
       "22714                                 20.013986   \n",
       "22715                                 19.990336   \n",
       "\n",
       "       secondary_cleaner.state.floatbank6_a_level  \n",
       "0                                     -605.841980  \n",
       "1                                     -599.787184  \n",
       "2                                     -601.427363  \n",
       "3                                     -599.996129  \n",
       "4                                     -601.496691  \n",
       "...                                           ...  \n",
       "22711                                 -501.296428  \n",
       "22712                                 -501.041608  \n",
       "22713                                 -501.518452  \n",
       "22714                                 -500.625471  \n",
       "22715                                 -499.191575  \n",
       "\n",
       "[22716 rows x 87 columns]"
      ]
     },
     "execution_count": 9,
     "metadata": {},
     "output_type": "execute_result"
    }
   ],
   "source": [
    "basicdataprep(golddf_full)"
   ]
  },
  {
   "cell_type": "code",
   "execution_count": 10,
   "metadata": {
    "trusted": true
   },
   "outputs": [
    {
     "name": "stdout",
     "output_type": "stream",
     "text": [
      "Nan Rougher Concentrate:\n",
      "82\n",
      "None\n",
      "\n",
      "Nan Rougher Feed:\n",
      "83\n",
      "None\n",
      "\n",
      "Nan Rougher Tail:\n",
      "2249\n",
      "None\n"
     ]
    }
   ],
   "source": [
    "def checknan(df):\n",
    "    print(df.isna().sum())\n",
    "    \n",
    "    \n",
    "print(\"Nan Rougher Concentrate:\")\n",
    "print(checknan(golddf_train['rougher.output.concentrate_au']))\n",
    "print()\n",
    "print(\"Nan Rougher Feed:\")\n",
    "print(checknan(golddf_train['rougher.input.feed_au']))\n",
    "print()\n",
    "print(\"Nan Rougher Tail:\") \n",
    "print(checknan(golddf_train['rougher.output.tail_au']))"
   ]
  },
  {
   "cell_type": "code",
   "execution_count": 11,
   "metadata": {
    "trusted": true
   },
   "outputs": [],
   "source": [
    "#Rougher Output Recovery Calculation \n",
    "\n",
    "C_rough = golddf_train['rougher.output.concentrate_au']\n",
    "F_rough = golddf_train['rougher.input.feed_au']\n",
    "T_rough = golddf_train['rougher.output.tail_au']\n",
    "\n",
    "rec_train = golddf_train['rougher.output.recovery']\n"
   ]
  },
  {
   "cell_type": "code",
   "execution_count": 12,
   "metadata": {
    "trusted": true
   },
   "outputs": [],
   "source": [
    "golddf_train['recalculated_rougher_recovery'] = (C_rough * (F_rough - T_rough)) / (F_rough * (C_rough - T_rough)) * 100"
   ]
  },
  {
   "cell_type": "markdown",
   "metadata": {},
   "source": [
    "calculated recovery for Rougher Output"
   ]
  },
  {
   "cell_type": "code",
   "execution_count": 13,
   "metadata": {
    "trusted": true
   },
   "outputs": [
    {
     "name": "stdout",
     "output_type": "stream",
     "text": [
      "0    87.107763\n",
      "1    86.843261\n",
      "2    86.842308\n",
      "3    87.226430\n",
      "4    86.688794\n",
      "Name: rougher.output.recovery, dtype: float64\n"
     ]
    }
   ],
   "source": [
    "print(golddf_train['rougher.output.recovery'].head(5))"
   ]
  },
  {
   "cell_type": "code",
   "execution_count": 14,
   "metadata": {
    "trusted": true
   },
   "outputs": [
    {
     "name": "stdout",
     "output_type": "stream",
     "text": [
      "rougher.output.recovery          2573\n",
      "recalculated_rougher_recovery    2283\n",
      "dtype: int64\n"
     ]
    }
   ],
   "source": [
    "print(golddf_train[['rougher.output.recovery', 'recalculated_rougher_recovery']].isna().sum())\n"
   ]
  },
  {
   "cell_type": "markdown",
   "metadata": {},
   "source": [
    "golddf_train.replace([np.inf, -np.inf], np.nan, inplace=True)\n"
   ]
  },
  {
   "cell_type": "markdown",
   "metadata": {},
   "source": [
    "golddf_train['recalculated_rougher_recovery'] = golddf_train['recalculated_rougher_recovery'].interpolate(method='nearest')\n",
    "golddf_train['rougher.output.recovery'] = golddf_train['rougher.output.recovery'].interpolate(method='nearest')\n",
    "\n"
   ]
  },
  {
   "cell_type": "markdown",
   "metadata": {},
   "source": [
    "golddf_train.loc[:, 'recalculated_rougher_recovery'] = golddf_train['recalculated_rougher_recovery'].fillna(golddf_train['recalculated_rougher_recovery'].median())\n",
    "golddf_train.loc[:, 'rougher.output.recovery'] = golddf_train['rougher.output.recovery'].fillna(golddf_train['rougher.output.recovery'].median())\n"
   ]
  },
  {
   "cell_type": "code",
   "execution_count": 15,
   "metadata": {
    "trusted": true
   },
   "outputs": [],
   "source": [
    "golddf_filtered = golddf_train[['rougher.output.recovery', 'recalculated_rougher_recovery']].dropna()\n",
    "\n",
    "golddf_target = golddf_filtered['rougher.output.recovery']\n",
    "golddf_pred = golddf_filtered['recalculated_rougher_recovery']"
   ]
  },
  {
   "cell_type": "code",
   "execution_count": 16,
   "metadata": {
    "scrolled": true,
    "trusted": true
   },
   "outputs": [
    {
     "name": "stdout",
     "output_type": "stream",
     "text": [
      "0        87.107763\n",
      "1        86.843261\n",
      "2        86.842308\n",
      "3        87.226430\n",
      "4        86.688794\n",
      "           ...    \n",
      "16855    89.574376\n",
      "16856    87.724007\n",
      "16857    88.890579\n",
      "16858    89.858126\n",
      "16859    89.514960\n",
      "Name: rougher.output.recovery, Length: 14287, dtype: float64\n"
     ]
    }
   ],
   "source": [
    "print(golddf_target)"
   ]
  },
  {
   "cell_type": "code",
   "execution_count": 17,
   "metadata": {
    "trusted": true
   },
   "outputs": [
    {
     "name": "stdout",
     "output_type": "stream",
     "text": [
      "0        87.107763\n",
      "1        86.843261\n",
      "2        86.842308\n",
      "3        87.226430\n",
      "4        86.688794\n",
      "           ...    \n",
      "16855    89.574376\n",
      "16856    87.724007\n",
      "16857    88.890579\n",
      "16858    89.858126\n",
      "16859    89.514960\n",
      "Name: recalculated_rougher_recovery, Length: 14287, dtype: float64\n"
     ]
    }
   ],
   "source": [
    "print(golddf_pred)"
   ]
  },
  {
   "cell_type": "code",
   "execution_count": 18,
   "metadata": {
    "trusted": true
   },
   "outputs": [
    {
     "name": "stdout",
     "output_type": "stream",
     "text": [
      "Mean Absolute Error Score: 0.0000\n"
     ]
    }
   ],
   "source": [
    "#golddf_target = golddf_train['rougher.output.recovery'].dropna()\n",
    "#golddf_pred = golddf_train['recalculated_rougher_recovery'].dropna()\n",
    "golddf_mae = mean_absolute_error(golddf_target, golddf_pred)\n",
    "print(f\"Mean Absolute Error Score: {golddf_mae:.4f}\")"
   ]
  },
  {
   "cell_type": "code",
   "execution_count": 19,
   "metadata": {
    "trusted": true
   },
   "outputs": [
    {
     "name": "stdout",
     "output_type": "stream",
     "text": [
      "Features not available in the test set:\n",
      "final.output.concentrate_ag                           float64\n",
      "secondary_cleaner.output.tail_pb                      float64\n",
      "primary_cleaner.output.concentrate_au                 float64\n",
      "rougher.output.concentrate_au                         float64\n",
      "rougher.calculation.floatbank10_sulfate_to_au_feed    float64\n",
      "primary_cleaner.output.tail_ag                        float64\n",
      "primary_cleaner.output.concentrate_pb                 float64\n",
      "primary_cleaner.output.tail_pb                        float64\n",
      "final.output.recovery                                 float64\n",
      "rougher.output.tail_sol                               float64\n",
      "secondary_cleaner.output.tail_ag                      float64\n",
      "rougher.output.tail_pb                                float64\n",
      "final.output.tail_au                                  float64\n",
      "rougher.output.tail_ag                                float64\n",
      "rougher.output.concentrate_pb                         float64\n",
      "final.output.concentrate_pb                           float64\n",
      "rougher.output.concentrate_sol                        float64\n",
      "final.output.concentrate_sol                          float64\n",
      "final.output.tail_sol                                 float64\n",
      "primary_cleaner.output.tail_au                        float64\n",
      "recalculated_rougher_recovery                         float64\n",
      "primary_cleaner.output.concentrate_sol                float64\n",
      "final.output.concentrate_au                           float64\n",
      "rougher.calculation.au_pb_ratio                       float64\n",
      "secondary_cleaner.output.tail_au                      float64\n",
      "final.output.tail_pb                                  float64\n",
      "rougher.output.concentrate_ag                         float64\n",
      "rougher.output.tail_au                                float64\n",
      "rougher.calculation.sulfate_to_au_concentrate         float64\n",
      "rougher.output.recovery                               float64\n",
      "rougher.calculation.floatbank11_sulfate_to_au_feed    float64\n",
      "primary_cleaner.output.tail_sol                       float64\n",
      "secondary_cleaner.output.tail_sol                     float64\n",
      "final.output.tail_ag                                  float64\n",
      "primary_cleaner.output.concentrate_ag                 float64\n",
      "dtype: object\n",
      "\n",
      "Number of missing features in training but not in test set: 35.00\n"
     ]
    }
   ],
   "source": [
    "missing_features = set(golddf_train.columns) - set(golddf_test.columns)\n",
    "\n",
    "print(\"Features not available in the test set:\")\n",
    "\n",
    "print(golddf_train[list(missing_features)].dtypes)\n",
    "\n",
    "num_missing = len(missing_features)\n",
    "print()\n",
    "print(f\"Number of missing features in training but not in test set: {num_missing:.2f}\")\n"
   ]
  },
  {
   "cell_type": "markdown",
   "metadata": {},
   "source": [
    "cheking for missing columns in test data "
   ]
  },
  {
   "cell_type": "code",
   "execution_count": 20,
   "metadata": {
    "trusted": true
   },
   "outputs": [
    {
     "name": "stdout",
     "output_type": "stream",
     "text": [
      "Gold Df Train\n",
      "date                                             0\n",
      "final.output.concentrate_ag                     72\n",
      "final.output.concentrate_pb                     72\n",
      "final.output.concentrate_sol                   370\n",
      "final.output.concentrate_au                     71\n",
      "                                              ... \n",
      "secondary_cleaner.state.floatbank5_b_air        85\n",
      "secondary_cleaner.state.floatbank5_b_level      84\n",
      "secondary_cleaner.state.floatbank6_a_air       103\n",
      "secondary_cleaner.state.floatbank6_a_level      85\n",
      "recalculated_rougher_recovery                 2283\n",
      "Length: 88, dtype: int64\n",
      "\n",
      "Gold Df Test\n",
      "date                                            0\n",
      "primary_cleaner.input.sulfate                 302\n",
      "primary_cleaner.input.depressant              284\n",
      "primary_cleaner.input.feed_size                 0\n",
      "primary_cleaner.input.xanthate                166\n",
      "primary_cleaner.state.floatbank8_a_air         16\n",
      "primary_cleaner.state.floatbank8_a_level       16\n",
      "primary_cleaner.state.floatbank8_b_air         16\n",
      "primary_cleaner.state.floatbank8_b_level       16\n",
      "primary_cleaner.state.floatbank8_c_air         16\n",
      "primary_cleaner.state.floatbank8_c_level       16\n",
      "primary_cleaner.state.floatbank8_d_air         16\n",
      "primary_cleaner.state.floatbank8_d_level       16\n",
      "rougher.input.feed_ag                          16\n",
      "rougher.input.feed_pb                          16\n",
      "rougher.input.feed_rate                        40\n",
      "rougher.input.feed_size                        22\n",
      "rougher.input.feed_sol                         67\n",
      "rougher.input.feed_au                          16\n",
      "rougher.input.floatbank10_sulfate             257\n",
      "rougher.input.floatbank10_xanthate            123\n",
      "rougher.input.floatbank11_sulfate              55\n",
      "rougher.input.floatbank11_xanthate            353\n",
      "rougher.state.floatbank10_a_air                17\n",
      "rougher.state.floatbank10_a_level              16\n",
      "rougher.state.floatbank10_b_air                17\n",
      "rougher.state.floatbank10_b_level              16\n",
      "rougher.state.floatbank10_c_air                17\n",
      "rougher.state.floatbank10_c_level              16\n",
      "rougher.state.floatbank10_d_air                17\n",
      "rougher.state.floatbank10_d_level              16\n",
      "rougher.state.floatbank10_e_air                17\n",
      "rougher.state.floatbank10_e_level              16\n",
      "rougher.state.floatbank10_f_air                17\n",
      "rougher.state.floatbank10_f_level              16\n",
      "secondary_cleaner.state.floatbank2_a_air       20\n",
      "secondary_cleaner.state.floatbank2_a_level     16\n",
      "secondary_cleaner.state.floatbank2_b_air       23\n",
      "secondary_cleaner.state.floatbank2_b_level     16\n",
      "secondary_cleaner.state.floatbank3_a_air       34\n",
      "secondary_cleaner.state.floatbank3_a_level     16\n",
      "secondary_cleaner.state.floatbank3_b_air       16\n",
      "secondary_cleaner.state.floatbank3_b_level     16\n",
      "secondary_cleaner.state.floatbank4_a_air       16\n",
      "secondary_cleaner.state.floatbank4_a_level     16\n",
      "secondary_cleaner.state.floatbank4_b_air       16\n",
      "secondary_cleaner.state.floatbank4_b_level     16\n",
      "secondary_cleaner.state.floatbank5_a_air       16\n",
      "secondary_cleaner.state.floatbank5_a_level     16\n",
      "secondary_cleaner.state.floatbank5_b_air       16\n",
      "secondary_cleaner.state.floatbank5_b_level     16\n",
      "secondary_cleaner.state.floatbank6_a_air       16\n",
      "secondary_cleaner.state.floatbank6_a_level     16\n",
      "dtype: int64\n"
     ]
    }
   ],
   "source": [
    "print(\"Gold Df Train\")\n",
    "print(golddf_train.isna().sum())\n",
    "print()\n",
    "print('Gold Df Test')\n",
    "print(golddf_test.isna().sum())"
   ]
  },
  {
   "cell_type": "markdown",
   "metadata": {},
   "source": [
    "golddf_test = golddf_test.fillna().mean()\n",
    "golddf_train = golddf_train.fillna().mean()"
   ]
  },
  {
   "cell_type": "code",
   "execution_count": 21,
   "metadata": {
    "trusted": true
   },
   "outputs": [
    {
     "name": "stderr",
     "output_type": "stream",
     "text": [
      "/var/folders/nq/rjlw7m5x2hx0l0h5d2fjgyn80000gn/T/ipykernel_5104/3148167060.py:1: FutureWarning: DataFrame.interpolate with object dtype is deprecated and will raise in a future version. Call obj.infer_objects(copy=False) before interpolating instead.\n",
      "  golddf_train = golddf_train.interpolate(method='nearest')\n",
      "/var/folders/nq/rjlw7m5x2hx0l0h5d2fjgyn80000gn/T/ipykernel_5104/3148167060.py:2: FutureWarning: DataFrame.interpolate with object dtype is deprecated and will raise in a future version. Call obj.infer_objects(copy=False) before interpolating instead.\n",
      "  golddf_test = golddf_test.interpolate(method='nearest')\n"
     ]
    }
   ],
   "source": [
    "golddf_train = golddf_train.interpolate(method='nearest')\n",
    "golddf_test = golddf_test.interpolate(method='nearest')\n"
   ]
  },
  {
   "cell_type": "markdown",
   "metadata": {},
   "source": [
    "filling Nan values"
   ]
  },
  {
   "cell_type": "code",
   "execution_count": 22,
   "metadata": {
    "trusted": true
   },
   "outputs": [
    {
     "name": "stdout",
     "output_type": "stream",
     "text": [
      "<class 'pandas.core.frame.DataFrame'>\n"
     ]
    }
   ],
   "source": [
    "print(type(golddf_train))"
   ]
  },
  {
   "cell_type": "code",
   "execution_count": 23,
   "metadata": {},
   "outputs": [],
   "source": [
    "import os\n",
    "\n",
    "# Create visuals folder (relative to notebook)\n",
    "visuals_path = '../visuals'\n",
    "os.makedirs(visuals_path, exist_ok=True)"
   ]
  },
  {
   "cell_type": "code",
   "execution_count": 24,
   "metadata": {},
   "outputs": [
    {
     "name": "stdout",
     "output_type": "stream",
     "text": [
      "/Users/macos/Desktop/Data Science/Vs Code Projects/visuals\n"
     ]
    }
   ],
   "source": [
    "\n",
    "print(os.path.abspath('../visuals'))"
   ]
  },
  {
   "cell_type": "code",
   "execution_count": 25,
   "metadata": {
    "scrolled": false,
    "trusted": true
   },
   "outputs": [
    {
     "name": "stdout",
     "output_type": "stream",
     "text": [
      "Gold Stages Train\n"
     ]
    },
    {
     "data": {
      "image/png": "[encoded data removed]",
      "text/plain": [
       "<Figure size 640x480 with 1 Axes>"
      ]
     },
     "metadata": {},
     "output_type": "display_data"
    },
    {
     "name": "stdout",
     "output_type": "stream",
     "text": [
      "\n",
      "\n",
      "Silver Stages\n"
     ]
    },
    {
     "data": {
      "image/png": "[encoded data removed]",
      "text/plain": [
       "<Figure size 640x480 with 1 Axes>"
      ]
     },
     "metadata": {},
     "output_type": "display_data"
    },
    {
     "name": "stdout",
     "output_type": "stream",
     "text": [
      "\n",
      "\n",
      "Lead Stages\n"
     ]
    },
    {
     "data": {
      "image/png": "[encoded data removed]",
      "text/plain": [
       "<Figure size 640x480 with 1 Axes>"
      ]
     },
     "metadata": {},
     "output_type": "display_data"
    }
   ],
   "source": [
    "#Gold(Au) #Silver(Ag) #Lead(Pb)\n",
    "\n",
    "goldtrain_stages = [\"rougher.input.feed_au\", \"primary_cleaner.output.concentrate_au\", \"final.output.concentrate_au\"]\n",
    "silvertrain_stages = [\"rougher.input.feed_ag\", \"primary_cleaner.output.concentrate_ag\", \"final.output.concentrate_ag\"]\n",
    "leadtrain_stages = [\"rougher.input.feed_pb\", \"primary_cleaner.output.concentrate_pb\", \"final.output.concentrate_pb\"]\n",
    "\n",
    "\n",
    "\n",
    "def pltstages(df,stages,kind):\n",
    "    df[stages].plot(kind='box',title= f\"{kind} Concentration Across Stages\")\n",
    "    plt.xticks(rotation=45) \n",
    "    plt.ylabel(\"Percentage Of Raw Material\")\n",
    "    \n",
    "    filename = f'{kind.lower().replace(\" \", \"_\")}_concentration_stages.png'\n",
    "    plt.savefig(os.path.join(visuals_path, filename), dpi=300, bbox_inches='tight')\n",
    "    plt.show()\n",
    "    \n",
    "    \n",
    "print(\"Gold Stages Train\")\n",
    "pltstages(golddf_train,goldtrain_stages,\"Gold\")\n",
    "print()\n",
    "print()\n",
    "print(\"Silver Stages\")\n",
    "pltstages(golddf_train,silvertrain_stages,\"Silver\")\n",
    "print()\n",
    "print()\n",
    "print(\"Lead Stages\")\n",
    "pltstages(golddf_train,leadtrain_stages,\"Lead\")"
   ]
  },
  {
   "cell_type": "markdown",
   "metadata": {},
   "source": [
    "concentration visualization based on purification stage. "
   ]
  },
  {
   "cell_type": "markdown",
   "metadata": {},
   "source": [
    "Concentration Visualization Conclusion: \n",
    "\n",
    "1.) GOLD - In each stage of the gold extraction process the concentration of gold steadily increases starting at a little under 10 percent leading to the final ouput of gold being close to 50 percent. In the rougher feed stage the concentration is slightly under 10%, in the primary cleaner output stage the concentration is a a few points above 30%, and in the final output stage the final extraction has only increased by what seeems to be a  15 points closer to 45% concentration. \n",
    "\n",
    "2.) SILVER - In each stage of the Silver extration process the concentration of Silver is very voletile in every phase.  In the rougher feed stage the concentration is slightly under 8%, in the primary cleaner output stage the concentration is a little over 8%, and in the final output stage the final extraction has decreased by what seeems to be a couple points closer to 5% concentration. \n",
    "\n",
    "3.) LEAD - In each stage of the lead extraction process the concentration of Lead progresses quite slowly. In the rougher feed stage the concentration is slightly under 4%, in the primary cleaner output stage the concentration is a little under 10%, and in the final output stage the final extraction has only increased by what seeems to be a couple points closer to 12% concentration. "
   ]
  },
  {
   "cell_type": "code",
   "execution_count": 26,
   "metadata": {
    "trusted": true
   },
   "outputs": [
    {
     "data": {
      "image/png": "[encoded data removed]",
      "text/plain": [
       "<Figure size 640x480 with 1 Axes>"
      ]
     },
     "metadata": {},
     "output_type": "display_data"
    }
   ],
   "source": [
    "plot_name_01 = \"feed_particle_size_distribution\"\n",
    "\n",
    "sns.kdeplot(golddf_train[\"rougher.input.feed_size\"], label=\"Train\", fill=True)\n",
    "sns.kdeplot(golddf_test[\"rougher.input.feed_size\"], label=\"Test\", fill=True)\n",
    "plt.legend()\n",
    "plt.title(\"Feed Particle Size Distribution (Train vs Test)\")\n",
    "plt.savefig(os.path.join(visuals_path, f'{plot_name_01}.png'), dpi=300)\n",
    "plt.show()"
   ]
  },
  {
   "cell_type": "markdown",
   "metadata": {},
   "source": [
    "Feed Partical Size Comparision Conclusion: \n",
    "\n",
    "The density of the feed particle size between the training and the test data are almost identical indicating there isn't much of a differential. "
   ]
  },
  {
   "cell_type": "code",
   "execution_count": 27,
   "metadata": {
    "trusted": true
   },
   "outputs": [
    {
     "data": {
      "image/png": "[encoded data removed]",
      "text/plain": [
       "<Figure size 640x480 with 1 Axes>"
      ]
     },
     "metadata": {},
     "output_type": "display_data"
    }
   ],
   "source": [
    "plot_name_02 = \"Total Metal Concentration (Raw Stage)\"\n",
    "\n",
    "\n",
    "golddf_full['total_raw_concentration'] = golddf_train['rougher.input.feed_au'] + golddf_train['rougher.input.feed_ag'] + golddf_train['rougher.input.feed_pb'] \n",
    "sns.histplot(golddf_full[\"total_raw_concentration\"], bins=50, kde=True)\n",
    "plt.title(\"Total Metal Concentration Distribution (Raw Stage)\")\n",
    "plt.savefig(os.path.join(visuals_path, f'{plot_name_02}.png'), dpi=300)\n",
    "\n",
    "plt.show()"
   ]
  },
  {
   "cell_type": "code",
   "execution_count": 24,
   "metadata": {
    "trusted": true
   },
   "outputs": [],
   "source": [
    "Q1_r = golddf_full[\"total_raw_concentration\"].quantile(0.25)\n",
    "Q3_r = golddf_full[\"total_raw_concentration\"].quantile(0.75)\n",
    "IQR_r = Q3_r - Q1_r\n",
    "\n",
    "golddf_full = golddf_full[\n",
    "    (golddf_full[\"total_raw_concentration\"] >= (Q1_r - 1.5 * IQR_r)) &\n",
    "    (golddf_full[\"total_raw_concentration\"] <= (Q3_r + 1.5 * IQR_r))\n",
    "]"
   ]
  },
  {
   "cell_type": "code",
   "execution_count": null,
   "metadata": {
    "trusted": true
   },
   "outputs": [
    {
     "name": "stderr",
     "output_type": "stream",
     "text": [
      "/var/folders/nq/rjlw7m5x2hx0l0h5d2fjgyn80000gn/T/ipykernel_2565/3071086208.py:3: SettingWithCopyWarning: \n",
      "A value is trying to be set on a copy of a slice from a DataFrame.\n",
      "Try using .loc[row_indexer,col_indexer] = value instead\n",
      "\n",
      "See the caveats in the documentation: https://pandas.pydata.org/pandas-docs/stable/user_guide/indexing.html#returning-a-view-versus-a-copy\n",
      "  golddf_full.loc[:, 'total_rougher_concentration'] = (\n"
     ]
    },
    {
     "data": {
      "image/png": "[encoded data removed]",
      "text/plain": [
       "<Figure size 640x480 with 1 Axes>"
      ]
     },
     "metadata": {},
     "output_type": "display_data"
    }
   ],
   "source": [
    "import seaborn as sns\n",
    "\n",
    "plot_name_03 = \"Total Metal Concentration (Rougher Stage)\"\n",
    "\n",
    "golddf_full.loc[:, 'total_rougher_concentration'] = (\n",
    "golddf_train['rougher.output.concentrate_au'] + \n",
    "golddf_train['rougher.output.concentrate_ag'] + \n",
    "golddf_train['rougher.output.concentrate_pb'])\n",
    "sns.histplot(golddf_full[\"total_rougher_concentration\"], bins=50, kde=True)\n",
    "plt.title(\"Total Metal Concentration Distribution (Rougher Stage)\")\n",
    "plt.savefig(os.path.join(visuals_path, f'{plot_name_03}.png'), dpi=300)\n",
    "plt.show()"
   ]
  },
  {
   "cell_type": "code",
   "execution_count": 26,
   "metadata": {
    "trusted": true
   },
   "outputs": [],
   "source": [
    "Q1_rough = golddf_full[\"total_rougher_concentration\"].quantile(0.25)\n",
    "Q3_rough = golddf_full[\"total_rougher_concentration\"].quantile(0.75)\n",
    "IQR_rough = Q3_rough - Q1_rough\n",
    "\n",
    "golddf_full = golddf_full[\n",
    "    (golddf_full[\"total_rougher_concentration\"] >= (Q1_rough - 1.5 * IQR_rough)) &\n",
    "    (golddf_full[\"total_rougher_concentration\"] <= (Q3_rough + 1.5 * IQR_rough))\n",
    "]"
   ]
  },
  {
   "cell_type": "code",
   "execution_count": 28,
   "metadata": {
    "trusted": true
   },
   "outputs": [
    {
     "data": {
      "image/png": "[encoded data removed]",
      "text/plain": [
       "<Figure size 640x480 with 1 Axes>"
      ]
     },
     "metadata": {},
     "output_type": "display_data"
    }
   ],
   "source": [
    "plot_name_04 = \"Total Metal Concentration (Final Stage)\"\n",
    "\n",
    "golddf_full['total_final_concentration'] = golddf_train['final.output.concentrate_au'] + golddf_train['final.output.concentrate_pb'] + golddf_train['final.output.concentrate_ag'] \n",
    "sns.histplot(golddf_full[\"total_final_concentration\"], bins=50, kde=True)\n",
    "plt.title(\"Total Metal Concentration Distribution (Final Stage)\")\n",
    "plt.savefig(os.path.join(visuals_path, f'{plot_name_04}.png'), dpi=300)\n",
    "plt.show()"
   ]
  },
  {
   "cell_type": "code",
   "execution_count": 28,
   "metadata": {
    "trusted": true
   },
   "outputs": [],
   "source": [
    "Q1_final = golddf_full[\"total_final_concentration\"].quantile(0.25)\n",
    "Q3_final = golddf_full[\"total_final_concentration\"].quantile(0.75)\n",
    "IQR_f = Q3_final - Q1_final\n",
    "\n",
    "golddf_full = golddf_full[\n",
    "    (golddf_full[\"total_final_concentration\"] >= (Q1_final - 1.5 * IQR_f)) &\n",
    "    (golddf_full[\"total_final_concentration\"] <= (Q3_final + 1.5 * IQR_f))\n",
    "]"
   ]
  },
  {
   "cell_type": "markdown",
   "metadata": {},
   "source": [
    "checked all 3 required stages for concentration distrobution, then using qualtile function to do away with extreme outliers. "
   ]
  },
  {
   "cell_type": "code",
   "execution_count": 29,
   "metadata": {
    "trusted": true
   },
   "outputs": [],
   "source": [
    "\n",
    "\n",
    "features = golddf_train.drop(columns=['date'] + list(missing_features), errors='ignore')\n",
    "\n",
    "\n",
    "\n",
    "\n",
    "target_rough = golddf_train['rougher.output.recovery']  \n",
    "target_final = golddf_train['final.output.recovery'] \n",
    "\n",
    "\n",
    "model_1 = RandomForestRegressor(random_state=12345)\n",
    "\n",
    "\n",
    "\n",
    "model_2 = lgb.LGBMRegressor(\n",
    "    n_estimators=500, \n",
    "    learning_rate=0.05, \n",
    "    metric='None'\n",
    ")\n",
    "\n"
   ]
  },
  {
   "cell_type": "markdown",
   "metadata": {},
   "source": [
    "Ive added another model the LGBM Regressor for a second model testing. "
   ]
  },
  {
   "cell_type": "code",
   "execution_count": 30,
   "metadata": {
    "scrolled": true,
    "trusted": true
   },
   "outputs": [
    {
     "name": "stdout",
     "output_type": "stream",
     "text": [
      "Train The Random Forest Regressor Rough Model:\n"
     ]
    },
    {
     "ename": "KeyboardInterrupt",
     "evalue": "",
     "output_type": "error",
     "traceback": [
      "\u001b[31m---------------------------------------------------------------------------\u001b[39m",
      "\u001b[31mKeyboardInterrupt\u001b[39m                         Traceback (most recent call last)",
      "\u001b[36mCell\u001b[39m\u001b[36m \u001b[39m\u001b[32mIn[30]\u001b[39m\u001b[32m, line 4\u001b[39m\n\u001b[32m      1\u001b[39m \u001b[38;5;66;03m#Train Rougher Model\u001b[39;00m\n\u001b[32m      3\u001b[39m \u001b[38;5;28mprint\u001b[39m(\u001b[33m\"\u001b[39m\u001b[33mTrain The Random Forest Regressor Rough Model:\u001b[39m\u001b[33m\"\u001b[39m)\n\u001b[32m----> \u001b[39m\u001b[32m4\u001b[39m rougher_model_v1 = \u001b[43mmodel_1\u001b[49m\u001b[43m.\u001b[49m\u001b[43mfit\u001b[49m\u001b[43m(\u001b[49m\u001b[43mfeatures\u001b[49m\u001b[43m,\u001b[49m\u001b[43mtarget_rough\u001b[49m\u001b[43m)\u001b[49m\n\u001b[32m      5\u001b[39m \u001b[38;5;28mprint\u001b[39m()\n\u001b[32m      6\u001b[39m \u001b[38;5;28mprint\u001b[39m()\n",
      "\u001b[36mFile \u001b[39m\u001b[32m/Applications/anaconda3/envs/Sprint10/lib/python3.11/site-packages/sklearn/ensemble/_forest.py:476\u001b[39m, in \u001b[36mBaseForest.fit\u001b[39m\u001b[34m(self, X, y, sample_weight)\u001b[39m\n\u001b[32m    465\u001b[39m trees = [\n\u001b[32m    466\u001b[39m     \u001b[38;5;28mself\u001b[39m._make_estimator(append=\u001b[38;5;28;01mFalse\u001b[39;00m, random_state=random_state)\n\u001b[32m    467\u001b[39m     \u001b[38;5;28;01mfor\u001b[39;00m i \u001b[38;5;129;01min\u001b[39;00m \u001b[38;5;28mrange\u001b[39m(n_more_estimators)\n\u001b[32m    468\u001b[39m ]\n\u001b[32m    470\u001b[39m \u001b[38;5;66;03m# Parallel loop: we prefer the threading backend as the Cython code\u001b[39;00m\n\u001b[32m    471\u001b[39m \u001b[38;5;66;03m# for fitting the trees is internally releasing the Python GIL\u001b[39;00m\n\u001b[32m    472\u001b[39m \u001b[38;5;66;03m# making threading more efficient than multiprocessing in\u001b[39;00m\n\u001b[32m    473\u001b[39m \u001b[38;5;66;03m# that case. However, for joblib 0.12+ we respect any\u001b[39;00m\n\u001b[32m    474\u001b[39m \u001b[38;5;66;03m# parallel_backend contexts set at a higher level,\u001b[39;00m\n\u001b[32m    475\u001b[39m \u001b[38;5;66;03m# since correctness does not rely on using threads.\u001b[39;00m\n\u001b[32m--> \u001b[39m\u001b[32m476\u001b[39m trees = \u001b[43mParallel\u001b[49m\u001b[43m(\u001b[49m\n\u001b[32m    477\u001b[39m \u001b[43m    \u001b[49m\u001b[43mn_jobs\u001b[49m\u001b[43m=\u001b[49m\u001b[38;5;28;43mself\u001b[39;49m\u001b[43m.\u001b[49m\u001b[43mn_jobs\u001b[49m\u001b[43m,\u001b[49m\n\u001b[32m    478\u001b[39m \u001b[43m    \u001b[49m\u001b[43mverbose\u001b[49m\u001b[43m=\u001b[49m\u001b[38;5;28;43mself\u001b[39;49m\u001b[43m.\u001b[49m\u001b[43mverbose\u001b[49m\u001b[43m,\u001b[49m\n\u001b[32m    479\u001b[39m \u001b[43m    \u001b[49m\u001b[43mprefer\u001b[49m\u001b[43m=\u001b[49m\u001b[33;43m\"\u001b[39;49m\u001b[33;43mthreads\u001b[39;49m\u001b[33;43m\"\u001b[39;49m\u001b[43m,\u001b[49m\n\u001b[32m    480\u001b[39m \u001b[43m\u001b[49m\u001b[43m)\u001b[49m\u001b[43m(\u001b[49m\n\u001b[32m    481\u001b[39m \u001b[43m    \u001b[49m\u001b[43mdelayed\u001b[49m\u001b[43m(\u001b[49m\u001b[43m_parallel_build_trees\u001b[49m\u001b[43m)\u001b[49m\u001b[43m(\u001b[49m\n\u001b[32m    482\u001b[39m \u001b[43m        \u001b[49m\u001b[43mt\u001b[49m\u001b[43m,\u001b[49m\n\u001b[32m    483\u001b[39m \u001b[43m        \u001b[49m\u001b[38;5;28;43mself\u001b[39;49m\u001b[43m.\u001b[49m\u001b[43mbootstrap\u001b[49m\u001b[43m,\u001b[49m\n\u001b[32m    484\u001b[39m \u001b[43m        \u001b[49m\u001b[43mX\u001b[49m\u001b[43m,\u001b[49m\n\u001b[32m    485\u001b[39m \u001b[43m        \u001b[49m\u001b[43my\u001b[49m\u001b[43m,\u001b[49m\n\u001b[32m    486\u001b[39m \u001b[43m        \u001b[49m\u001b[43msample_weight\u001b[49m\u001b[43m,\u001b[49m\n\u001b[32m    487\u001b[39m \u001b[43m        \u001b[49m\u001b[43mi\u001b[49m\u001b[43m,\u001b[49m\n\u001b[32m    488\u001b[39m \u001b[43m        \u001b[49m\u001b[38;5;28;43mlen\u001b[39;49m\u001b[43m(\u001b[49m\u001b[43mtrees\u001b[49m\u001b[43m)\u001b[49m\u001b[43m,\u001b[49m\n\u001b[32m    489\u001b[39m \u001b[43m        \u001b[49m\u001b[43mverbose\u001b[49m\u001b[43m=\u001b[49m\u001b[38;5;28;43mself\u001b[39;49m\u001b[43m.\u001b[49m\u001b[43mverbose\u001b[49m\u001b[43m,\u001b[49m\n\u001b[32m    490\u001b[39m \u001b[43m        \u001b[49m\u001b[43mclass_weight\u001b[49m\u001b[43m=\u001b[49m\u001b[38;5;28;43mself\u001b[39;49m\u001b[43m.\u001b[49m\u001b[43mclass_weight\u001b[49m\u001b[43m,\u001b[49m\n\u001b[32m    491\u001b[39m \u001b[43m        \u001b[49m\u001b[43mn_samples_bootstrap\u001b[49m\u001b[43m=\u001b[49m\u001b[43mn_samples_bootstrap\u001b[49m\u001b[43m,\u001b[49m\n\u001b[32m    492\u001b[39m \u001b[43m    \u001b[49m\u001b[43m)\u001b[49m\n\u001b[32m    493\u001b[39m \u001b[43m    \u001b[49m\u001b[38;5;28;43;01mfor\u001b[39;49;00m\u001b[43m \u001b[49m\u001b[43mi\u001b[49m\u001b[43m,\u001b[49m\u001b[43m \u001b[49m\u001b[43mt\u001b[49m\u001b[43m \u001b[49m\u001b[38;5;129;43;01min\u001b[39;49;00m\u001b[43m \u001b[49m\u001b[38;5;28;43menumerate\u001b[39;49m\u001b[43m(\u001b[49m\u001b[43mtrees\u001b[49m\u001b[43m)\u001b[49m\n\u001b[32m    494\u001b[39m \u001b[43m\u001b[49m\u001b[43m)\u001b[49m\n\u001b[32m    496\u001b[39m \u001b[38;5;66;03m# Collect newly grown trees\u001b[39;00m\n\u001b[32m    497\u001b[39m \u001b[38;5;28mself\u001b[39m.estimators_.extend(trees)\n",
      "\u001b[36mFile \u001b[39m\u001b[32m/Applications/anaconda3/envs/Sprint10/lib/python3.11/site-packages/joblib/parallel.py:1918\u001b[39m, in \u001b[36mParallel.__call__\u001b[39m\u001b[34m(self, iterable)\u001b[39m\n\u001b[32m   1916\u001b[39m     output = \u001b[38;5;28mself\u001b[39m._get_sequential_output(iterable)\n\u001b[32m   1917\u001b[39m     \u001b[38;5;28mnext\u001b[39m(output)\n\u001b[32m-> \u001b[39m\u001b[32m1918\u001b[39m     \u001b[38;5;28;01mreturn\u001b[39;00m output \u001b[38;5;28;01mif\u001b[39;00m \u001b[38;5;28mself\u001b[39m.return_generator \u001b[38;5;28;01melse\u001b[39;00m \u001b[38;5;28;43mlist\u001b[39;49m\u001b[43m(\u001b[49m\u001b[43moutput\u001b[49m\u001b[43m)\u001b[49m\n\u001b[32m   1920\u001b[39m \u001b[38;5;66;03m# Let's create an ID that uniquely identifies the current call. If the\u001b[39;00m\n\u001b[32m   1921\u001b[39m \u001b[38;5;66;03m# call is interrupted early and that the same instance is immediately\u001b[39;00m\n\u001b[32m   1922\u001b[39m \u001b[38;5;66;03m# re-used, this id will be used to prevent workers that were\u001b[39;00m\n\u001b[32m   1923\u001b[39m \u001b[38;5;66;03m# concurrently finalizing a task from the previous call to run the\u001b[39;00m\n\u001b[32m   1924\u001b[39m \u001b[38;5;66;03m# callback.\u001b[39;00m\n\u001b[32m   1925\u001b[39m \u001b[38;5;28;01mwith\u001b[39;00m \u001b[38;5;28mself\u001b[39m._lock:\n",
      "\u001b[36mFile \u001b[39m\u001b[32m/Applications/anaconda3/envs/Sprint10/lib/python3.11/site-packages/joblib/parallel.py:1847\u001b[39m, in \u001b[36mParallel._get_sequential_output\u001b[39m\u001b[34m(self, iterable)\u001b[39m\n\u001b[32m   1845\u001b[39m \u001b[38;5;28mself\u001b[39m.n_dispatched_batches += \u001b[32m1\u001b[39m\n\u001b[32m   1846\u001b[39m \u001b[38;5;28mself\u001b[39m.n_dispatched_tasks += \u001b[32m1\u001b[39m\n\u001b[32m-> \u001b[39m\u001b[32m1847\u001b[39m res = \u001b[43mfunc\u001b[49m\u001b[43m(\u001b[49m\u001b[43m*\u001b[49m\u001b[43margs\u001b[49m\u001b[43m,\u001b[49m\u001b[43m \u001b[49m\u001b[43m*\u001b[49m\u001b[43m*\u001b[49m\u001b[43mkwargs\u001b[49m\u001b[43m)\u001b[49m\n\u001b[32m   1848\u001b[39m \u001b[38;5;28mself\u001b[39m.n_completed_tasks += \u001b[32m1\u001b[39m\n\u001b[32m   1849\u001b[39m \u001b[38;5;28mself\u001b[39m.print_progress()\n",
      "\u001b[36mFile \u001b[39m\u001b[32m/Applications/anaconda3/envs/Sprint10/lib/python3.11/site-packages/sklearn/utils/fixes.py:117\u001b[39m, in \u001b[36m_FuncWrapper.__call__\u001b[39m\u001b[34m(self, *args, **kwargs)\u001b[39m\n\u001b[32m    115\u001b[39m \u001b[38;5;28;01mdef\u001b[39;00m\u001b[38;5;250m \u001b[39m\u001b[34m__call__\u001b[39m(\u001b[38;5;28mself\u001b[39m, *args, **kwargs):\n\u001b[32m    116\u001b[39m     \u001b[38;5;28;01mwith\u001b[39;00m config_context(**\u001b[38;5;28mself\u001b[39m.config):\n\u001b[32m--> \u001b[39m\u001b[32m117\u001b[39m         \u001b[38;5;28;01mreturn\u001b[39;00m \u001b[38;5;28;43mself\u001b[39;49m\u001b[43m.\u001b[49m\u001b[43mfunction\u001b[49m\u001b[43m(\u001b[49m\u001b[43m*\u001b[49m\u001b[43margs\u001b[49m\u001b[43m,\u001b[49m\u001b[43m \u001b[49m\u001b[43m*\u001b[49m\u001b[43m*\u001b[49m\u001b[43mkwargs\u001b[49m\u001b[43m)\u001b[49m\n",
      "\u001b[36mFile \u001b[39m\u001b[32m/Applications/anaconda3/envs/Sprint10/lib/python3.11/site-packages/sklearn/ensemble/_forest.py:189\u001b[39m, in \u001b[36m_parallel_build_trees\u001b[39m\u001b[34m(tree, bootstrap, X, y, sample_weight, tree_idx, n_trees, verbose, class_weight, n_samples_bootstrap)\u001b[39m\n\u001b[32m    186\u001b[39m     \u001b[38;5;28;01melif\u001b[39;00m class_weight == \u001b[33m\"\u001b[39m\u001b[33mbalanced_subsample\u001b[39m\u001b[33m\"\u001b[39m:\n\u001b[32m    187\u001b[39m         curr_sample_weight *= compute_sample_weight(\u001b[33m\"\u001b[39m\u001b[33mbalanced\u001b[39m\u001b[33m\"\u001b[39m, y, indices=indices)\n\u001b[32m--> \u001b[39m\u001b[32m189\u001b[39m     \u001b[43mtree\u001b[49m\u001b[43m.\u001b[49m\u001b[43mfit\u001b[49m\u001b[43m(\u001b[49m\u001b[43mX\u001b[49m\u001b[43m,\u001b[49m\u001b[43m \u001b[49m\u001b[43my\u001b[49m\u001b[43m,\u001b[49m\u001b[43m \u001b[49m\u001b[43msample_weight\u001b[49m\u001b[43m=\u001b[49m\u001b[43mcurr_sample_weight\u001b[49m\u001b[43m,\u001b[49m\u001b[43m \u001b[49m\u001b[43mcheck_input\u001b[49m\u001b[43m=\u001b[49m\u001b[38;5;28;43;01mFalse\u001b[39;49;00m\u001b[43m)\u001b[49m\n\u001b[32m    190\u001b[39m \u001b[38;5;28;01melse\u001b[39;00m:\n\u001b[32m    191\u001b[39m     tree.fit(X, y, sample_weight=sample_weight, check_input=\u001b[38;5;28;01mFalse\u001b[39;00m)\n",
      "\u001b[36mFile \u001b[39m\u001b[32m/Applications/anaconda3/envs/Sprint10/lib/python3.11/site-packages/sklearn/tree/_classes.py:1342\u001b[39m, in \u001b[36mDecisionTreeRegressor.fit\u001b[39m\u001b[34m(self, X, y, sample_weight, check_input)\u001b[39m\n\u001b[32m   1313\u001b[39m \u001b[38;5;28;01mdef\u001b[39;00m\u001b[38;5;250m \u001b[39m\u001b[34mfit\u001b[39m(\u001b[38;5;28mself\u001b[39m, X, y, sample_weight=\u001b[38;5;28;01mNone\u001b[39;00m, check_input=\u001b[38;5;28;01mTrue\u001b[39;00m):\n\u001b[32m   1314\u001b[39m \u001b[38;5;250m    \u001b[39m\u001b[33;03m\"\"\"Build a decision tree regressor from the training set (X, y).\u001b[39;00m\n\u001b[32m   1315\u001b[39m \n\u001b[32m   1316\u001b[39m \u001b[33;03m    Parameters\u001b[39;00m\n\u001b[32m   (...)\u001b[39m\u001b[32m   1339\u001b[39m \u001b[33;03m        Fitted estimator.\u001b[39;00m\n\u001b[32m   1340\u001b[39m \u001b[33;03m    \"\"\"\u001b[39;00m\n\u001b[32m-> \u001b[39m\u001b[32m1342\u001b[39m     \u001b[38;5;28;43msuper\u001b[39;49m\u001b[43m(\u001b[49m\u001b[43m)\u001b[49m\u001b[43m.\u001b[49m\u001b[43mfit\u001b[49m\u001b[43m(\u001b[49m\n\u001b[32m   1343\u001b[39m \u001b[43m        \u001b[49m\u001b[43mX\u001b[49m\u001b[43m,\u001b[49m\n\u001b[32m   1344\u001b[39m \u001b[43m        \u001b[49m\u001b[43my\u001b[49m\u001b[43m,\u001b[49m\n\u001b[32m   1345\u001b[39m \u001b[43m        \u001b[49m\u001b[43msample_weight\u001b[49m\u001b[43m=\u001b[49m\u001b[43msample_weight\u001b[49m\u001b[43m,\u001b[49m\n\u001b[32m   1346\u001b[39m \u001b[43m        \u001b[49m\u001b[43mcheck_input\u001b[49m\u001b[43m=\u001b[49m\u001b[43mcheck_input\u001b[49m\u001b[43m,\u001b[49m\n\u001b[32m   1347\u001b[39m \u001b[43m    \u001b[49m\u001b[43m)\u001b[49m\n\u001b[32m   1348\u001b[39m     \u001b[38;5;28;01mreturn\u001b[39;00m \u001b[38;5;28mself\u001b[39m\n",
      "\u001b[36mFile \u001b[39m\u001b[32m/Applications/anaconda3/envs/Sprint10/lib/python3.11/site-packages/sklearn/tree/_classes.py:458\u001b[39m, in \u001b[36mBaseDecisionTree.fit\u001b[39m\u001b[34m(self, X, y, sample_weight, check_input)\u001b[39m\n\u001b[32m    447\u001b[39m \u001b[38;5;28;01melse\u001b[39;00m:\n\u001b[32m    448\u001b[39m     builder = BestFirstTreeBuilder(\n\u001b[32m    449\u001b[39m         splitter,\n\u001b[32m    450\u001b[39m         min_samples_split,\n\u001b[32m   (...)\u001b[39m\u001b[32m    455\u001b[39m         \u001b[38;5;28mself\u001b[39m.min_impurity_decrease,\n\u001b[32m    456\u001b[39m     )\n\u001b[32m--> \u001b[39m\u001b[32m458\u001b[39m \u001b[43mbuilder\u001b[49m\u001b[43m.\u001b[49m\u001b[43mbuild\u001b[49m\u001b[43m(\u001b[49m\u001b[38;5;28;43mself\u001b[39;49m\u001b[43m.\u001b[49m\u001b[43mtree_\u001b[49m\u001b[43m,\u001b[49m\u001b[43m \u001b[49m\u001b[43mX\u001b[49m\u001b[43m,\u001b[49m\u001b[43m \u001b[49m\u001b[43my\u001b[49m\u001b[43m,\u001b[49m\u001b[43m \u001b[49m\u001b[43msample_weight\u001b[49m\u001b[43m)\u001b[49m\n\u001b[32m    460\u001b[39m \u001b[38;5;28;01mif\u001b[39;00m \u001b[38;5;28mself\u001b[39m.n_outputs_ == \u001b[32m1\u001b[39m \u001b[38;5;129;01mand\u001b[39;00m is_classifier(\u001b[38;5;28mself\u001b[39m):\n\u001b[32m    461\u001b[39m     \u001b[38;5;28mself\u001b[39m.n_classes_ = \u001b[38;5;28mself\u001b[39m.n_classes_[\u001b[32m0\u001b[39m]\n",
      "\u001b[31mKeyboardInterrupt\u001b[39m: "
     ]
    }
   ],
   "source": [
    "#Train Rougher Model\n",
    "\n",
    "print(\"Train The Random Forest Regressor Rough Model:\")\n",
    "rougher_model_v1 = model_1.fit(features,target_rough)\n",
    "print()\n",
    "print()\n",
    "print(\"Train The Light GMB Regressor Rough Model:\")\n",
    "rougher_model_v2 = model_2.fit(features,target_rough)\n"
   ]
  },
  {
   "cell_type": "code",
   "execution_count": null,
   "metadata": {
    "trusted": true
   },
   "outputs": [
    {
     "name": "stdout",
     "output_type": "stream",
     "text": [
      "Train The Random Forest Regressor Final Model:\n",
      "\n",
      "\n",
      "Train The Light GMB Regressor Final Model:\n"
     ]
    }
   ],
   "source": [
    "#Train Final Model \n",
    "print(\"Train The Random Forest Regressor Final Model:\")\n",
    "final_model_v1 = model_1.fit(features,target_final)\n",
    "print()\n",
    "print()\n",
    "print(\"Train The Light GMB Regressor Final Model:\")\n",
    "final_model_v2 = model_2.fit(features,target_final)"
   ]
  },
  {
   "cell_type": "code",
   "execution_count": null,
   "metadata": {
    "trusted": true
   },
   "outputs": [
    {
     "name": "stdout",
     "output_type": "stream",
     "text": [
      "Prediction Of The Random Forest Regressor:\n",
      "\n",
      "\n",
      "Prediction Of The Light GMB Regressor:\n"
     ]
    }
   ],
   "source": [
    "print(\"Prediction Of The Random Forest Regressor:\")\n",
    "rough_predict_v1 = rougher_model_v1.predict(features)\n",
    "final_predict_v1 = final_model_v1.predict(features)\n",
    "print()\n",
    "print()\n",
    "print(\"Prediction Of The Light GMB Regressor:\")\n",
    "final_predict_v2 = final_model_v2.predict(features)\n",
    "rough_predict_v2 = rougher_model_v2.predict(features)\n"
   ]
  },
  {
   "cell_type": "markdown",
   "metadata": {},
   "source": [
    "Training Model For Rougher and Final Stages of Gold Purification, Will use data to pick best model. "
   ]
  },
  {
   "cell_type": "code",
   "execution_count": null,
   "metadata": {
    "trusted": true
   },
   "outputs": [],
   "source": [
    "def smape(y_true,y_pred):\n",
    "    y_true = np.nan_to_num(y_true, nan=0)\n",
    "    y_pred = np.nan_to_num(y_pred, nan=0)\n",
    "    error = np.abs(y_true-y_pred)\n",
    "    denominator = (np.abs(y_true) + np.abs(y_pred)) / 2\n",
    "    denominator = np.where(denominator == 0, 1e-8, denominator)\n",
    "    smape = np.mean(error / denominator) * 100\n",
    "    \n",
    "    return smape\n",
    "\n",
    "\n",
    "smape_scorer = make_scorer(smape, greater_is_better=False)"
   ]
  },
  {
   "cell_type": "code",
   "execution_count": null,
   "metadata": {
    "trusted": true
   },
   "outputs": [],
   "source": [
    "#function for final SMAPE\n",
    "\n",
    "def final_smape(y_true_rougher,y_pred_rougher,y_true_final,y_pred_final):\n",
    "    smape_rougher = smape(y_true_rougher,y_pred_rougher)\n",
    "    smape_final = smape(y_true_final,y_pred_final)\n",
    "    weighted_smape = .25 * smape_rougher + .75 * smape_final\n",
    "    return weighted_smape\n"
   ]
  },
  {
   "cell_type": "markdown",
   "metadata": {},
   "source": [
    "SMAPE and Final SMAPE functions created. (although I found it easier to just input the Final SMAPE manually)"
   ]
  },
  {
   "cell_type": "code",
   "execution_count": null,
   "metadata": {
    "trusted": true
   },
   "outputs": [
    {
     "name": "stdout",
     "output_type": "stream",
     "text": [
      "Rougher SMAPE Score Random Foest Regressor: 34.85%\n",
      "Final SMAPE Score Random Forest Regressor: 8.29%\n",
      "\n",
      "\n"
     ]
    }
   ],
   "source": [
    "smape_rough_v1 = smape(target_rough, rough_predict_v1)\n",
    "smape_final_v1 = smape(target_final, final_predict_v1)\n",
    "\n",
    "print(f\"Rougher SMAPE Score Random Foest Regressor: {smape_rough_v1:.2f}%\")\n",
    "print(f\"Final SMAPE Score Random Forest Regressor: {smape_final_v1:.2f}%\")\n",
    "print()\n",
    "print()"
   ]
  },
  {
   "cell_type": "code",
   "execution_count": null,
   "metadata": {
    "trusted": true
   },
   "outputs": [
    {
     "name": "stdout",
     "output_type": "stream",
     "text": [
      "Rougher SMAPE Score Light GMB Regressor: 35.44%\n",
      "Final SMAPE Score Light GMB Regressor: 11.99%\n",
      "\n",
      "\n"
     ]
    }
   ],
   "source": [
    "smape_rough_v2 = smape(target_rough, rough_predict_v2)\n",
    "smape_final_v2 = smape(target_final, final_predict_v2)\n",
    "\n",
    "print(f\"Rougher SMAPE Score Light GMB Regressor: {smape_rough_v2:.2f}%\")\n",
    "print(f\"Final SMAPE Score Light GMB Regressor: {smape_final_v2:.2f}%\")\n",
    "print()\n",
    "print()"
   ]
  },
  {
   "cell_type": "code",
   "execution_count": null,
   "metadata": {
    "trusted": true
   },
   "outputs": [
    {
     "name": "stdout",
     "output_type": "stream",
     "text": [
      "Final SMAPE Score Random Forest Regressor: 14.93%\n"
     ]
    }
   ],
   "source": [
    "final_smae_v1 = .25 * smape_rough_v1 + .75 * smape_final_v1\n",
    "print(f\"Final SMAPE Score Random Forest Regressor: {final_smae_v1:.2f}%\")"
   ]
  },
  {
   "cell_type": "code",
   "execution_count": null,
   "metadata": {
    "trusted": true
   },
   "outputs": [
    {
     "name": "stdout",
     "output_type": "stream",
     "text": [
      "Final SMAPE Score Light GMB Regressor: 17.85%\n"
     ]
    }
   ],
   "source": [
    "final_smae_v2 = .25 * smape_rough_v2 + .75 * smape_final_v2\n",
    "print(f\"Final SMAPE Score Light GMB Regressor: {final_smae_v2:.2f}%\")"
   ]
  },
  {
   "cell_type": "markdown",
   "metadata": {},
   "source": [
    "SMAPE and Final SMAPE results"
   ]
  },
  {
   "cell_type": "code",
   "execution_count": null,
   "metadata": {
    "scrolled": true,
    "trusted": true
   },
   "outputs": [
    {
     "name": "stdout",
     "output_type": "stream",
     "text": [
      "Rough Val Score of Random Forest Regressor Model:\n",
      "Cross Validation Scores for  Random Forest Rougher Model: [-21.94254343 -19.04662799 -25.64967015]\n",
      "Cross Validation Scores for  Random Forest Final Model: [-24.66587409 -22.51013955 -24.41992656]\n"
     ]
    }
   ],
   "source": [
    "print(\"Rough Val Score of Random Forest Regressor Model:\")\n",
    "\n",
    "rough_val_score_v1 = cross_val_score(model_1, features, target_rough, cv=3, scoring=smape_scorer)\n",
    "final_val_score_v1 = cross_val_score(model_1, features, target_final, cv=3, scoring=smape_scorer)\n",
    "\n",
    "print(\"Cross Validation Scores for  Random Forest Rougher Model:\", rough_val_score_v1)\n",
    "print(\"Cross Validation Scores for  Random Forest Final Model:\", final_val_score_v1)"
   ]
  },
  {
   "cell_type": "markdown",
   "metadata": {},
   "source": [
    "Cross Validation for both models. The Rougher Stage trained model performed better. Will be going forward with this model. "
   ]
  },
  {
   "cell_type": "code",
   "execution_count": null,
   "metadata": {
    "trusted": true
   },
   "outputs": [
    {
     "name": "stdout",
     "output_type": "stream",
     "text": [
      "Rough Val Score of Light GMB Regressor Model:\n",
      "Cross Validation Scores for Light GMB  Rougher Model: [-19.3112334  -18.44976308 -25.34473195]\n",
      "Cross Validation Scores for Light GMB  Final Model: [-25.50460863 -23.71648514 -26.77620452]\n"
     ]
    }
   ],
   "source": [
    "print(\"Rough Val Score of Light GMB Regressor Model:\")\n",
    "\n",
    "rough_val_score_v2 = cross_val_score(model_2, features, target_rough, cv=3, scoring=smape_scorer)\n",
    "final_val_score_v2 = cross_val_score(model_2, features, target_final, cv=3, scoring=smape_scorer)\n",
    "\n",
    "print(\"Cross Validation Scores for Light GMB  Rougher Model:\", rough_val_score_v2)\n",
    "print(\"Cross Validation Scores for Light GMB  Final Model:\", final_val_score_v2)"
   ]
  },
  {
   "cell_type": "code",
   "execution_count": null,
   "metadata": {
    "scrolled": false,
    "trusted": true
   },
   "outputs": [
    {
     "name": "stdout",
     "output_type": "stream",
     "text": [
      "Train The Light GMB Regressor Rough Model Tuned:\n",
      "Final SMAPE for Rougher Recovery Tuned: 15.33%\n",
      "Train The Light GMB Regressor Final Model Tuned:\n",
      "Final SMAPE for Final Recovery Tuned: 17.43%\n"
     ]
    }
   ],
   "source": [
    "\n",
    "model_2_tuned = lgb.LGBMRegressor()\n",
    "\n",
    "param_grid = {\n",
    "    'n_estimators': [100, 200, 500],\n",
    "    'learning_rate': [0.01, 0.05, 0.1],\n",
    "    'max_depth': [3, 5, 7]\n",
    "}\n",
    "\n",
    "print(\"Train The Light GMB Regressor Rough Model Tuned:\")\n",
    "\n",
    "grid_search_rough = GridSearchCV(model_2_tuned, param_grid, scoring=smape_scorer, cv=5)\n",
    "grid_search_rough.fit(features, target_rough)  \n",
    "\n",
    "best_model_rough = grid_search_rough.best_estimator_\n",
    "predictions_rough = best_model_rough.predict(features)\n",
    "\n",
    "final_smape_rough_tuned = smape(target_rough, predictions_rough)\n",
    "print(f\"Final SMAPE for Rougher Recovery Tuned: {final_smape_rough_tuned:.2f}%\")\n",
    "\n",
    "\n",
    "'---------'\n",
    "\n",
    "print(\"Train The Light GMB Regressor Final Model Tuned:\") \n",
    "\n",
    "grid_search_final = GridSearchCV(model_2_tuned, param_grid, scoring=smape_scorer, cv=5)\n",
    "grid_search_final.fit(features, target_final)  \n",
    "\n",
    "best_model_final = grid_search_final.best_estimator_\n",
    "predictions_final = best_model_final.predict(features)\n",
    "\n",
    "final_smape_final_tuned = smape(target_final, predictions_final)\n",
    "print(f\"Final SMAPE for Final Recovery Tuned: {final_smape_final_tuned:.2f}%\")\n",
    "\n"
   ]
  },
  {
   "cell_type": "code",
   "execution_count": null,
   "metadata": {
    "trusted": true
   },
   "outputs": [
    {
     "name": "stdout",
     "output_type": "stream",
     "text": [
      "Best Parameters For Rough Model Tuned: {'learning_rate': 0.01, 'max_depth': 3, 'n_estimators': 200}\n",
      "Best Score For Rough Model Tuned: 17.81847545670598\n"
     ]
    }
   ],
   "source": [
    "print(\"Best Parameters For Rough Model Tuned:\", grid_search_rough.best_params_)\n",
    "print(\"Best Score For Rough Model Tuned:\", -grid_search_rough.best_score_) "
   ]
  },
  {
   "cell_type": "code",
   "execution_count": null,
   "metadata": {
    "trusted": true
   },
   "outputs": [
    {
     "name": "stdout",
     "output_type": "stream",
     "text": [
      "Best Parameters For Final Model Tuned: {'learning_rate': 0.01, 'max_depth': 3, 'n_estimators': 200}\n",
      "Best Score For Final Model Tuned: 19.62329840013896\n"
     ]
    }
   ],
   "source": [
    "print(\"Best Parameters For Final Model Tuned:\", grid_search_final.best_params_)\n",
    "print(\"Best Score For Final Model Tuned:\", -grid_search_final.best_score_) "
   ]
  },
  {
   "cell_type": "code",
   "execution_count": null,
   "metadata": {
    "trusted": true
   },
   "outputs": [
    {
     "name": "stdout",
     "output_type": "stream",
     "text": [
      "Final SMAPE Score Light GMB Regressor Tuned: 16.91%\n"
     ]
    }
   ],
   "source": [
    "final_smae_v2_tuned = .25 * final_smape_rough_tuned + .75 * final_smape_final_tuned\n",
    "print(f\"Final SMAPE Score Light GMB Regressor Tuned: {final_smae_v2_tuned:.2f}%\")"
   ]
  },
  {
   "cell_type": "code",
   "execution_count": null,
   "metadata": {
    "trusted": true
   },
   "outputs": [],
   "source": [
    "golddf_test = golddf_test.merge(\n",
    "    golddf_full[['date', 'rougher.output.recovery','final.output.recovery']],  \n",
    "    on='date',  \n",
    "    how='left')"
   ]
  },
  {
   "cell_type": "code",
   "execution_count": null,
   "metadata": {
    "trusted": true
   },
   "outputs": [],
   "source": [
    "#test on the Final Model \n",
    "\n",
    "target_final_test = golddf_test['final.output.recovery']\n",
    "features_test = golddf_test.drop(columns=['date','final.output.recovery','rougher.output.recovery'],errors='ignore')\n"
   ]
  },
  {
   "cell_type": "code",
   "execution_count": null,
   "metadata": {
    "scrolled": true,
    "trusted": true
   },
   "outputs": [],
   "source": [
    "#test on the Rougher Model, it produced better val score \n",
    "\n",
    "\n",
    "target_rough_test = golddf_test['rougher.output.recovery']\n",
    "\n"
   ]
  },
  {
   "cell_type": "code",
   "execution_count": null,
   "metadata": {
    "trusted": true
   },
   "outputs": [
    {
     "name": "stdout",
     "output_type": "stream",
     "text": [
      "Missing in test set: set()\n",
      "Unexpected extra features in test set: set()\n"
     ]
    }
   ],
   "source": [
    "missing_features = set(features.columns) - set(features_test.columns)\n",
    "extra_features = set(features_test.columns) - set(features.columns)\n",
    "\n",
    "print(\"Missing in test set:\", missing_features)\n",
    "print(\"Unexpected extra features in test set:\", extra_features)"
   ]
  },
  {
   "cell_type": "code",
   "execution_count": null,
   "metadata": {
    "trusted": true
   },
   "outputs": [],
   "source": [
    "predictions_rough = rougher_model_v1.predict(features_test)\n",
    "predictions_final = final_model_v1.predict(features_test)"
   ]
  },
  {
   "cell_type": "code",
   "execution_count": null,
   "metadata": {
    "trusted": true
   },
   "outputs": [
    {
     "name": "stdout",
     "output_type": "stream",
     "text": [
      "Rougher Model vs Test Set SMAPE Score:\n",
      "Rougher Model vs Test Set SMAPE Score: 84.57%\n"
     ]
    }
   ],
   "source": [
    "print(\"Rougher Model vs Test Set SMAPE Score:\")\n",
    "\n",
    "smape_score_test_rough = smape(target_rough_test, predictions_rough)\n",
    "print(f\"Rougher Model vs Test Set SMAPE Score: {smape_score_test_rough:.2f}%\")"
   ]
  },
  {
   "cell_type": "code",
   "execution_count": null,
   "metadata": {
    "trusted": true
   },
   "outputs": [
    {
     "name": "stdout",
     "output_type": "stream",
     "text": [
      "Final Model vs Test Set SMAPE Score:\n",
      "Final Model vs Test Set SMAPE Score: 69.09%\n"
     ]
    }
   ],
   "source": [
    "print(\"Final Model vs Test Set SMAPE Score:\")\n",
    "\n",
    "smape_score_test_final = smape(target_final_test, predictions_final)\n",
    "print(f\"Final Model vs Test Set SMAPE Score: {smape_score_test_final:.2f}%\")"
   ]
  },
  {
   "cell_type": "code",
   "execution_count": null,
   "metadata": {
    "trusted": true
   },
   "outputs": [
    {
     "name": "stdout",
     "output_type": "stream",
     "text": [
      "Final SMAPE Score For Testing Set Rougher and Final: 72.96%\n"
     ]
    }
   ],
   "source": [
    "final_test_smae = .25 * smape_score_test_rough + .75 * smape_score_test_final\n",
    "\n",
    "print(f\"Final SMAPE Score For Testing Set Rougher and Final: {final_test_smae:.2f}%\")"
   ]
  },
  {
   "cell_type": "code",
   "execution_count": null,
   "metadata": {
    "trusted": true
   },
   "outputs": [
    {
     "name": "stdout",
     "output_type": "stream",
     "text": [
      "Dummy Model SMAPE: 77.11%\n"
     ]
    }
   ],
   "source": [
    "dummy_model = DummyRegressor(strategy=\"median\")\n",
    "\n",
    "dummy_model.fit(features, target_rough)\n",
    "\n",
    "dummy_predictions = dummy_model.predict(features_test)\n",
    "\n",
    "dummy_smape = smape(target_final_test, dummy_predictions)\n",
    "print(f\"Dummy Model SMAPE: {dummy_smape:.2f}%\")"
   ]
  },
  {
   "cell_type": "code",
   "execution_count": null,
   "metadata": {
    "trusted": true
   },
   "outputs": [
    {
     "name": "stdout",
     "output_type": "stream",
     "text": [
      "LGBM Model SMAPE: 75.61%\n"
     ]
    }
   ],
   "source": [
    "lgb_predictions = best_model_rough.predict(features_test)\n",
    "lgb_smape = smape(target_final_test, lgb_predictions)\n",
    "print(f\"LGBM Best Model SMAPE: {lgb_smape:.2f}%\")\n"
   ]
  },
  {
   "cell_type": "code",
   "execution_count": null,
   "metadata": {
    "trusted": true
   },
   "outputs": [
    {
     "name": "stdout",
     "output_type": "stream",
     "text": [
      "The Best LGBM model performs better than the Dummy model.\n"
     ]
    }
   ],
   "source": [
    "if lgb_smape < dummy_smape:\n",
    "    print(\"The Best LGBM model performs better than the Dummy model.\")\n",
    "else:\n",
    "    print(\"The Best LGBM model is not significantly better than a simple constant prediction!\")"
   ]
  },
  {
   "cell_type": "markdown",
   "metadata": {},
   "source": [
    "# Conculsion: \n",
    "We have conducted an SDA , RandomForestRegressor and LGBM model training and testing in this project. We've used all 3 raw datasets to test and compare the possible outcomes to pick the best functioning model. Then we've tested this model against a Constant Dummy Model to sanity check the models quality. In conclusion we've found the best hyperparmeters for our best model LGBM Rougher Model. This model has proven to be the best model for our projects predictions, outscoring all other in our cross validation checks as well as passing the sanity check."
   ]
  }
 ],
 "metadata": {
  "ExecuteTimeLog": [
   {
    "duration": 2662,
    "start_time": "2025-04-02T10:17:18.853Z"
   },
   {
    "duration": 4,
    "start_time": "2025-04-02T10:17:21.517Z"
   },
   {
    "duration": 611,
    "start_time": "2025-04-02T10:17:21.522Z"
   },
   {
    "duration": 3,
    "start_time": "2025-04-02T10:17:22.136Z"
   },
   {
    "duration": 247,
    "start_time": "2025-04-02T10:17:22.141Z"
   },
   {
    "duration": 139,
    "start_time": "2025-04-02T10:17:22.389Z"
   },
   {
    "duration": 273,
    "start_time": "2025-04-02T10:17:22.530Z"
   },
   {
    "duration": 5,
    "start_time": "2025-04-02T10:17:22.808Z"
   },
   {
    "duration": 2,
    "start_time": "2025-04-02T10:17:22.815Z"
   },
   {
    "duration": 4,
    "start_time": "2025-04-02T10:17:22.821Z"
   },
   {
    "duration": 3,
    "start_time": "2025-04-02T10:17:22.827Z"
   },
   {
    "duration": 7,
    "start_time": "2025-04-02T10:17:22.831Z"
   },
   {
    "duration": 7,
    "start_time": "2025-04-02T10:17:22.840Z"
   },
   {
    "duration": 4,
    "start_time": "2025-04-02T10:17:22.849Z"
   },
   {
    "duration": 4,
    "start_time": "2025-04-02T10:17:22.855Z"
   },
   {
    "duration": 50,
    "start_time": "2025-04-02T10:17:22.860Z"
   },
   {
    "duration": 292,
    "start_time": "2025-04-02T10:17:22.913Z"
   },
   {
    "duration": 0,
    "start_time": "2025-04-02T10:17:23.209Z"
   },
   {
    "duration": 0,
    "start_time": "2025-04-02T10:17:23.210Z"
   },
   {
    "duration": 3,
    "start_time": "2025-04-02T10:17:23.345Z"
   },
   {
    "duration": 399,
    "start_time": "2025-04-02T10:17:23.427Z"
   },
   {
    "duration": 473,
    "start_time": "2025-04-02T10:17:23.827Z"
   },
   {
    "duration": 367,
    "start_time": "2025-04-02T10:17:24.309Z"
   },
   {
    "duration": 20,
    "start_time": "2025-04-02T10:17:24.679Z"
   },
   {
    "duration": 0,
    "start_time": "2025-04-02T10:17:24.710Z"
   },
   {
    "duration": 0,
    "start_time": "2025-04-02T10:17:24.710Z"
   },
   {
    "duration": 0,
    "start_time": "2025-04-02T10:17:24.712Z"
   },
   {
    "duration": 0,
    "start_time": "2025-04-02T10:17:24.713Z"
   },
   {
    "duration": 0,
    "start_time": "2025-04-02T10:17:24.715Z"
   },
   {
    "duration": 0,
    "start_time": "2025-04-02T10:17:24.717Z"
   },
   {
    "duration": 0,
    "start_time": "2025-04-02T10:17:24.718Z"
   },
   {
    "duration": 12,
    "start_time": "2025-04-02T10:17:24.761Z"
   },
   {
    "duration": 11,
    "start_time": "2025-04-02T10:17:24.845Z"
   },
   {
    "duration": 3,
    "start_time": "2025-04-02T10:17:25.012Z"
   },
   {
    "duration": 2,
    "start_time": "2025-04-02T10:17:25.096Z"
   },
   {
    "duration": 12,
    "start_time": "2025-04-02T10:17:25.263Z"
   },
   {
    "duration": 11,
    "start_time": "2025-04-02T10:17:25.348Z"
   },
   {
    "duration": 15,
    "start_time": "2025-04-02T10:17:25.516Z"
   },
   {
    "duration": 3,
    "start_time": "2025-04-02T10:17:25.680Z"
   },
   {
    "duration": 2,
    "start_time": "2025-04-02T10:17:25.765Z"
   },
   {
    "duration": 4,
    "start_time": "2025-04-02T10:17:25.849Z"
   },
   {
    "duration": 2,
    "start_time": "2025-04-02T10:17:25.931Z"
   },
   {
    "duration": 18,
    "start_time": "2025-04-02T10:17:26.014Z"
   },
   {
    "duration": 3,
    "start_time": "2025-04-02T10:17:26.100Z"
   },
   {
    "duration": 706,
    "start_time": "2025-04-02T10:17:26.180Z"
   },
   {
    "duration": 0,
    "start_time": "2025-04-02T10:17:26.888Z"
   },
   {
    "duration": 2700,
    "start_time": "2025-04-02T12:18:27.266Z"
   },
   {
    "duration": 4,
    "start_time": "2025-04-02T12:18:29.969Z"
   },
   {
    "duration": 629,
    "start_time": "2025-04-02T12:18:29.974Z"
   },
   {
    "duration": 3,
    "start_time": "2025-04-02T12:18:30.605Z"
   },
   {
    "duration": 247,
    "start_time": "2025-04-02T12:18:30.610Z"
   },
   {
    "duration": 134,
    "start_time": "2025-04-02T12:18:30.859Z"
   },
   {
    "duration": 288,
    "start_time": "2025-04-02T12:18:30.995Z"
   },
   {
    "duration": 5,
    "start_time": "2025-04-02T12:18:31.285Z"
   },
   {
    "duration": 3,
    "start_time": "2025-04-02T12:18:31.292Z"
   },
   {
    "duration": 6,
    "start_time": "2025-04-02T12:18:31.296Z"
   },
   {
    "duration": 3,
    "start_time": "2025-04-02T12:18:31.303Z"
   },
   {
    "duration": 7,
    "start_time": "2025-04-02T12:18:31.308Z"
   },
   {
    "duration": 8,
    "start_time": "2025-04-02T12:18:31.317Z"
   },
   {
    "duration": 43,
    "start_time": "2025-04-02T12:18:31.329Z"
   },
   {
    "duration": 12,
    "start_time": "2025-04-02T12:18:31.374Z"
   },
   {
    "duration": 6,
    "start_time": "2025-04-02T12:18:31.388Z"
   },
   {
    "duration": 8,
    "start_time": "2025-04-02T12:18:31.396Z"
   },
   {
    "duration": 67,
    "start_time": "2025-04-02T12:18:31.406Z"
   },
   {
    "duration": 3,
    "start_time": "2025-04-02T12:18:31.475Z"
   },
   {
    "duration": 485,
    "start_time": "2025-04-02T12:18:31.480Z"
   },
   {
    "duration": 488,
    "start_time": "2025-04-02T12:18:31.971Z"
   },
   {
    "duration": 372,
    "start_time": "2025-04-02T12:18:32.461Z"
   },
   {
    "duration": 12,
    "start_time": "2025-04-02T12:18:32.835Z"
   },
   {
    "duration": 349,
    "start_time": "2025-04-02T12:18:32.849Z"
   },
   {
    "duration": 13,
    "start_time": "2025-04-02T12:18:33.199Z"
   },
   {
    "duration": 335,
    "start_time": "2025-04-02T12:18:33.214Z"
   },
   {
    "duration": 19,
    "start_time": "2025-04-02T12:18:33.551Z"
   },
   {
    "duration": 3,
    "start_time": "2025-04-02T12:18:33.572Z"
   },
   {
    "duration": 7,
    "start_time": "2025-04-02T12:18:33.577Z"
   },
   {
    "duration": 56382,
    "start_time": "2025-04-02T12:18:33.586Z"
   },
   {
    "duration": 76918,
    "start_time": "2025-04-02T12:19:29.970Z"
   },
   {
    "duration": 255,
    "start_time": "2025-04-02T12:20:46.890Z"
   },
   {
    "duration": 3,
    "start_time": "2025-04-02T12:20:47.147Z"
   },
   {
    "duration": 3,
    "start_time": "2025-04-02T12:20:47.152Z"
   },
   {
    "duration": 2809,
    "start_time": "2025-04-02T20:08:28.499Z"
   },
   {
    "duration": 4,
    "start_time": "2025-04-02T20:08:31.310Z"
   },
   {
    "duration": 629,
    "start_time": "2025-04-02T20:08:31.316Z"
   },
   {
    "duration": 3,
    "start_time": "2025-04-02T20:08:31.948Z"
   },
   {
    "duration": 260,
    "start_time": "2025-04-02T20:08:31.953Z"
   },
   {
    "duration": 125,
    "start_time": "2025-04-02T20:08:32.215Z"
   },
   {
    "duration": 282,
    "start_time": "2025-04-02T20:08:32.342Z"
   },
   {
    "duration": 4,
    "start_time": "2025-04-02T20:08:32.626Z"
   },
   {
    "duration": 3,
    "start_time": "2025-04-02T20:08:32.632Z"
   },
   {
    "duration": 4,
    "start_time": "2025-04-02T20:08:32.639Z"
   },
   {
    "duration": 3,
    "start_time": "2025-04-02T20:08:32.645Z"
   },
   {
    "duration": 38,
    "start_time": "2025-04-02T20:08:32.649Z"
   },
   {
    "duration": 8,
    "start_time": "2025-04-02T20:08:32.688Z"
   },
   {
    "duration": 6,
    "start_time": "2025-04-02T20:08:32.698Z"
   },
   {
    "duration": 4,
    "start_time": "2025-04-02T20:08:32.706Z"
   },
   {
    "duration": 5,
    "start_time": "2025-04-02T20:08:32.714Z"
   },
   {
    "duration": 9,
    "start_time": "2025-04-02T20:08:32.721Z"
   },
   {
    "duration": 87,
    "start_time": "2025-04-02T20:08:32.732Z"
   },
   {
    "duration": 3,
    "start_time": "2025-04-02T20:08:32.820Z"
   },
   {
    "duration": 500,
    "start_time": "2025-04-02T20:08:32.825Z"
   },
   {
    "duration": 461,
    "start_time": "2025-04-02T20:08:33.327Z"
   },
   {
    "duration": 355,
    "start_time": "2025-04-02T20:08:33.791Z"
   },
   {
    "duration": 13,
    "start_time": "2025-04-02T20:08:34.148Z"
   },
   {
    "duration": 341,
    "start_time": "2025-04-02T20:08:34.163Z"
   },
   {
    "duration": 12,
    "start_time": "2025-04-02T20:08:34.506Z"
   },
   {
    "duration": 333,
    "start_time": "2025-04-02T20:08:34.520Z"
   },
   {
    "duration": 9,
    "start_time": "2025-04-02T20:08:34.855Z"
   },
   {
    "duration": 3,
    "start_time": "2025-04-02T20:08:34.869Z"
   },
   {
    "duration": 6,
    "start_time": "2025-04-02T20:08:34.886Z"
   },
   {
    "duration": 58424,
    "start_time": "2025-04-02T20:08:34.894Z"
   },
   {
    "duration": 79187,
    "start_time": "2025-04-02T20:09:33.319Z"
   },
   {
    "duration": 260,
    "start_time": "2025-04-02T20:10:52.508Z"
   },
   {
    "duration": 3,
    "start_time": "2025-04-02T20:10:52.770Z"
   },
   {
    "duration": 3,
    "start_time": "2025-04-02T20:10:52.775Z"
   },
   {
    "duration": 4,
    "start_time": "2025-04-02T20:10:52.787Z"
   },
   {
    "duration": 3,
    "start_time": "2025-04-02T20:10:52.792Z"
   },
   {
    "duration": 245653,
    "start_time": "2025-04-02T20:10:52.797Z"
   },
   {
    "duration": 0,
    "start_time": "2025-04-02T20:14:58.452Z"
   },
   {
    "duration": 0,
    "start_time": "2025-04-02T20:14:58.453Z"
   },
   {
    "duration": 0,
    "start_time": "2025-04-02T20:14:58.454Z"
   },
   {
    "duration": 0,
    "start_time": "2025-04-02T20:14:58.456Z"
   },
   {
    "duration": 0,
    "start_time": "2025-04-02T20:14:58.457Z"
   },
   {
    "duration": 0,
    "start_time": "2025-04-02T20:14:58.458Z"
   },
   {
    "duration": 0,
    "start_time": "2025-04-02T20:14:58.459Z"
   },
   {
    "duration": 0,
    "start_time": "2025-04-02T20:14:58.460Z"
   },
   {
    "duration": 0,
    "start_time": "2025-04-02T20:14:58.461Z"
   },
   {
    "duration": 0,
    "start_time": "2025-04-02T20:14:58.462Z"
   },
   {
    "duration": 4,
    "start_time": "2025-04-02T20:15:04.199Z"
   },
   {
    "duration": 3,
    "start_time": "2025-04-02T20:17:21.517Z"
   },
   {
    "duration": 4,
    "start_time": "2025-04-02T20:17:21.664Z"
   },
   {
    "duration": 5,
    "start_time": "2025-04-02T20:17:22.228Z"
   },
   {
    "duration": 3,
    "start_time": "2025-04-02T20:17:22.378Z"
   },
   {
    "duration": 19,
    "start_time": "2025-04-02T20:17:22.564Z"
   },
   {
    "duration": 4,
    "start_time": "2025-04-02T20:17:22.779Z"
   },
   {
    "duration": 71,
    "start_time": "2025-04-02T20:17:23.155Z"
   },
   {
    "duration": 29,
    "start_time": "2025-04-02T20:17:23.873Z"
   },
   {
    "duration": 20,
    "start_time": "2025-04-02T20:20:25.285Z"
   },
   {
    "duration": 21,
    "start_time": "2025-04-02T20:20:31.672Z"
   },
   {
    "duration": 4,
    "start_time": "2025-04-02T20:20:35.742Z"
   },
   {
    "duration": 5,
    "start_time": "2025-04-02T20:20:43.020Z"
   },
   {
    "duration": 19,
    "start_time": "2025-04-02T20:21:30.195Z"
   },
   {
    "duration": 2733,
    "start_time": "2025-04-02T21:31:42.334Z"
   },
   {
    "duration": 5,
    "start_time": "2025-04-02T21:31:45.070Z"
   },
   {
    "duration": 594,
    "start_time": "2025-04-02T21:31:45.076Z"
   },
   {
    "duration": 3,
    "start_time": "2025-04-02T21:31:45.673Z"
   },
   {
    "duration": 253,
    "start_time": "2025-04-02T21:31:45.678Z"
   },
   {
    "duration": 127,
    "start_time": "2025-04-02T21:31:45.933Z"
   },
   {
    "duration": 280,
    "start_time": "2025-04-02T21:31:46.062Z"
   },
   {
    "duration": 4,
    "start_time": "2025-04-02T21:31:46.344Z"
   },
   {
    "duration": 3,
    "start_time": "2025-04-02T21:31:46.350Z"
   },
   {
    "duration": 4,
    "start_time": "2025-04-02T21:31:46.357Z"
   },
   {
    "duration": 3,
    "start_time": "2025-04-02T21:31:46.362Z"
   },
   {
    "duration": 8,
    "start_time": "2025-04-02T21:31:46.367Z"
   },
   {
    "duration": 37,
    "start_time": "2025-04-02T21:31:46.376Z"
   },
   {
    "duration": 5,
    "start_time": "2025-04-02T21:31:46.414Z"
   },
   {
    "duration": 4,
    "start_time": "2025-04-02T21:31:46.420Z"
   },
   {
    "duration": 5,
    "start_time": "2025-04-02T21:31:46.426Z"
   },
   {
    "duration": 8,
    "start_time": "2025-04-02T21:31:46.433Z"
   },
   {
    "duration": 87,
    "start_time": "2025-04-02T21:31:46.442Z"
   },
   {
    "duration": 4,
    "start_time": "2025-04-02T21:31:46.531Z"
   },
   {
    "duration": 478,
    "start_time": "2025-04-02T21:31:46.537Z"
   },
   {
    "duration": 482,
    "start_time": "2025-04-02T21:31:47.016Z"
   },
   {
    "duration": 371,
    "start_time": "2025-04-02T21:31:47.500Z"
   },
   {
    "duration": 14,
    "start_time": "2025-04-02T21:31:47.872Z"
   },
   {
    "duration": 373,
    "start_time": "2025-04-02T21:31:47.888Z"
   },
   {
    "duration": 11,
    "start_time": "2025-04-02T21:31:48.263Z"
   },
   {
    "duration": 341,
    "start_time": "2025-04-02T21:31:48.275Z"
   },
   {
    "duration": 11,
    "start_time": "2025-04-02T21:31:48.617Z"
   },
   {
    "duration": 3,
    "start_time": "2025-04-02T21:31:48.632Z"
   },
   {
    "duration": 6,
    "start_time": "2025-04-02T21:31:48.636Z"
   },
   {
    "duration": 56795,
    "start_time": "2025-04-02T21:31:48.643Z"
   },
   {
    "duration": 77350,
    "start_time": "2025-04-02T21:32:45.440Z"
   },
   {
    "duration": 256,
    "start_time": "2025-04-02T21:34:02.792Z"
   },
   {
    "duration": 4,
    "start_time": "2025-04-02T21:34:03.049Z"
   },
   {
    "duration": 3,
    "start_time": "2025-04-02T21:34:03.055Z"
   },
   {
    "duration": 4,
    "start_time": "2025-04-02T21:34:03.060Z"
   },
   {
    "duration": 3,
    "start_time": "2025-04-02T21:34:03.066Z"
   },
   {
    "duration": 1033,
    "start_time": "2025-04-03T08:01:34.962Z"
   },
   {
    "duration": 3,
    "start_time": "2025-04-03T08:01:35.997Z"
   },
   {
    "duration": 658,
    "start_time": "2025-04-03T08:01:36.002Z"
   },
   {
    "duration": 3,
    "start_time": "2025-04-03T08:01:36.663Z"
   },
   {
    "duration": 249,
    "start_time": "2025-04-03T08:01:36.667Z"
   },
   {
    "duration": 135,
    "start_time": "2025-04-03T08:01:36.918Z"
   },
   {
    "duration": 279,
    "start_time": "2025-04-03T08:01:37.055Z"
   },
   {
    "duration": 4,
    "start_time": "2025-04-03T08:01:37.337Z"
   },
   {
    "duration": 3,
    "start_time": "2025-04-03T08:01:37.343Z"
   },
   {
    "duration": 4,
    "start_time": "2025-04-03T08:01:37.348Z"
   },
   {
    "duration": 3,
    "start_time": "2025-04-03T08:01:37.354Z"
   },
   {
    "duration": 10,
    "start_time": "2025-04-03T08:01:37.359Z"
   },
   {
    "duration": 8,
    "start_time": "2025-04-03T08:01:37.370Z"
   },
   {
    "duration": 4,
    "start_time": "2025-04-03T08:01:37.380Z"
   },
   {
    "duration": 45,
    "start_time": "2025-04-03T08:01:37.386Z"
   },
   {
    "duration": 5,
    "start_time": "2025-04-03T08:01:37.433Z"
   },
   {
    "duration": 8,
    "start_time": "2025-04-03T08:01:37.440Z"
   },
   {
    "duration": 55,
    "start_time": "2025-04-03T08:01:37.450Z"
   },
   {
    "duration": 3,
    "start_time": "2025-04-03T08:01:37.635Z"
   },
   {
    "duration": 403,
    "start_time": "2025-04-03T08:01:37.718Z"
   },
   {
    "duration": 498,
    "start_time": "2025-04-03T08:01:38.123Z"
   },
   {
    "duration": 360,
    "start_time": "2025-04-03T08:01:38.631Z"
   },
   {
    "duration": 13,
    "start_time": "2025-04-03T08:01:38.993Z"
   },
   {
    "duration": 326,
    "start_time": "2025-04-03T08:01:39.009Z"
   },
   {
    "duration": 11,
    "start_time": "2025-04-03T08:01:39.338Z"
   },
   {
    "duration": 438,
    "start_time": "2025-04-03T08:01:39.350Z"
   },
   {
    "duration": 9,
    "start_time": "2025-04-03T08:01:39.790Z"
   },
   {
    "duration": 3,
    "start_time": "2025-04-03T08:01:39.800Z"
   },
   {
    "duration": 6,
    "start_time": "2025-04-03T08:01:43.029Z"
   },
   {
    "duration": 136,
    "start_time": "2025-04-03T08:01:52.167Z"
   },
   {
    "duration": 13,
    "start_time": "2025-04-03T08:01:53.662Z"
   },
   {
    "duration": 5,
    "start_time": "2025-04-03T08:01:55.403Z"
   },
   {
    "duration": 11,
    "start_time": "2025-04-03T08:02:10.622Z"
   },
   {
    "duration": 18,
    "start_time": "2025-04-03T08:02:10.782Z"
   },
   {
    "duration": 53,
    "start_time": "2025-04-03T08:02:11.336Z"
   },
   {
    "duration": 4,
    "start_time": "2025-04-03T08:02:11.796Z"
   },
   {
    "duration": 4,
    "start_time": "2025-04-03T08:02:12.111Z"
   },
   {
    "duration": 3,
    "start_time": "2025-04-03T08:02:21.085Z"
   },
   {
    "duration": 3,
    "start_time": "2025-04-03T08:02:24.116Z"
   },
   {
    "duration": 3,
    "start_time": "2025-04-03T08:02:53.014Z"
   },
   {
    "duration": 4,
    "start_time": "2025-04-03T08:11:55.161Z"
   },
   {
    "duration": 2827,
    "start_time": "2025-04-04T00:47:00.259Z"
   },
   {
    "duration": 4,
    "start_time": "2025-04-04T00:47:03.088Z"
   },
   {
    "duration": 614,
    "start_time": "2025-04-04T00:47:03.094Z"
   },
   {
    "duration": 5,
    "start_time": "2025-04-04T00:47:03.709Z"
   },
   {
    "duration": 248,
    "start_time": "2025-04-04T00:47:03.717Z"
   },
   {
    "duration": 130,
    "start_time": "2025-04-04T00:47:03.967Z"
   },
   {
    "duration": 283,
    "start_time": "2025-04-04T00:47:04.099Z"
   },
   {
    "duration": 5,
    "start_time": "2025-04-04T00:47:04.384Z"
   },
   {
    "duration": 4,
    "start_time": "2025-04-04T00:47:04.390Z"
   },
   {
    "duration": 5,
    "start_time": "2025-04-04T00:47:04.396Z"
   },
   {
    "duration": 3,
    "start_time": "2025-04-04T00:47:04.403Z"
   },
   {
    "duration": 23,
    "start_time": "2025-04-04T00:47:04.407Z"
   },
   {
    "duration": 8,
    "start_time": "2025-04-04T00:47:04.431Z"
   },
   {
    "duration": 2,
    "start_time": "2025-04-04T00:47:04.441Z"
   },
   {
    "duration": 392,
    "start_time": "2025-04-04T00:47:08.578Z"
   },
   {
    "duration": 4,
    "start_time": "2025-04-04T00:50:32.426Z"
   },
   {
    "duration": 5,
    "start_time": "2025-04-04T00:50:32.432Z"
   },
   {
    "duration": 528,
    "start_time": "2025-04-04T00:50:32.439Z"
   },
   {
    "duration": 3,
    "start_time": "2025-04-04T00:50:32.969Z"
   },
   {
    "duration": 239,
    "start_time": "2025-04-04T00:50:32.973Z"
   },
   {
    "duration": 141,
    "start_time": "2025-04-04T00:50:33.214Z"
   },
   {
    "duration": 309,
    "start_time": "2025-04-04T00:50:33.357Z"
   },
   {
    "duration": 5,
    "start_time": "2025-04-04T00:50:33.669Z"
   },
   {
    "duration": 3,
    "start_time": "2025-04-04T00:50:33.676Z"
   },
   {
    "duration": 4,
    "start_time": "2025-04-04T00:50:33.681Z"
   },
   {
    "duration": 3,
    "start_time": "2025-04-04T00:50:33.687Z"
   },
   {
    "duration": 33,
    "start_time": "2025-04-04T00:50:33.692Z"
   },
   {
    "duration": 9,
    "start_time": "2025-04-04T00:50:33.727Z"
   },
   {
    "duration": 63,
    "start_time": "2025-04-04T00:50:36.579Z"
   },
   {
    "duration": 67,
    "start_time": "2025-04-04T00:50:40.870Z"
   },
   {
    "duration": 62,
    "start_time": "2025-04-04T00:50:45.379Z"
   },
   {
    "duration": 0,
    "start_time": "2025-04-04T00:50:45.443Z"
   },
   {
    "duration": 0,
    "start_time": "2025-04-04T00:50:45.445Z"
   },
   {
    "duration": 0,
    "start_time": "2025-04-04T00:50:45.447Z"
   },
   {
    "duration": 0,
    "start_time": "2025-04-04T00:50:45.448Z"
   },
   {
    "duration": 0,
    "start_time": "2025-04-04T00:50:45.450Z"
   },
   {
    "duration": 0,
    "start_time": "2025-04-04T00:50:45.451Z"
   },
   {
    "duration": 0,
    "start_time": "2025-04-04T00:50:45.453Z"
   },
   {
    "duration": 0,
    "start_time": "2025-04-04T00:50:45.454Z"
   },
   {
    "duration": 0,
    "start_time": "2025-04-04T00:50:45.456Z"
   },
   {
    "duration": 0,
    "start_time": "2025-04-04T00:50:45.457Z"
   },
   {
    "duration": 0,
    "start_time": "2025-04-04T00:50:45.459Z"
   },
   {
    "duration": 0,
    "start_time": "2025-04-04T00:50:45.460Z"
   },
   {
    "duration": 0,
    "start_time": "2025-04-04T00:50:45.461Z"
   },
   {
    "duration": 0,
    "start_time": "2025-04-04T00:50:45.463Z"
   },
   {
    "duration": 68,
    "start_time": "2025-04-04T00:50:45.467Z"
   },
   {
    "duration": 0,
    "start_time": "2025-04-04T00:50:45.538Z"
   },
   {
    "duration": 0,
    "start_time": "2025-04-04T00:50:45.540Z"
   },
   {
    "duration": 0,
    "start_time": "2025-04-04T00:50:45.542Z"
   },
   {
    "duration": 0,
    "start_time": "2025-04-04T00:50:45.543Z"
   },
   {
    "duration": 0,
    "start_time": "2025-04-04T00:50:45.545Z"
   },
   {
    "duration": 0,
    "start_time": "2025-04-04T00:50:45.546Z"
   },
   {
    "duration": 0,
    "start_time": "2025-04-04T00:50:45.548Z"
   },
   {
    "duration": 0,
    "start_time": "2025-04-04T00:50:45.550Z"
   },
   {
    "duration": 0,
    "start_time": "2025-04-04T00:50:45.551Z"
   },
   {
    "duration": 0,
    "start_time": "2025-04-04T00:50:45.553Z"
   },
   {
    "duration": 0,
    "start_time": "2025-04-04T00:50:45.554Z"
   },
   {
    "duration": 0,
    "start_time": "2025-04-04T00:50:45.556Z"
   },
   {
    "duration": 0,
    "start_time": "2025-04-04T00:50:45.557Z"
   },
   {
    "duration": 0,
    "start_time": "2025-04-04T00:50:45.558Z"
   },
   {
    "duration": 0,
    "start_time": "2025-04-04T00:50:45.559Z"
   },
   {
    "duration": 0,
    "start_time": "2025-04-04T00:50:45.560Z"
   },
   {
    "duration": 4,
    "start_time": "2025-04-04T00:50:57.123Z"
   },
   {
    "duration": 4,
    "start_time": "2025-04-04T00:50:57.132Z"
   },
   {
    "duration": 504,
    "start_time": "2025-04-04T00:50:57.164Z"
   },
   {
    "duration": 3,
    "start_time": "2025-04-04T00:50:57.670Z"
   },
   {
    "duration": 233,
    "start_time": "2025-04-04T00:50:57.675Z"
   },
   {
    "duration": 130,
    "start_time": "2025-04-04T00:50:57.910Z"
   },
   {
    "duration": 288,
    "start_time": "2025-04-04T00:50:58.043Z"
   },
   {
    "duration": 5,
    "start_time": "2025-04-04T00:50:58.333Z"
   },
   {
    "duration": 3,
    "start_time": "2025-04-04T00:50:58.339Z"
   },
   {
    "duration": 5,
    "start_time": "2025-04-04T00:50:58.343Z"
   },
   {
    "duration": 4,
    "start_time": "2025-04-04T00:50:58.349Z"
   },
   {
    "duration": 7,
    "start_time": "2025-04-04T00:50:58.354Z"
   },
   {
    "duration": 9,
    "start_time": "2025-04-04T00:50:58.363Z"
   },
   {
    "duration": 5,
    "start_time": "2025-04-04T00:50:58.373Z"
   },
   {
    "duration": 5,
    "start_time": "2025-04-04T00:51:04.354Z"
   },
   {
    "duration": 5,
    "start_time": "2025-04-04T00:51:07.600Z"
   },
   {
    "duration": 4,
    "start_time": "2025-04-04T01:31:42.493Z"
   },
   {
    "duration": 3,
    "start_time": "2025-04-04T01:31:42.500Z"
   },
   {
    "duration": 481,
    "start_time": "2025-04-04T01:31:42.505Z"
   },
   {
    "duration": 4,
    "start_time": "2025-04-04T01:31:42.988Z"
   },
   {
    "duration": 249,
    "start_time": "2025-04-04T01:31:42.994Z"
   },
   {
    "duration": 135,
    "start_time": "2025-04-04T01:31:43.245Z"
   },
   {
    "duration": 295,
    "start_time": "2025-04-04T01:31:43.382Z"
   },
   {
    "duration": 4,
    "start_time": "2025-04-04T01:31:43.680Z"
   },
   {
    "duration": 3,
    "start_time": "2025-04-04T01:31:43.686Z"
   },
   {
    "duration": 4,
    "start_time": "2025-04-04T01:31:43.691Z"
   },
   {
    "duration": 4,
    "start_time": "2025-04-04T01:31:43.697Z"
   },
   {
    "duration": 6,
    "start_time": "2025-04-04T01:31:43.725Z"
   },
   {
    "duration": 4,
    "start_time": "2025-04-04T01:31:49.949Z"
   },
   {
    "duration": 4,
    "start_time": "2025-04-04T01:31:51.689Z"
   },
   {
    "duration": 4,
    "start_time": "2025-04-04T01:32:43.919Z"
   },
   {
    "duration": 4,
    "start_time": "2025-04-04T01:32:52.121Z"
   },
   {
    "duration": 4,
    "start_time": "2025-04-04T01:32:52.127Z"
   },
   {
    "duration": 486,
    "start_time": "2025-04-04T01:32:52.135Z"
   },
   {
    "duration": 4,
    "start_time": "2025-04-04T01:32:52.624Z"
   },
   {
    "duration": 234,
    "start_time": "2025-04-04T01:32:52.629Z"
   },
   {
    "duration": 131,
    "start_time": "2025-04-04T01:32:52.865Z"
   },
   {
    "duration": 286,
    "start_time": "2025-04-04T01:32:52.998Z"
   },
   {
    "duration": 5,
    "start_time": "2025-04-04T01:32:53.286Z"
   },
   {
    "duration": 3,
    "start_time": "2025-04-04T01:32:53.292Z"
   },
   {
    "duration": 5,
    "start_time": "2025-04-04T01:32:53.297Z"
   },
   {
    "duration": 23,
    "start_time": "2025-04-04T01:32:53.303Z"
   },
   {
    "duration": 8,
    "start_time": "2025-04-04T01:32:53.329Z"
   },
   {
    "duration": 4,
    "start_time": "2025-04-04T01:32:53.339Z"
   },
   {
    "duration": 4,
    "start_time": "2025-04-04T01:32:57.567Z"
   },
   {
    "duration": 4,
    "start_time": "2025-04-04T01:33:03.306Z"
   },
   {
    "duration": 3,
    "start_time": "2025-04-04T01:33:26.805Z"
   },
   {
    "duration": 7,
    "start_time": "2025-04-04T01:33:35.200Z"
   },
   {
    "duration": 4,
    "start_time": "2025-04-04T01:47:44.547Z"
   },
   {
    "duration": 3,
    "start_time": "2025-04-04T01:47:44.553Z"
   },
   {
    "duration": 496,
    "start_time": "2025-04-04T01:47:44.558Z"
   },
   {
    "duration": 4,
    "start_time": "2025-04-04T01:47:45.056Z"
   },
   {
    "duration": 265,
    "start_time": "2025-04-04T01:47:45.062Z"
   },
   {
    "duration": 135,
    "start_time": "2025-04-04T01:47:45.328Z"
   },
   {
    "duration": 372,
    "start_time": "2025-04-04T01:47:45.465Z"
   },
   {
    "duration": 6,
    "start_time": "2025-04-04T01:47:45.839Z"
   },
   {
    "duration": 3,
    "start_time": "2025-04-04T01:47:45.847Z"
   },
   {
    "duration": 4,
    "start_time": "2025-04-04T01:47:45.853Z"
   },
   {
    "duration": 4,
    "start_time": "2025-04-04T01:47:45.859Z"
   },
   {
    "duration": 8,
    "start_time": "2025-04-04T01:47:45.865Z"
   },
   {
    "duration": 49,
    "start_time": "2025-04-04T01:47:45.875Z"
   },
   {
    "duration": 4,
    "start_time": "2025-04-04T01:47:45.927Z"
   },
   {
    "duration": 5,
    "start_time": "2025-04-04T01:47:45.933Z"
   },
   {
    "duration": 4,
    "start_time": "2025-04-04T01:47:45.940Z"
   },
   {
    "duration": 9,
    "start_time": "2025-04-04T01:47:45.945Z"
   },
   {
    "duration": 10,
    "start_time": "2025-04-04T01:47:45.956Z"
   },
   {
    "duration": 97,
    "start_time": "2025-04-04T01:47:45.969Z"
   },
   {
    "duration": 3,
    "start_time": "2025-04-04T01:47:46.068Z"
   },
   {
    "duration": 474,
    "start_time": "2025-04-04T01:47:46.073Z"
   },
   {
    "duration": 475,
    "start_time": "2025-04-04T01:47:46.549Z"
   },
   {
    "duration": 358,
    "start_time": "2025-04-04T01:47:47.026Z"
   },
   {
    "duration": 14,
    "start_time": "2025-04-04T01:47:47.386Z"
   },
   {
    "duration": 378,
    "start_time": "2025-04-04T01:47:47.402Z"
   },
   {
    "duration": 9,
    "start_time": "2025-04-04T01:47:47.782Z"
   },
   {
    "duration": 382,
    "start_time": "2025-04-04T01:47:47.793Z"
   },
   {
    "duration": 10,
    "start_time": "2025-04-04T01:47:48.177Z"
   },
   {
    "duration": 22,
    "start_time": "2025-04-04T01:47:56.913Z"
   },
   {
    "duration": 9,
    "start_time": "2025-04-04T01:48:16.829Z"
   },
   {
    "duration": 5,
    "start_time": "2025-04-04T01:49:12.510Z"
   },
   {
    "duration": 3,
    "start_time": "2025-04-04T01:49:12.517Z"
   },
   {
    "duration": 520,
    "start_time": "2025-04-04T01:49:12.522Z"
   },
   {
    "duration": 4,
    "start_time": "2025-04-04T01:49:13.044Z"
   },
   {
    "duration": 265,
    "start_time": "2025-04-04T01:49:13.051Z"
   },
   {
    "duration": 152,
    "start_time": "2025-04-04T01:49:13.319Z"
   },
   {
    "duration": 306,
    "start_time": "2025-04-04T01:49:13.474Z"
   },
   {
    "duration": 5,
    "start_time": "2025-04-04T01:49:13.783Z"
   },
   {
    "duration": 4,
    "start_time": "2025-04-04T01:49:13.789Z"
   },
   {
    "duration": 6,
    "start_time": "2025-04-04T01:49:13.794Z"
   },
   {
    "duration": 24,
    "start_time": "2025-04-04T01:49:13.802Z"
   },
   {
    "duration": 9,
    "start_time": "2025-04-04T01:49:13.829Z"
   },
   {
    "duration": 5,
    "start_time": "2025-04-04T01:49:13.840Z"
   },
   {
    "duration": 7,
    "start_time": "2025-04-04T01:49:13.849Z"
   },
   {
    "duration": 6,
    "start_time": "2025-04-04T01:49:13.859Z"
   },
   {
    "duration": 7,
    "start_time": "2025-04-04T01:49:13.867Z"
   },
   {
    "duration": 7,
    "start_time": "2025-04-04T01:49:13.876Z"
   },
   {
    "duration": 9,
    "start_time": "2025-04-04T01:49:13.925Z"
   },
   {
    "duration": 56,
    "start_time": "2025-04-04T01:49:13.935Z"
   },
   {
    "duration": 31,
    "start_time": "2025-04-04T01:49:13.993Z"
   },
   {
    "duration": 601,
    "start_time": "2025-04-04T01:49:14.026Z"
   },
   {
    "duration": 602,
    "start_time": "2025-04-04T01:49:14.631Z"
   },
   {
    "duration": 411,
    "start_time": "2025-04-04T01:49:15.237Z"
   },
   {
    "duration": 11,
    "start_time": "2025-04-04T01:49:15.650Z"
   },
   {
    "duration": 324,
    "start_time": "2025-04-04T01:49:15.663Z"
   },
   {
    "duration": 11,
    "start_time": "2025-04-04T01:49:15.989Z"
   },
   {
    "duration": 378,
    "start_time": "2025-04-04T01:49:16.002Z"
   },
   {
    "duration": 12,
    "start_time": "2025-04-04T01:49:16.381Z"
   },
   {
    "duration": 4,
    "start_time": "2025-04-04T01:49:16.396Z"
   },
   {
    "duration": 27,
    "start_time": "2025-04-04T01:49:16.402Z"
   },
   {
    "duration": 67,
    "start_time": "2025-04-04T01:49:16.432Z"
   },
   {
    "duration": 20,
    "start_time": "2025-04-04T01:50:59.611Z"
   },
   {
    "duration": 17,
    "start_time": "2025-04-04T01:51:31.646Z"
   },
   {
    "duration": 3,
    "start_time": "2025-04-04T01:51:43.425Z"
   },
   {
    "duration": 5,
    "start_time": "2025-04-04T01:51:43.431Z"
   },
   {
    "duration": 482,
    "start_time": "2025-04-04T01:51:43.437Z"
   },
   {
    "duration": 3,
    "start_time": "2025-04-04T01:51:43.923Z"
   },
   {
    "duration": 246,
    "start_time": "2025-04-04T01:51:43.929Z"
   },
   {
    "duration": 131,
    "start_time": "2025-04-04T01:51:44.177Z"
   },
   {
    "duration": 280,
    "start_time": "2025-04-04T01:51:44.310Z"
   },
   {
    "duration": 5,
    "start_time": "2025-04-04T01:51:44.592Z"
   },
   {
    "duration": 3,
    "start_time": "2025-04-04T01:51:44.599Z"
   },
   {
    "duration": 23,
    "start_time": "2025-04-04T01:51:44.604Z"
   },
   {
    "duration": 3,
    "start_time": "2025-04-04T01:51:44.629Z"
   },
   {
    "duration": 8,
    "start_time": "2025-04-04T01:51:44.634Z"
   },
   {
    "duration": 5,
    "start_time": "2025-04-04T01:51:44.644Z"
   },
   {
    "duration": 4,
    "start_time": "2025-04-04T01:51:44.653Z"
   },
   {
    "duration": 4,
    "start_time": "2025-04-04T01:51:44.658Z"
   },
   {
    "duration": 3,
    "start_time": "2025-04-04T01:51:44.664Z"
   },
   {
    "duration": 56,
    "start_time": "2025-04-04T01:51:44.669Z"
   },
   {
    "duration": 9,
    "start_time": "2025-04-04T01:51:44.727Z"
   },
   {
    "duration": 50,
    "start_time": "2025-04-04T01:51:44.738Z"
   },
   {
    "duration": 3,
    "start_time": "2025-04-04T01:51:44.790Z"
   },
   {
    "duration": 474,
    "start_time": "2025-04-04T01:51:44.795Z"
   },
   {
    "duration": 469,
    "start_time": "2025-04-04T01:51:45.271Z"
   },
   {
    "duration": 362,
    "start_time": "2025-04-04T01:51:45.742Z"
   },
   {
    "duration": 19,
    "start_time": "2025-04-04T01:51:46.106Z"
   },
   {
    "duration": 333,
    "start_time": "2025-04-04T01:51:46.127Z"
   },
   {
    "duration": 11,
    "start_time": "2025-04-04T01:51:46.461Z"
   },
   {
    "duration": 403,
    "start_time": "2025-04-04T01:51:46.473Z"
   },
   {
    "duration": 11,
    "start_time": "2025-04-04T01:51:46.878Z"
   },
   {
    "duration": 4,
    "start_time": "2025-04-04T01:51:46.890Z"
   },
   {
    "duration": 16,
    "start_time": "2025-04-04T01:51:50.384Z"
   },
   {
    "duration": 7,
    "start_time": "2025-04-04T01:52:29.530Z"
   },
   {
    "duration": 57618,
    "start_time": "2025-04-04T01:53:22.735Z"
   },
   {
    "duration": 4,
    "start_time": "2025-04-04T01:54:20.355Z"
   },
   {
    "duration": 3,
    "start_time": "2025-04-04T01:54:20.361Z"
   },
   {
    "duration": 519,
    "start_time": "2025-04-04T01:54:20.366Z"
   },
   {
    "duration": 4,
    "start_time": "2025-04-04T01:54:20.887Z"
   },
   {
    "duration": 242,
    "start_time": "2025-04-04T01:54:20.892Z"
   },
   {
    "duration": 135,
    "start_time": "2025-04-04T01:54:21.135Z"
   },
   {
    "duration": 284,
    "start_time": "2025-04-04T01:54:21.273Z"
   },
   {
    "duration": 5,
    "start_time": "2025-04-04T01:54:21.560Z"
   },
   {
    "duration": 3,
    "start_time": "2025-04-04T01:54:21.567Z"
   },
   {
    "duration": 4,
    "start_time": "2025-04-04T01:54:21.574Z"
   },
   {
    "duration": 4,
    "start_time": "2025-04-04T01:54:21.579Z"
   },
   {
    "duration": 42,
    "start_time": "2025-04-04T01:54:21.584Z"
   },
   {
    "duration": 4,
    "start_time": "2025-04-04T01:54:21.629Z"
   },
   {
    "duration": 3,
    "start_time": "2025-04-04T01:54:21.635Z"
   },
   {
    "duration": 5,
    "start_time": "2025-04-04T01:54:21.640Z"
   },
   {
    "duration": 4,
    "start_time": "2025-04-04T01:54:21.646Z"
   },
   {
    "duration": 7,
    "start_time": "2025-04-04T01:54:21.652Z"
   },
   {
    "duration": 9,
    "start_time": "2025-04-04T01:54:21.661Z"
   },
   {
    "duration": 106,
    "start_time": "2025-04-04T01:54:21.674Z"
   },
   {
    "duration": 3,
    "start_time": "2025-04-04T01:54:21.782Z"
   },
   {
    "duration": 439,
    "start_time": "2025-04-04T01:54:21.786Z"
   },
   {
    "duration": 496,
    "start_time": "2025-04-04T01:54:22.228Z"
   },
   {
    "duration": 364,
    "start_time": "2025-04-04T01:54:22.726Z"
   },
   {
    "duration": 14,
    "start_time": "2025-04-04T01:54:23.092Z"
   },
   {
    "duration": 364,
    "start_time": "2025-04-04T01:54:23.108Z"
   },
   {
    "duration": 11,
    "start_time": "2025-04-04T01:54:23.475Z"
   },
   {
    "duration": 318,
    "start_time": "2025-04-04T01:54:23.487Z"
   },
   {
    "duration": 19,
    "start_time": "2025-04-04T01:54:23.810Z"
   },
   {
    "duration": 3,
    "start_time": "2025-04-04T01:54:23.831Z"
   },
   {
    "duration": 9,
    "start_time": "2025-04-04T01:54:23.836Z"
   },
   {
    "duration": 9,
    "start_time": "2025-04-04T01:55:12.016Z"
   },
   {
    "duration": 4,
    "start_time": "2025-04-04T01:55:12.026Z"
   },
   {
    "duration": 525,
    "start_time": "2025-04-04T01:55:12.032Z"
   },
   {
    "duration": 3,
    "start_time": "2025-04-04T01:55:12.559Z"
   },
   {
    "duration": 250,
    "start_time": "2025-04-04T01:55:12.564Z"
   },
   {
    "duration": 136,
    "start_time": "2025-04-04T01:55:12.816Z"
   },
   {
    "duration": 287,
    "start_time": "2025-04-04T01:55:12.954Z"
   },
   {
    "duration": 6,
    "start_time": "2025-04-04T01:55:13.243Z"
   },
   {
    "duration": 2,
    "start_time": "2025-04-04T01:55:13.251Z"
   },
   {
    "duration": 5,
    "start_time": "2025-04-04T01:55:13.255Z"
   },
   {
    "duration": 4,
    "start_time": "2025-04-04T01:55:13.261Z"
   },
   {
    "duration": 10,
    "start_time": "2025-04-04T01:55:13.267Z"
   },
   {
    "duration": 6,
    "start_time": "2025-04-04T01:55:13.325Z"
   },
   {
    "duration": 4,
    "start_time": "2025-04-04T01:55:13.333Z"
   },
   {
    "duration": 5,
    "start_time": "2025-04-04T01:55:13.338Z"
   },
   {
    "duration": 3,
    "start_time": "2025-04-04T01:55:13.345Z"
   },
   {
    "duration": 7,
    "start_time": "2025-04-04T01:55:13.351Z"
   },
   {
    "duration": 10,
    "start_time": "2025-04-04T01:55:13.360Z"
   },
   {
    "duration": 104,
    "start_time": "2025-04-04T01:55:13.372Z"
   },
   {
    "duration": 3,
    "start_time": "2025-04-04T01:55:13.479Z"
   },
   {
    "duration": 599,
    "start_time": "2025-04-04T01:55:13.483Z"
   },
   {
    "duration": 443,
    "start_time": "2025-04-04T01:55:14.084Z"
   },
   {
    "duration": 361,
    "start_time": "2025-04-04T01:55:14.529Z"
   },
   {
    "duration": 12,
    "start_time": "2025-04-04T01:55:14.892Z"
   },
   {
    "duration": 400,
    "start_time": "2025-04-04T01:55:14.905Z"
   },
   {
    "duration": 18,
    "start_time": "2025-04-04T01:55:15.306Z"
   },
   {
    "duration": 364,
    "start_time": "2025-04-04T01:55:15.326Z"
   },
   {
    "duration": 11,
    "start_time": "2025-04-04T01:55:15.692Z"
   },
   {
    "duration": 3,
    "start_time": "2025-04-04T01:55:15.705Z"
   },
   {
    "duration": 10,
    "start_time": "2025-04-04T01:55:15.725Z"
   },
   {
    "duration": 48563,
    "start_time": "2025-04-04T01:55:15.737Z"
   },
   {
    "duration": 58898,
    "start_time": "2025-04-04T01:56:04.302Z"
   },
   {
    "duration": 398,
    "start_time": "2025-04-04T01:57:03.202Z"
   },
   {
    "duration": 5,
    "start_time": "2025-04-04T01:57:11.745Z"
   },
   {
    "duration": 4,
    "start_time": "2025-04-04T01:57:11.753Z"
   },
   {
    "duration": 509,
    "start_time": "2025-04-04T01:57:11.760Z"
   },
   {
    "duration": 4,
    "start_time": "2025-04-04T01:57:12.271Z"
   },
   {
    "duration": 270,
    "start_time": "2025-04-04T01:57:12.278Z"
   },
   {
    "duration": 151,
    "start_time": "2025-04-04T01:57:12.551Z"
   },
   {
    "duration": 296,
    "start_time": "2025-04-04T01:57:12.704Z"
   },
   {
    "duration": 7,
    "start_time": "2025-04-04T01:57:13.004Z"
   },
   {
    "duration": 3,
    "start_time": "2025-04-04T01:57:13.025Z"
   },
   {
    "duration": 6,
    "start_time": "2025-04-04T01:57:13.031Z"
   },
   {
    "duration": 4,
    "start_time": "2025-04-04T01:57:13.039Z"
   },
   {
    "duration": 10,
    "start_time": "2025-04-04T01:57:13.045Z"
   },
   {
    "duration": 8,
    "start_time": "2025-04-04T01:57:13.056Z"
   },
   {
    "duration": 4,
    "start_time": "2025-04-04T01:57:13.066Z"
   },
   {
    "duration": 52,
    "start_time": "2025-04-04T01:57:13.072Z"
   },
   {
    "duration": 5,
    "start_time": "2025-04-04T01:57:13.126Z"
   },
   {
    "duration": 7,
    "start_time": "2025-04-04T01:57:13.133Z"
   },
   {
    "duration": 15,
    "start_time": "2025-04-04T01:57:13.143Z"
   },
   {
    "duration": 95,
    "start_time": "2025-04-04T01:57:13.160Z"
   },
   {
    "duration": 3,
    "start_time": "2025-04-04T01:57:13.260Z"
   },
   {
    "duration": 485,
    "start_time": "2025-04-04T01:57:13.265Z"
   },
   {
    "duration": 483,
    "start_time": "2025-04-04T01:57:13.752Z"
   },
   {
    "duration": 363,
    "start_time": "2025-04-04T01:57:14.238Z"
   },
   {
    "duration": 21,
    "start_time": "2025-04-04T01:57:14.603Z"
   },
   {
    "duration": 354,
    "start_time": "2025-04-04T01:57:14.626Z"
   },
   {
    "duration": 9,
    "start_time": "2025-04-04T01:57:14.982Z"
   },
   {
    "duration": 491,
    "start_time": "2025-04-04T01:57:14.993Z"
   },
   {
    "duration": 10,
    "start_time": "2025-04-04T01:57:15.487Z"
   },
   {
    "duration": 3,
    "start_time": "2025-04-04T01:57:15.501Z"
   },
   {
    "duration": 22,
    "start_time": "2025-04-04T01:57:15.505Z"
   },
   {
    "duration": 48618,
    "start_time": "2025-04-04T01:57:15.529Z"
   },
   {
    "duration": 58297,
    "start_time": "2025-04-04T01:58:04.149Z"
   },
   {
    "duration": 387,
    "start_time": "2025-04-04T01:59:02.448Z"
   },
   {
    "duration": 4,
    "start_time": "2025-04-04T01:59:02.837Z"
   },
   {
    "duration": 3,
    "start_time": "2025-04-04T01:59:02.843Z"
   },
   {
    "duration": 4,
    "start_time": "2025-04-04T01:59:02.848Z"
   },
   {
    "duration": 4,
    "start_time": "2025-04-04T01:59:02.854Z"
   },
   {
    "duration": 249390,
    "start_time": "2025-04-04T01:59:02.859Z"
   },
   {
    "duration": 10,
    "start_time": "2025-04-04T02:03:12.251Z"
   },
   {
    "duration": 18,
    "start_time": "2025-04-04T02:03:12.262Z"
   },
   {
    "duration": 69,
    "start_time": "2025-04-04T02:03:12.281Z"
   },
   {
    "duration": 4,
    "start_time": "2025-04-04T02:03:12.352Z"
   },
   {
    "duration": 4,
    "start_time": "2025-04-04T02:03:12.357Z"
   },
   {
    "duration": 2,
    "start_time": "2025-04-04T02:03:12.363Z"
   },
   {
    "duration": 2768,
    "start_time": "2025-04-04T20:45:15.617Z"
   },
   {
    "duration": 4,
    "start_time": "2025-04-04T20:45:18.387Z"
   },
   {
    "duration": 598,
    "start_time": "2025-04-04T20:45:18.393Z"
   },
   {
    "duration": 4,
    "start_time": "2025-04-04T20:45:18.993Z"
   },
   {
    "duration": 243,
    "start_time": "2025-04-04T20:45:18.998Z"
   },
   {
    "duration": 127,
    "start_time": "2025-04-04T20:45:19.243Z"
   },
   {
    "duration": 288,
    "start_time": "2025-04-04T20:45:19.372Z"
   },
   {
    "duration": 4,
    "start_time": "2025-04-04T20:45:19.662Z"
   },
   {
    "duration": 3,
    "start_time": "2025-04-04T20:45:19.668Z"
   },
   {
    "duration": 4,
    "start_time": "2025-04-04T20:45:19.674Z"
   },
   {
    "duration": 3,
    "start_time": "2025-04-04T20:45:19.680Z"
   },
   {
    "duration": 8,
    "start_time": "2025-04-04T20:45:19.685Z"
   },
   {
    "duration": 6,
    "start_time": "2025-04-04T20:45:19.724Z"
   },
   {
    "duration": 4,
    "start_time": "2025-04-04T20:45:19.733Z"
   },
   {
    "duration": 4,
    "start_time": "2025-04-04T20:45:19.738Z"
   },
   {
    "duration": 4,
    "start_time": "2025-04-04T20:45:19.743Z"
   },
   {
    "duration": 5,
    "start_time": "2025-04-04T20:45:19.750Z"
   },
   {
    "duration": 8,
    "start_time": "2025-04-04T20:45:19.756Z"
   },
   {
    "duration": 94,
    "start_time": "2025-04-04T20:45:19.766Z"
   },
   {
    "duration": 3,
    "start_time": "2025-04-04T20:45:19.862Z"
   },
   {
    "duration": 485,
    "start_time": "2025-04-04T20:45:19.867Z"
   },
   {
    "duration": 460,
    "start_time": "2025-04-04T20:45:20.354Z"
   },
   {
    "duration": 348,
    "start_time": "2025-04-04T20:45:20.824Z"
   },
   {
    "duration": 16,
    "start_time": "2025-04-04T20:45:21.175Z"
   },
   {
    "duration": 304,
    "start_time": "2025-04-04T20:45:21.193Z"
   },
   {
    "duration": 12,
    "start_time": "2025-04-04T20:45:21.499Z"
   },
   {
    "duration": 354,
    "start_time": "2025-04-04T20:45:21.513Z"
   },
   {
    "duration": 8,
    "start_time": "2025-04-04T20:45:21.871Z"
   },
   {
    "duration": 5,
    "start_time": "2025-04-04T20:45:21.883Z"
   },
   {
    "duration": 5,
    "start_time": "2025-04-04T20:45:21.890Z"
   },
   {
    "duration": 48030,
    "start_time": "2025-04-04T20:45:21.900Z"
   },
   {
    "duration": 57418,
    "start_time": "2025-04-04T20:46:09.932Z"
   },
   {
    "duration": 383,
    "start_time": "2025-04-04T20:47:07.352Z"
   },
   {
    "duration": 4,
    "start_time": "2025-04-04T20:47:07.736Z"
   },
   {
    "duration": 4,
    "start_time": "2025-04-04T20:47:07.742Z"
   },
   {
    "duration": 5,
    "start_time": "2025-04-04T20:47:07.747Z"
   },
   {
    "duration": 3,
    "start_time": "2025-04-04T20:47:07.753Z"
   },
   {
    "duration": 250,
    "start_time": "2025-04-04T20:47:07.758Z"
   },
   {
    "duration": 0,
    "start_time": "2025-04-04T20:47:08.010Z"
   },
   {
    "duration": 0,
    "start_time": "2025-04-04T20:47:08.012Z"
   },
   {
    "duration": 0,
    "start_time": "2025-04-04T20:47:08.024Z"
   },
   {
    "duration": 0,
    "start_time": "2025-04-04T20:47:08.025Z"
   },
   {
    "duration": 0,
    "start_time": "2025-04-04T20:47:08.026Z"
   },
   {
    "duration": 0,
    "start_time": "2025-04-04T20:47:08.028Z"
   },
   {
    "duration": 199195,
    "start_time": "2025-04-04T20:49:39.236Z"
   },
   {
    "duration": 15,
    "start_time": "2025-04-04T20:53:15.222Z"
   },
   {
    "duration": 37,
    "start_time": "2025-04-04T20:53:24.998Z"
   },
   {
    "duration": 331,
    "start_time": "2025-04-04T20:54:19.675Z"
   },
   {
    "duration": 50,
    "start_time": "2025-04-04T20:55:52.043Z"
   },
   {
    "duration": 11,
    "start_time": "2025-04-04T20:58:08.823Z"
   },
   {
    "duration": 19,
    "start_time": "2025-04-04T20:58:11.070Z"
   },
   {
    "duration": 4,
    "start_time": "2025-04-04T20:58:33.432Z"
   },
   {
    "duration": 16,
    "start_time": "2025-04-04T21:00:09.882Z"
   },
   {
    "duration": 3,
    "start_time": "2025-04-04T21:00:22.416Z"
   },
   {
    "duration": 193,
    "start_time": "2025-04-04T21:00:24.508Z"
   },
   {
    "duration": 4,
    "start_time": "2025-04-04T21:01:23.956Z"
   },
   {
    "duration": 2827,
    "start_time": "2025-04-04T22:28:27.321Z"
   },
   {
    "duration": 4,
    "start_time": "2025-04-04T22:28:30.150Z"
   },
   {
    "duration": 627,
    "start_time": "2025-04-04T22:28:30.155Z"
   },
   {
    "duration": 3,
    "start_time": "2025-04-04T22:28:30.784Z"
   },
   {
    "duration": 241,
    "start_time": "2025-04-04T22:28:30.789Z"
   },
   {
    "duration": 130,
    "start_time": "2025-04-04T22:28:31.032Z"
   },
   {
    "duration": 275,
    "start_time": "2025-04-04T22:28:31.170Z"
   },
   {
    "duration": 23,
    "start_time": "2025-04-04T22:28:31.447Z"
   },
   {
    "duration": 3,
    "start_time": "2025-04-04T22:28:31.471Z"
   },
   {
    "duration": 4,
    "start_time": "2025-04-04T22:28:31.477Z"
   },
   {
    "duration": 4,
    "start_time": "2025-04-04T22:28:31.482Z"
   },
   {
    "duration": 8,
    "start_time": "2025-04-04T22:28:31.488Z"
   },
   {
    "duration": 4,
    "start_time": "2025-04-04T22:28:31.498Z"
   },
   {
    "duration": 4,
    "start_time": "2025-04-04T22:28:31.503Z"
   },
   {
    "duration": 4,
    "start_time": "2025-04-04T22:28:31.509Z"
   },
   {
    "duration": 4,
    "start_time": "2025-04-04T22:28:31.515Z"
   },
   {
    "duration": 6,
    "start_time": "2025-04-04T22:28:31.520Z"
   },
   {
    "duration": 9,
    "start_time": "2025-04-04T22:28:31.569Z"
   },
   {
    "duration": 55,
    "start_time": "2025-04-04T22:28:31.580Z"
   },
   {
    "duration": 4,
    "start_time": "2025-04-04T22:28:31.636Z"
   },
   {
    "duration": 501,
    "start_time": "2025-04-04T22:28:31.641Z"
   },
   {
    "duration": 416,
    "start_time": "2025-04-04T22:28:32.144Z"
   },
   {
    "duration": 375,
    "start_time": "2025-04-04T22:28:32.562Z"
   },
   {
    "duration": 14,
    "start_time": "2025-04-04T22:28:32.939Z"
   },
   {
    "duration": 328,
    "start_time": "2025-04-04T22:28:32.969Z"
   },
   {
    "duration": 12,
    "start_time": "2025-04-04T22:28:33.299Z"
   },
   {
    "duration": 307,
    "start_time": "2025-04-04T22:28:33.312Z"
   },
   {
    "duration": 9,
    "start_time": "2025-04-04T22:28:33.621Z"
   },
   {
    "duration": 4,
    "start_time": "2025-04-04T22:28:33.631Z"
   },
   {
    "duration": 5,
    "start_time": "2025-04-04T22:28:33.637Z"
   },
   {
    "duration": 47913,
    "start_time": "2025-04-04T22:28:33.644Z"
   },
   {
    "duration": 58338,
    "start_time": "2025-04-04T22:29:21.559Z"
   },
   {
    "duration": 381,
    "start_time": "2025-04-04T22:30:19.898Z"
   },
   {
    "duration": 3,
    "start_time": "2025-04-04T22:30:20.281Z"
   },
   {
    "duration": 3,
    "start_time": "2025-04-04T22:30:20.288Z"
   },
   {
    "duration": 4,
    "start_time": "2025-04-04T22:30:20.294Z"
   },
   {
    "duration": 2,
    "start_time": "2025-04-04T22:30:20.300Z"
   },
   {
    "duration": 198904,
    "start_time": "2025-04-04T22:30:20.304Z"
   },
   {
    "duration": 10,
    "start_time": "2025-04-04T22:33:39.209Z"
   },
   {
    "duration": 3,
    "start_time": "2025-04-04T22:33:39.221Z"
   },
   {
    "duration": 4,
    "start_time": "2025-04-04T22:33:39.226Z"
   },
   {
    "duration": 3,
    "start_time": "2025-04-04T22:33:39.231Z"
   },
   {
    "duration": 4,
    "start_time": "2025-04-04T22:33:39.236Z"
   },
   {
    "duration": 4,
    "start_time": "2025-04-04T22:33:39.241Z"
   },
   {
    "duration": 236,
    "start_time": "2025-04-04T22:33:39.271Z"
   },
   {
    "duration": 0,
    "start_time": "2025-04-04T22:33:39.509Z"
   },
   {
    "duration": 0,
    "start_time": "2025-04-04T22:33:39.510Z"
   },
   {
    "duration": 0,
    "start_time": "2025-04-04T22:33:39.512Z"
   },
   {
    "duration": 0,
    "start_time": "2025-04-04T22:33:39.512Z"
   },
   {
    "duration": 15,
    "start_time": "2025-04-04T22:39:38.418Z"
   },
   {
    "duration": 4,
    "start_time": "2025-04-04T22:45:05.323Z"
   },
   {
    "duration": 18,
    "start_time": "2025-04-04T22:45:31.055Z"
   },
   {
    "duration": 4,
    "start_time": "2025-04-04T22:46:13.390Z"
   },
   {
    "duration": 400,
    "start_time": "2025-04-04T22:46:46.675Z"
   },
   {
    "duration": 47,
    "start_time": "2025-04-04T22:46:57.603Z"
   },
   {
    "duration": 46,
    "start_time": "2025-04-04T22:47:09.022Z"
   },
   {
    "duration": 19,
    "start_time": "2025-04-04T22:47:16.295Z"
   },
   {
    "duration": 4,
    "start_time": "2025-04-04T22:47:19.913Z"
   },
   {
    "duration": 4,
    "start_time": "2025-04-04T22:47:27.845Z"
   },
   {
    "duration": 45,
    "start_time": "2025-04-04T22:47:40.462Z"
   },
   {
    "duration": 5,
    "start_time": "2025-04-04T22:47:40.883Z"
   },
   {
    "duration": 3,
    "start_time": "2025-04-04T22:49:05.201Z"
   },
   {
    "duration": 3,
    "start_time": "2025-04-04T22:49:12.877Z"
   },
   {
    "duration": 59,
    "start_time": "2025-04-04T22:50:28.640Z"
   },
   {
    "duration": 47,
    "start_time": "2025-04-04T22:50:34.424Z"
   },
   {
    "duration": 160,
    "start_time": "2025-04-04T23:38:05.580Z"
   },
   {
    "duration": 2756,
    "start_time": "2025-04-04T23:45:19.306Z"
   },
   {
    "duration": 5,
    "start_time": "2025-04-04T23:45:22.065Z"
   },
   {
    "duration": 611,
    "start_time": "2025-04-04T23:45:22.072Z"
   },
   {
    "duration": 3,
    "start_time": "2025-04-04T23:45:22.686Z"
   },
   {
    "duration": 243,
    "start_time": "2025-04-04T23:45:22.691Z"
   },
   {
    "duration": 158,
    "start_time": "2025-04-04T23:45:22.946Z"
   },
   {
    "duration": 284,
    "start_time": "2025-04-04T23:45:23.106Z"
   },
   {
    "duration": 6,
    "start_time": "2025-04-04T23:45:23.392Z"
   },
   {
    "duration": 3,
    "start_time": "2025-04-04T23:45:23.400Z"
   },
   {
    "duration": 5,
    "start_time": "2025-04-04T23:45:23.406Z"
   },
   {
    "duration": 33,
    "start_time": "2025-04-04T23:45:23.412Z"
   },
   {
    "duration": 7,
    "start_time": "2025-04-04T23:45:23.447Z"
   },
   {
    "duration": 5,
    "start_time": "2025-04-04T23:45:23.455Z"
   },
   {
    "duration": 4,
    "start_time": "2025-04-04T23:45:23.462Z"
   },
   {
    "duration": 4,
    "start_time": "2025-04-04T23:45:23.467Z"
   },
   {
    "duration": 3,
    "start_time": "2025-04-04T23:45:23.473Z"
   },
   {
    "duration": 6,
    "start_time": "2025-04-04T23:45:23.478Z"
   },
   {
    "duration": 8,
    "start_time": "2025-04-04T23:45:23.485Z"
   },
   {
    "duration": 104,
    "start_time": "2025-04-04T23:45:23.494Z"
   },
   {
    "duration": 3,
    "start_time": "2025-04-04T23:45:23.599Z"
   },
   {
    "duration": 436,
    "start_time": "2025-04-04T23:45:23.604Z"
   },
   {
    "duration": 487,
    "start_time": "2025-04-04T23:45:24.043Z"
   },
   {
    "duration": 362,
    "start_time": "2025-04-04T23:45:24.532Z"
   },
   {
    "duration": 14,
    "start_time": "2025-04-04T23:45:24.895Z"
   },
   {
    "duration": 398,
    "start_time": "2025-04-04T23:45:24.910Z"
   },
   {
    "duration": 12,
    "start_time": "2025-04-04T23:45:25.309Z"
   },
   {
    "duration": 366,
    "start_time": "2025-04-04T23:45:25.322Z"
   },
   {
    "duration": 11,
    "start_time": "2025-04-04T23:45:25.692Z"
   },
   {
    "duration": 3,
    "start_time": "2025-04-04T23:45:25.705Z"
   },
   {
    "duration": 5,
    "start_time": "2025-04-04T23:45:25.710Z"
   },
   {
    "duration": 72755,
    "start_time": "2025-04-04T23:45:25.717Z"
   },
   {
    "duration": 83630,
    "start_time": "2025-04-04T23:46:38.474Z"
   },
   {
    "duration": 489,
    "start_time": "2025-04-04T23:48:02.106Z"
   },
   {
    "duration": 3,
    "start_time": "2025-04-04T23:48:02.597Z"
   },
   {
    "duration": 4,
    "start_time": "2025-04-04T23:48:02.602Z"
   },
   {
    "duration": 5,
    "start_time": "2025-04-04T23:48:02.607Z"
   },
   {
    "duration": 3,
    "start_time": "2025-04-04T23:48:02.614Z"
   },
   {
    "duration": 289525,
    "start_time": "2025-04-04T23:48:02.643Z"
   },
   {
    "duration": 10,
    "start_time": "2025-04-04T23:52:52.171Z"
   },
   {
    "duration": 3,
    "start_time": "2025-04-04T23:52:52.183Z"
   },
   {
    "duration": 4,
    "start_time": "2025-04-04T23:52:52.188Z"
   },
   {
    "duration": 3,
    "start_time": "2025-04-04T23:52:52.193Z"
   },
   {
    "duration": 4,
    "start_time": "2025-04-04T23:52:52.197Z"
   },
   {
    "duration": 42,
    "start_time": "2025-04-04T23:52:52.202Z"
   },
   {
    "duration": 13,
    "start_time": "2025-04-04T23:55:03.680Z"
   },
   {
    "duration": 13,
    "start_time": "2025-04-04T23:55:06.968Z"
   },
   {
    "duration": 3,
    "start_time": "2025-04-04T23:55:12.074Z"
   },
   {
    "duration": 3,
    "start_time": "2025-04-04T23:55:16.697Z"
   },
   {
    "duration": 286,
    "start_time": "2025-04-04T23:55:18.885Z"
   },
   {
    "duration": 5,
    "start_time": "2025-04-04T23:55:20.218Z"
   },
   {
    "duration": 2613,
    "start_time": "2025-04-07T03:42:29.778Z"
   },
   {
    "duration": 4,
    "start_time": "2025-04-07T03:42:32.393Z"
   },
   {
    "duration": 832,
    "start_time": "2025-04-07T03:42:32.409Z"
   },
   {
    "duration": 3,
    "start_time": "2025-04-07T03:42:33.243Z"
   },
   {
    "duration": 249,
    "start_time": "2025-04-07T03:42:33.249Z"
   },
   {
    "duration": 126,
    "start_time": "2025-04-07T03:42:33.500Z"
   },
   {
    "duration": 282,
    "start_time": "2025-04-07T03:42:33.628Z"
   },
   {
    "duration": 5,
    "start_time": "2025-04-07T03:42:33.911Z"
   },
   {
    "duration": 3,
    "start_time": "2025-04-07T03:42:33.918Z"
   },
   {
    "duration": 5,
    "start_time": "2025-04-07T03:42:33.923Z"
   },
   {
    "duration": 3,
    "start_time": "2025-04-07T03:42:33.929Z"
   },
   {
    "duration": 7,
    "start_time": "2025-04-07T03:42:33.934Z"
   },
   {
    "duration": 5,
    "start_time": "2025-04-07T03:42:33.942Z"
   },
   {
    "duration": 3,
    "start_time": "2025-04-07T03:42:33.951Z"
   },
   {
    "duration": 3,
    "start_time": "2025-04-07T03:42:33.956Z"
   },
   {
    "duration": 4,
    "start_time": "2025-04-07T03:42:33.960Z"
   },
   {
    "duration": 6,
    "start_time": "2025-04-07T03:42:34.009Z"
   },
   {
    "duration": 8,
    "start_time": "2025-04-07T03:42:34.017Z"
   },
   {
    "duration": 56,
    "start_time": "2025-04-07T03:42:34.026Z"
   },
   {
    "duration": 28,
    "start_time": "2025-04-07T03:42:34.083Z"
   },
   {
    "duration": 475,
    "start_time": "2025-04-07T03:42:34.113Z"
   },
   {
    "duration": 443,
    "start_time": "2025-04-07T03:42:34.589Z"
   },
   {
    "duration": 339,
    "start_time": "2025-04-07T03:42:35.034Z"
   },
   {
    "duration": 13,
    "start_time": "2025-04-07T03:42:35.375Z"
   },
   {
    "duration": 5,
    "start_time": "2025-04-07T03:42:35.390Z"
   },
   {
    "duration": 0,
    "start_time": "2025-04-07T03:42:35.409Z"
   },
   {
    "duration": 0,
    "start_time": "2025-04-07T03:42:35.411Z"
   },
   {
    "duration": 0,
    "start_time": "2025-04-07T03:42:35.412Z"
   },
   {
    "duration": 0,
    "start_time": "2025-04-07T03:42:35.414Z"
   },
   {
    "duration": 5,
    "start_time": "2025-04-07T03:44:27.961Z"
   },
   {
    "duration": 3,
    "start_time": "2025-04-07T03:44:27.968Z"
   },
   {
    "duration": 497,
    "start_time": "2025-04-07T03:44:27.973Z"
   },
   {
    "duration": 5,
    "start_time": "2025-04-07T03:44:28.472Z"
   },
   {
    "duration": 247,
    "start_time": "2025-04-07T03:44:28.481Z"
   },
   {
    "duration": 129,
    "start_time": "2025-04-07T03:44:28.731Z"
   },
   {
    "duration": 285,
    "start_time": "2025-04-07T03:44:28.862Z"
   },
   {
    "duration": 5,
    "start_time": "2025-04-07T03:44:29.149Z"
   },
   {
    "duration": 4,
    "start_time": "2025-04-07T03:44:29.155Z"
   },
   {
    "duration": 4,
    "start_time": "2025-04-07T03:44:29.161Z"
   },
   {
    "duration": 2,
    "start_time": "2025-04-07T03:44:29.168Z"
   },
   {
    "duration": 9,
    "start_time": "2025-04-07T03:44:29.172Z"
   },
   {
    "duration": 5,
    "start_time": "2025-04-07T03:44:29.209Z"
   },
   {
    "duration": 3,
    "start_time": "2025-04-07T03:44:29.218Z"
   },
   {
    "duration": 3,
    "start_time": "2025-04-07T03:44:29.223Z"
   },
   {
    "duration": 3,
    "start_time": "2025-04-07T03:44:29.229Z"
   },
   {
    "duration": 5,
    "start_time": "2025-04-07T03:44:29.234Z"
   },
   {
    "duration": 8,
    "start_time": "2025-04-07T03:44:29.241Z"
   },
   {
    "duration": 91,
    "start_time": "2025-04-07T03:44:29.251Z"
   },
   {
    "duration": 3,
    "start_time": "2025-04-07T03:44:29.344Z"
   },
   {
    "duration": 424,
    "start_time": "2025-04-07T03:44:29.349Z"
   },
   {
    "duration": 434,
    "start_time": "2025-04-07T03:44:29.775Z"
   },
   {
    "duration": 349,
    "start_time": "2025-04-07T03:44:30.210Z"
   },
   {
    "duration": 14,
    "start_time": "2025-04-07T03:44:30.561Z"
   },
   {
    "duration": 4,
    "start_time": "2025-04-07T03:44:30.577Z"
   },
   {
    "duration": 0,
    "start_time": "2025-04-07T03:44:30.582Z"
   },
   {
    "duration": 0,
    "start_time": "2025-04-07T03:44:30.583Z"
   },
   {
    "duration": 0,
    "start_time": "2025-04-07T03:44:30.584Z"
   },
   {
    "duration": 0,
    "start_time": "2025-04-07T03:44:30.586Z"
   },
   {
    "duration": 4,
    "start_time": "2025-04-07T03:44:58.049Z"
   },
   {
    "duration": 4,
    "start_time": "2025-04-07T03:44:58.055Z"
   },
   {
    "duration": 472,
    "start_time": "2025-04-07T03:44:58.060Z"
   },
   {
    "duration": 4,
    "start_time": "2025-04-07T03:44:58.533Z"
   },
   {
    "duration": 319,
    "start_time": "2025-04-07T03:44:58.540Z"
   },
   {
    "duration": 130,
    "start_time": "2025-04-07T03:44:58.861Z"
   },
   {
    "duration": 283,
    "start_time": "2025-04-07T03:44:58.993Z"
   },
   {
    "duration": 5,
    "start_time": "2025-04-07T03:44:59.278Z"
   },
   {
    "duration": 4,
    "start_time": "2025-04-07T03:44:59.284Z"
   },
   {
    "duration": 22,
    "start_time": "2025-04-07T03:44:59.289Z"
   },
   {
    "duration": 3,
    "start_time": "2025-04-07T03:44:59.312Z"
   },
   {
    "duration": 6,
    "start_time": "2025-04-07T03:44:59.317Z"
   },
   {
    "duration": 5,
    "start_time": "2025-04-07T03:44:59.325Z"
   },
   {
    "duration": 3,
    "start_time": "2025-04-07T03:44:59.333Z"
   },
   {
    "duration": 4,
    "start_time": "2025-04-07T03:44:59.337Z"
   },
   {
    "duration": 4,
    "start_time": "2025-04-07T03:44:59.343Z"
   },
   {
    "duration": 5,
    "start_time": "2025-04-07T03:44:59.349Z"
   },
   {
    "duration": 53,
    "start_time": "2025-04-07T03:44:59.356Z"
   },
   {
    "duration": 53,
    "start_time": "2025-04-07T03:44:59.411Z"
   },
   {
    "duration": 3,
    "start_time": "2025-04-07T03:44:59.465Z"
   },
   {
    "duration": 410,
    "start_time": "2025-04-07T03:44:59.470Z"
   },
   {
    "duration": 460,
    "start_time": "2025-04-07T03:44:59.882Z"
   },
   {
    "duration": 316,
    "start_time": "2025-04-07T03:45:00.344Z"
   },
   {
    "duration": 14,
    "start_time": "2025-04-07T03:45:00.662Z"
   },
   {
    "duration": 5,
    "start_time": "2025-04-07T03:45:00.678Z"
   },
   {
    "duration": 0,
    "start_time": "2025-04-07T03:45:00.685Z"
   },
   {
    "duration": 0,
    "start_time": "2025-04-07T03:45:00.687Z"
   },
   {
    "duration": 0,
    "start_time": "2025-04-07T03:45:00.688Z"
   },
   {
    "duration": 0,
    "start_time": "2025-04-07T03:45:00.689Z"
   },
   {
    "duration": 4,
    "start_time": "2025-04-07T03:45:06.755Z"
   },
   {
    "duration": 4,
    "start_time": "2025-04-07T03:45:50.605Z"
   },
   {
    "duration": 348,
    "start_time": "2025-04-07T03:48:06.208Z"
   },
   {
    "duration": 4,
    "start_time": "2025-04-07T03:48:22.110Z"
   },
   {
    "duration": 3,
    "start_time": "2025-04-07T03:48:22.161Z"
   },
   {
    "duration": 439,
    "start_time": "2025-04-07T03:48:22.165Z"
   },
   {
    "duration": 3,
    "start_time": "2025-04-07T03:48:22.606Z"
   },
   {
    "duration": 231,
    "start_time": "2025-04-07T03:48:22.611Z"
   },
   {
    "duration": 130,
    "start_time": "2025-04-07T03:48:22.845Z"
   },
   {
    "duration": 273,
    "start_time": "2025-04-07T03:48:22.976Z"
   },
   {
    "duration": 4,
    "start_time": "2025-04-07T03:48:23.251Z"
   },
   {
    "duration": 3,
    "start_time": "2025-04-07T03:48:23.257Z"
   },
   {
    "duration": 5,
    "start_time": "2025-04-07T03:48:23.261Z"
   },
   {
    "duration": 4,
    "start_time": "2025-04-07T03:48:23.267Z"
   },
   {
    "duration": 36,
    "start_time": "2025-04-07T03:48:23.273Z"
   },
   {
    "duration": 5,
    "start_time": "2025-04-07T03:48:23.310Z"
   },
   {
    "duration": 4,
    "start_time": "2025-04-07T03:48:23.317Z"
   },
   {
    "duration": 4,
    "start_time": "2025-04-07T03:48:23.325Z"
   },
   {
    "duration": 4,
    "start_time": "2025-04-07T03:48:23.331Z"
   },
   {
    "duration": 6,
    "start_time": "2025-04-07T03:48:23.337Z"
   },
   {
    "duration": 10,
    "start_time": "2025-04-07T03:48:23.345Z"
   },
   {
    "duration": 96,
    "start_time": "2025-04-07T03:48:23.357Z"
   },
   {
    "duration": 3,
    "start_time": "2025-04-07T03:48:23.454Z"
   },
   {
    "duration": 481,
    "start_time": "2025-04-07T03:48:23.459Z"
   },
   {
    "duration": 465,
    "start_time": "2025-04-07T03:48:23.943Z"
   },
   {
    "duration": 362,
    "start_time": "2025-04-07T03:48:24.410Z"
   },
   {
    "duration": 14,
    "start_time": "2025-04-07T03:48:24.773Z"
   },
   {
    "duration": 322,
    "start_time": "2025-04-07T03:48:24.789Z"
   },
   {
    "duration": 8,
    "start_time": "2025-04-07T03:48:25.113Z"
   },
   {
    "duration": 345,
    "start_time": "2025-04-07T03:48:25.123Z"
   },
   {
    "duration": 10,
    "start_time": "2025-04-07T03:48:25.469Z"
   },
   {
    "duration": 3,
    "start_time": "2025-04-07T03:48:25.481Z"
   },
   {
    "duration": 227,
    "start_time": "2025-04-07T03:50:43.602Z"
   },
   {
    "duration": 1010,
    "start_time": "2025-04-07T04:11:33.239Z"
   },
   {
    "duration": 3,
    "start_time": "2025-04-07T04:11:34.251Z"
   },
   {
    "duration": 519,
    "start_time": "2025-04-07T04:11:34.256Z"
   },
   {
    "duration": 4,
    "start_time": "2025-04-07T04:11:34.777Z"
   },
   {
    "duration": 249,
    "start_time": "2025-04-07T04:11:34.783Z"
   },
   {
    "duration": 126,
    "start_time": "2025-04-07T04:11:35.034Z"
   },
   {
    "duration": 301,
    "start_time": "2025-04-07T04:11:35.162Z"
   },
   {
    "duration": 5,
    "start_time": "2025-04-07T04:11:35.465Z"
   },
   {
    "duration": 3,
    "start_time": "2025-04-07T04:11:35.471Z"
   },
   {
    "duration": 6,
    "start_time": "2025-04-07T04:11:35.475Z"
   },
   {
    "duration": 3,
    "start_time": "2025-04-07T04:11:35.482Z"
   },
   {
    "duration": 8,
    "start_time": "2025-04-07T04:11:35.508Z"
   },
   {
    "duration": 5,
    "start_time": "2025-04-07T04:11:35.517Z"
   },
   {
    "duration": 5,
    "start_time": "2025-04-07T04:11:35.528Z"
   },
   {
    "duration": 6,
    "start_time": "2025-04-07T04:11:35.536Z"
   },
   {
    "duration": 3,
    "start_time": "2025-04-07T04:11:35.544Z"
   },
   {
    "duration": 6,
    "start_time": "2025-04-07T04:11:35.549Z"
   },
   {
    "duration": 7,
    "start_time": "2025-04-07T04:11:35.557Z"
   },
   {
    "duration": 110,
    "start_time": "2025-04-07T04:11:35.566Z"
   },
   {
    "duration": 3,
    "start_time": "2025-04-07T04:11:35.677Z"
   },
   {
    "duration": 453,
    "start_time": "2025-04-07T04:11:35.682Z"
   },
   {
    "duration": 475,
    "start_time": "2025-04-07T04:11:36.137Z"
   },
   {
    "duration": 360,
    "start_time": "2025-04-07T04:11:36.614Z"
   },
   {
    "duration": 13,
    "start_time": "2025-04-07T04:11:36.976Z"
   },
   {
    "duration": 371,
    "start_time": "2025-04-07T04:11:36.991Z"
   },
   {
    "duration": 11,
    "start_time": "2025-04-07T04:11:37.364Z"
   },
   {
    "duration": 387,
    "start_time": "2025-04-07T04:11:37.377Z"
   },
   {
    "duration": 8,
    "start_time": "2025-04-07T04:11:37.766Z"
   },
   {
    "duration": 3,
    "start_time": "2025-04-07T04:11:37.776Z"
   },
   {
    "duration": 4,
    "start_time": "2025-04-07T04:11:37.781Z"
   },
   {
    "duration": 72533,
    "start_time": "2025-04-07T04:11:37.787Z"
   },
   {
    "duration": 82513,
    "start_time": "2025-04-07T04:12:50.322Z"
   },
   {
    "duration": 490,
    "start_time": "2025-04-07T04:14:12.838Z"
   },
   {
    "duration": 4,
    "start_time": "2025-04-07T04:14:13.330Z"
   },
   {
    "duration": 3,
    "start_time": "2025-04-07T04:14:13.337Z"
   },
   {
    "duration": 5,
    "start_time": "2025-04-07T04:14:13.341Z"
   },
   {
    "duration": 3,
    "start_time": "2025-04-07T04:14:13.347Z"
   },
   {
    "duration": 2724,
    "start_time": "2025-04-08T01:31:05.193Z"
   },
   {
    "duration": 3,
    "start_time": "2025-04-08T01:31:07.923Z"
   },
   {
    "duration": 621,
    "start_time": "2025-04-08T01:31:07.928Z"
   },
   {
    "duration": 3,
    "start_time": "2025-04-08T01:31:08.552Z"
   },
   {
    "duration": 249,
    "start_time": "2025-04-08T01:31:08.558Z"
   },
   {
    "duration": 130,
    "start_time": "2025-04-08T01:31:08.809Z"
   },
   {
    "duration": 273,
    "start_time": "2025-04-08T01:31:08.941Z"
   },
   {
    "duration": 5,
    "start_time": "2025-04-08T01:31:09.224Z"
   },
   {
    "duration": 4,
    "start_time": "2025-04-08T01:31:09.231Z"
   },
   {
    "duration": 6,
    "start_time": "2025-04-08T01:31:09.236Z"
   },
   {
    "duration": 3,
    "start_time": "2025-04-08T01:31:09.244Z"
   },
   {
    "duration": 8,
    "start_time": "2025-04-08T01:31:09.249Z"
   },
   {
    "duration": 5,
    "start_time": "2025-04-08T01:31:09.258Z"
   },
   {
    "duration": 3,
    "start_time": "2025-04-08T01:31:09.267Z"
   },
   {
    "duration": 4,
    "start_time": "2025-04-08T01:31:09.272Z"
   },
   {
    "duration": 47,
    "start_time": "2025-04-08T01:31:09.278Z"
   },
   {
    "duration": 7,
    "start_time": "2025-04-08T01:31:09.326Z"
   },
   {
    "duration": 8,
    "start_time": "2025-04-08T01:31:09.334Z"
   },
   {
    "duration": 56,
    "start_time": "2025-04-08T01:31:09.344Z"
   },
   {
    "duration": 3,
    "start_time": "2025-04-08T01:31:09.401Z"
   },
   {
    "duration": 514,
    "start_time": "2025-04-08T01:31:09.425Z"
   },
   {
    "duration": 474,
    "start_time": "2025-04-08T01:31:09.941Z"
   },
   {
    "duration": 361,
    "start_time": "2025-04-08T01:31:10.418Z"
   },
   {
    "duration": 15,
    "start_time": "2025-04-08T01:31:10.781Z"
   },
   {
    "duration": 343,
    "start_time": "2025-04-08T01:31:10.798Z"
   },
   {
    "duration": 11,
    "start_time": "2025-04-08T01:31:11.143Z"
   },
   {
    "duration": 334,
    "start_time": "2025-04-08T01:31:11.156Z"
   },
   {
    "duration": 10,
    "start_time": "2025-04-08T01:31:11.492Z"
   },
   {
    "duration": 3,
    "start_time": "2025-04-08T01:31:11.503Z"
   },
   {
    "duration": 19,
    "start_time": "2025-04-08T01:31:11.508Z"
   },
   {
    "duration": 78803,
    "start_time": "2025-04-08T01:31:11.528Z"
   },
   {
    "duration": 89693,
    "start_time": "2025-04-08T01:32:30.335Z"
   },
   {
    "duration": 1415,
    "start_time": "2025-04-08T01:34:00.030Z"
   },
   {
    "duration": 4,
    "start_time": "2025-04-08T01:34:01.447Z"
   },
   {
    "duration": 3,
    "start_time": "2025-04-08T01:34:01.453Z"
   },
   {
    "duration": 70,
    "start_time": "2025-04-08T01:34:01.457Z"
   },
   {
    "duration": 4,
    "start_time": "2025-04-08T01:34:01.529Z"
   },
   {
    "duration": 3,
    "start_time": "2025-04-08T01:34:01.535Z"
   },
   {
    "duration": 3,
    "start_time": "2025-04-08T01:34:01.540Z"
   },
   {
    "duration": 260,
    "start_time": "2025-04-08T01:34:01.544Z"
   },
   {
    "duration": 0,
    "start_time": "2025-04-08T01:34:01.807Z"
   },
   {
    "duration": 0,
    "start_time": "2025-04-08T01:34:01.808Z"
   },
   {
    "duration": 0,
    "start_time": "2025-04-08T01:34:01.809Z"
   },
   {
    "duration": 0,
    "start_time": "2025-04-08T01:34:01.810Z"
   },
   {
    "duration": 0,
    "start_time": "2025-04-08T01:34:01.824Z"
   },
   {
    "duration": 0,
    "start_time": "2025-04-08T01:34:01.825Z"
   },
   {
    "duration": 0,
    "start_time": "2025-04-08T01:34:01.826Z"
   },
   {
    "duration": 0,
    "start_time": "2025-04-08T01:34:01.827Z"
   },
   {
    "duration": 0,
    "start_time": "2025-04-08T01:34:01.828Z"
   },
   {
    "duration": 0,
    "start_time": "2025-04-08T01:34:01.829Z"
   },
   {
    "duration": 1,
    "start_time": "2025-04-08T01:34:01.830Z"
   },
   {
    "duration": 0,
    "start_time": "2025-04-08T01:34:01.831Z"
   },
   {
    "duration": 0,
    "start_time": "2025-04-08T01:34:01.832Z"
   },
   {
    "duration": 0,
    "start_time": "2025-04-08T01:34:01.835Z"
   },
   {
    "duration": 0,
    "start_time": "2025-04-08T01:34:01.837Z"
   },
   {
    "duration": 290819,
    "start_time": "2025-04-08T01:38:38.209Z"
   },
   {
    "duration": 31895,
    "start_time": "2025-04-08T01:43:29.030Z"
   },
   {
    "duration": 10,
    "start_time": "2025-04-08T01:44:00.928Z"
   },
   {
    "duration": 4,
    "start_time": "2025-04-08T01:44:00.941Z"
   },
   {
    "duration": 4,
    "start_time": "2025-04-08T01:44:00.946Z"
   },
   {
    "duration": 3,
    "start_time": "2025-04-08T01:44:00.952Z"
   },
   {
    "duration": 5,
    "start_time": "2025-04-08T01:44:00.956Z"
   },
   {
    "duration": 3,
    "start_time": "2025-04-08T01:44:00.963Z"
   },
   {
    "duration": 59,
    "start_time": "2025-04-08T01:44:00.968Z"
   },
   {
    "duration": 3,
    "start_time": "2025-04-08T01:44:01.030Z"
   },
   {
    "duration": 5,
    "start_time": "2025-04-08T01:44:01.035Z"
   },
   {
    "duration": 4,
    "start_time": "2025-04-08T01:44:01.041Z"
   },
   {
    "duration": 511,
    "start_time": "2025-04-08T01:44:01.046Z"
   },
   {
    "duration": 4,
    "start_time": "2025-04-08T01:44:01.559Z"
   },
   {
    "duration": 4,
    "start_time": "2025-04-08T01:44:01.564Z"
   },
   {
    "duration": 3,
    "start_time": "2025-04-08T01:44:01.571Z"
   },
   {
    "duration": 3,
    "start_time": "2025-04-08T01:44:01.581Z"
   },
   {
    "duration": 9453,
    "start_time": "2025-04-08T01:57:12.792Z"
   },
   {
    "duration": 721,
    "start_time": "2025-04-08T01:57:22.323Z"
   },
   {
    "duration": 4,
    "start_time": "2025-04-08T01:57:28.423Z"
   },
   {
    "duration": 3,
    "start_time": "2025-04-08T01:57:41.622Z"
   },
   {
    "duration": 1105,
    "start_time": "2025-04-08T08:33:06.982Z"
   },
   {
    "duration": 5,
    "start_time": "2025-04-08T08:33:08.088Z"
   },
   {
    "duration": 498,
    "start_time": "2025-04-08T08:33:08.095Z"
   },
   {
    "duration": 3,
    "start_time": "2025-04-08T08:33:08.595Z"
   },
   {
    "duration": 248,
    "start_time": "2025-04-08T08:33:08.600Z"
   },
   {
    "duration": 128,
    "start_time": "2025-04-08T08:33:08.850Z"
   },
   {
    "duration": 287,
    "start_time": "2025-04-08T08:33:08.980Z"
   },
   {
    "duration": 6,
    "start_time": "2025-04-08T08:33:09.269Z"
   },
   {
    "duration": 4,
    "start_time": "2025-04-08T08:33:09.276Z"
   },
   {
    "duration": 4,
    "start_time": "2025-04-08T08:33:09.283Z"
   },
   {
    "duration": 3,
    "start_time": "2025-04-08T08:33:09.288Z"
   },
   {
    "duration": 38,
    "start_time": "2025-04-08T08:33:09.293Z"
   },
   {
    "duration": 5,
    "start_time": "2025-04-08T08:33:09.333Z"
   },
   {
    "duration": 4,
    "start_time": "2025-04-08T08:33:09.339Z"
   },
   {
    "duration": 5,
    "start_time": "2025-04-08T08:33:09.344Z"
   },
   {
    "duration": 4,
    "start_time": "2025-04-08T08:33:09.350Z"
   },
   {
    "duration": 5,
    "start_time": "2025-04-08T08:33:09.356Z"
   },
   {
    "duration": 9,
    "start_time": "2025-04-08T08:33:09.492Z"
   },
   {
    "duration": 58,
    "start_time": "2025-04-08T08:33:09.658Z"
   },
   {
    "duration": 4,
    "start_time": "2025-04-08T08:33:09.988Z"
   },
   {
    "duration": 418,
    "start_time": "2025-04-08T08:33:10.072Z"
   },
   {
    "duration": 412,
    "start_time": "2025-04-08T08:33:11.311Z"
   },
   {
    "duration": 314,
    "start_time": "2025-04-08T08:33:12.405Z"
   },
   {
    "duration": 18,
    "start_time": "2025-04-08T08:33:12.721Z"
   },
   {
    "duration": 368,
    "start_time": "2025-04-08T08:33:12.741Z"
   },
   {
    "duration": 20,
    "start_time": "2025-04-08T08:33:13.111Z"
   },
   {
    "duration": 356,
    "start_time": "2025-04-08T08:33:13.136Z"
   },
   {
    "duration": 9,
    "start_time": "2025-04-08T08:33:16.675Z"
   },
   {
    "duration": 3,
    "start_time": "2025-04-08T08:33:18.133Z"
   },
   {
    "duration": 5,
    "start_time": "2025-04-08T08:33:22.530Z"
   },
   {
    "duration": 4,
    "start_time": "2025-04-08T08:33:30.305Z"
   },
   {
    "duration": 4,
    "start_time": "2025-04-08T08:33:39.642Z"
   },
   {
    "duration": 2712,
    "start_time": "2025-04-08T21:10:30.681Z"
   },
   {
    "duration": 4,
    "start_time": "2025-04-08T21:10:33.396Z"
   },
   {
    "duration": 578,
    "start_time": "2025-04-08T21:10:33.402Z"
   },
   {
    "duration": 3,
    "start_time": "2025-04-08T21:10:33.982Z"
   },
   {
    "duration": 248,
    "start_time": "2025-04-08T21:10:33.989Z"
   },
   {
    "duration": 149,
    "start_time": "2025-04-08T21:10:34.239Z"
   },
   {
    "duration": 283,
    "start_time": "2025-04-08T21:10:34.389Z"
   },
   {
    "duration": 4,
    "start_time": "2025-04-08T21:10:34.674Z"
   },
   {
    "duration": 3,
    "start_time": "2025-04-08T21:10:34.681Z"
   },
   {
    "duration": 5,
    "start_time": "2025-04-08T21:10:34.685Z"
   },
   {
    "duration": 21,
    "start_time": "2025-04-08T21:10:34.691Z"
   },
   {
    "duration": 7,
    "start_time": "2025-04-08T21:10:34.714Z"
   },
   {
    "duration": 5,
    "start_time": "2025-04-08T21:10:34.722Z"
   },
   {
    "duration": 3,
    "start_time": "2025-04-08T21:10:34.730Z"
   },
   {
    "duration": 4,
    "start_time": "2025-04-08T21:10:34.735Z"
   },
   {
    "duration": 4,
    "start_time": "2025-04-08T21:10:34.740Z"
   },
   {
    "duration": 5,
    "start_time": "2025-04-08T21:10:34.746Z"
   },
   {
    "duration": 8,
    "start_time": "2025-04-08T21:10:34.753Z"
   },
   {
    "duration": 99,
    "start_time": "2025-04-08T21:10:34.762Z"
   },
   {
    "duration": 3,
    "start_time": "2025-04-08T21:10:34.863Z"
   },
   {
    "duration": 491,
    "start_time": "2025-04-08T21:10:34.867Z"
   },
   {
    "duration": 442,
    "start_time": "2025-04-08T21:10:35.360Z"
   },
   {
    "duration": 369,
    "start_time": "2025-04-08T21:10:35.803Z"
   },
   {
    "duration": 12,
    "start_time": "2025-04-08T21:10:36.174Z"
   },
   {
    "duration": 325,
    "start_time": "2025-04-08T21:10:36.189Z"
   },
   {
    "duration": 12,
    "start_time": "2025-04-08T21:10:36.516Z"
   },
   {
    "duration": 342,
    "start_time": "2025-04-08T21:10:36.530Z"
   },
   {
    "duration": 8,
    "start_time": "2025-04-08T21:10:36.874Z"
   },
   {
    "duration": 3,
    "start_time": "2025-04-08T21:10:36.884Z"
   },
   {
    "duration": 4,
    "start_time": "2025-04-08T21:10:36.889Z"
   },
   {
    "duration": 77917,
    "start_time": "2025-04-08T21:10:36.911Z"
   },
   {
    "duration": 88908,
    "start_time": "2025-04-08T21:11:54.830Z"
   },
   {
    "duration": 1487,
    "start_time": "2025-04-08T21:13:23.740Z"
   },
   {
    "duration": 4,
    "start_time": "2025-04-08T21:13:25.228Z"
   },
   {
    "duration": 3,
    "start_time": "2025-04-08T21:13:25.234Z"
   },
   {
    "duration": 5,
    "start_time": "2025-04-08T21:13:25.238Z"
   },
   {
    "duration": 4,
    "start_time": "2025-04-08T21:13:25.311Z"
   },
   {
    "duration": 3,
    "start_time": "2025-04-08T21:13:25.317Z"
   },
   {
    "duration": 3,
    "start_time": "2025-04-08T21:13:25.322Z"
   },
   {
    "duration": 289761,
    "start_time": "2025-04-08T21:13:25.327Z"
   },
   {
    "duration": 31423,
    "start_time": "2025-04-08T21:18:15.093Z"
   },
   {
    "duration": 273144,
    "start_time": "2025-04-08T21:18:46.519Z"
   },
   {
    "duration": 0,
    "start_time": "2025-04-08T21:23:19.665Z"
   },
   {
    "duration": 0,
    "start_time": "2025-04-08T21:23:19.666Z"
   },
   {
    "duration": 0,
    "start_time": "2025-04-08T21:23:19.667Z"
   },
   {
    "duration": 0,
    "start_time": "2025-04-08T21:23:19.669Z"
   },
   {
    "duration": 0,
    "start_time": "2025-04-08T21:23:19.670Z"
   },
   {
    "duration": 0,
    "start_time": "2025-04-08T21:23:19.671Z"
   },
   {
    "duration": 0,
    "start_time": "2025-04-08T21:23:19.672Z"
   },
   {
    "duration": 0,
    "start_time": "2025-04-08T21:23:19.674Z"
   },
   {
    "duration": 0,
    "start_time": "2025-04-08T21:23:19.675Z"
   },
   {
    "duration": 0,
    "start_time": "2025-04-08T21:23:19.677Z"
   },
   {
    "duration": 0,
    "start_time": "2025-04-08T21:23:19.678Z"
   },
   {
    "duration": 0,
    "start_time": "2025-04-08T21:23:19.680Z"
   },
   {
    "duration": 0,
    "start_time": "2025-04-08T21:23:19.711Z"
   },
   {
    "duration": 0,
    "start_time": "2025-04-08T21:23:19.712Z"
   },
   {
    "duration": 0,
    "start_time": "2025-04-08T21:23:19.714Z"
   },
   {
    "duration": 277480,
    "start_time": "2025-04-08T23:04:07.653Z"
   },
   {
    "duration": 552608,
    "start_time": "2025-04-08T23:12:14.604Z"
   },
   {
    "duration": 0,
    "start_time": "2025-04-08T23:32:41.573Z"
   },
   {
    "duration": 0,
    "start_time": "2025-04-08T23:32:41.573Z"
   },
   {
    "duration": 0,
    "start_time": "2025-04-08T23:32:41.574Z"
   },
   {
    "duration": 0,
    "start_time": "2025-04-08T23:32:41.575Z"
   },
   {
    "duration": 0,
    "start_time": "2025-04-08T23:32:41.576Z"
   },
   {
    "duration": 0,
    "start_time": "2025-04-08T23:32:41.577Z"
   },
   {
    "duration": 0,
    "start_time": "2025-04-08T23:32:41.578Z"
   },
   {
    "duration": 0,
    "start_time": "2025-04-08T23:32:41.579Z"
   },
   {
    "duration": 0,
    "start_time": "2025-04-08T23:32:41.580Z"
   },
   {
    "duration": 0,
    "start_time": "2025-04-08T23:32:41.581Z"
   },
   {
    "duration": 0,
    "start_time": "2025-04-08T23:32:41.582Z"
   },
   {
    "duration": 0,
    "start_time": "2025-04-08T23:32:41.583Z"
   },
   {
    "duration": 0,
    "start_time": "2025-04-08T23:32:41.612Z"
   },
   {
    "duration": 0,
    "start_time": "2025-04-08T23:32:41.613Z"
   },
   {
    "duration": 0,
    "start_time": "2025-04-08T23:32:41.614Z"
   },
   {
    "duration": 0,
    "start_time": "2025-04-08T23:32:41.615Z"
   },
   {
    "duration": 0,
    "start_time": "2025-04-08T23:32:41.616Z"
   },
   {
    "duration": 0,
    "start_time": "2025-04-08T23:32:41.617Z"
   },
   {
    "duration": 1044,
    "start_time": "2025-04-08T23:34:09.013Z"
   },
   {
    "duration": 4,
    "start_time": "2025-04-08T23:34:10.059Z"
   },
   {
    "duration": 496,
    "start_time": "2025-04-08T23:34:10.064Z"
   },
   {
    "duration": 3,
    "start_time": "2025-04-08T23:34:10.562Z"
   },
   {
    "duration": 250,
    "start_time": "2025-04-08T23:34:10.566Z"
   },
   {
    "duration": 133,
    "start_time": "2025-04-08T23:34:10.818Z"
   },
   {
    "duration": 382,
    "start_time": "2025-04-08T23:34:12.681Z"
   },
   {
    "duration": 12,
    "start_time": "2025-04-08T23:34:13.065Z"
   },
   {
    "duration": 314,
    "start_time": "2025-04-08T23:34:13.078Z"
   },
   {
    "duration": 19,
    "start_time": "2025-04-08T23:34:13.397Z"
   },
   {
    "duration": 977,
    "start_time": "2025-04-09T00:28:49.498Z"
   },
   {
    "duration": 4,
    "start_time": "2025-04-09T00:28:50.479Z"
   },
   {
    "duration": 502,
    "start_time": "2025-04-09T00:28:50.485Z"
   },
   {
    "duration": 4,
    "start_time": "2025-04-09T00:28:50.989Z"
   },
   {
    "duration": 244,
    "start_time": "2025-04-09T00:28:51.011Z"
   },
   {
    "duration": 130,
    "start_time": "2025-04-09T00:28:51.257Z"
   },
   {
    "duration": 295,
    "start_time": "2025-04-09T00:28:51.389Z"
   },
   {
    "duration": 6,
    "start_time": "2025-04-09T00:28:51.686Z"
   },
   {
    "duration": 18,
    "start_time": "2025-04-09T00:28:51.694Z"
   },
   {
    "duration": 5,
    "start_time": "2025-04-09T00:28:51.714Z"
   },
   {
    "duration": 3,
    "start_time": "2025-04-09T00:28:51.721Z"
   },
   {
    "duration": 8,
    "start_time": "2025-04-09T00:28:51.726Z"
   },
   {
    "duration": 5,
    "start_time": "2025-04-09T00:28:51.735Z"
   },
   {
    "duration": 3,
    "start_time": "2025-04-09T00:28:51.744Z"
   },
   {
    "duration": 5,
    "start_time": "2025-04-09T00:28:51.749Z"
   },
   {
    "duration": 4,
    "start_time": "2025-04-09T00:28:51.755Z"
   },
   {
    "duration": 53,
    "start_time": "2025-04-09T00:28:51.761Z"
   },
   {
    "duration": 7,
    "start_time": "2025-04-09T00:28:51.816Z"
   },
   {
    "duration": 57,
    "start_time": "2025-04-09T00:28:51.825Z"
   },
   {
    "duration": 28,
    "start_time": "2025-04-09T00:28:51.883Z"
   },
   {
    "duration": 423,
    "start_time": "2025-04-09T00:28:51.914Z"
   },
   {
    "duration": 462,
    "start_time": "2025-04-09T00:28:52.339Z"
   },
   {
    "duration": 357,
    "start_time": "2025-04-09T00:28:52.803Z"
   },
   {
    "duration": 12,
    "start_time": "2025-04-09T00:28:53.162Z"
   },
   {
    "duration": 376,
    "start_time": "2025-04-09T00:28:53.176Z"
   },
   {
    "duration": 12,
    "start_time": "2025-04-09T00:28:53.553Z"
   },
   {
    "duration": 339,
    "start_time": "2025-04-09T00:28:53.566Z"
   },
   {
    "duration": 11,
    "start_time": "2025-04-09T00:28:53.907Z"
   },
   {
    "duration": 4,
    "start_time": "2025-04-09T00:28:53.919Z"
   },
   {
    "duration": 4,
    "start_time": "2025-04-09T00:28:53.925Z"
   },
   {
    "duration": 78888,
    "start_time": "2025-04-09T00:28:53.931Z"
   },
   {
    "duration": 89091,
    "start_time": "2025-04-09T00:30:12.821Z"
   },
   {
    "duration": 1503,
    "start_time": "2025-04-09T00:31:41.914Z"
   },
   {
    "duration": 3,
    "start_time": "2025-04-09T00:31:43.422Z"
   },
   {
    "duration": 3,
    "start_time": "2025-04-09T00:31:43.427Z"
   },
   {
    "duration": 5,
    "start_time": "2025-04-09T00:31:43.432Z"
   },
   {
    "duration": 5,
    "start_time": "2025-04-09T00:31:43.439Z"
   },
   {
    "duration": 3,
    "start_time": "2025-04-09T00:31:43.446Z"
   },
   {
    "duration": 60,
    "start_time": "2025-04-09T00:31:43.451Z"
   },
   {
    "duration": 290127,
    "start_time": "2025-04-09T00:31:43.513Z"
   },
   {
    "duration": 32766,
    "start_time": "2025-04-09T00:36:33.647Z"
   },
   {
    "duration": 563813,
    "start_time": "2025-04-09T00:37:06.415Z"
   },
   {
    "duration": 82,
    "start_time": "2025-04-09T00:46:30.230Z"
   },
   {
    "duration": 3,
    "start_time": "2025-04-09T00:46:30.314Z"
   },
   {
    "duration": 3,
    "start_time": "2025-04-09T00:46:30.319Z"
   },
   {
    "duration": 9,
    "start_time": "2025-04-09T00:46:30.323Z"
   },
   {
    "duration": 3,
    "start_time": "2025-04-09T00:46:30.334Z"
   },
   {
    "duration": 3,
    "start_time": "2025-04-09T00:46:30.340Z"
   },
   {
    "duration": 2,
    "start_time": "2025-04-09T00:46:30.345Z"
   },
   {
    "duration": 4,
    "start_time": "2025-04-09T00:46:30.349Z"
   },
   {
    "duration": 4,
    "start_time": "2025-04-09T00:46:30.354Z"
   },
   {
    "duration": 56,
    "start_time": "2025-04-09T00:46:30.359Z"
   },
   {
    "duration": 3,
    "start_time": "2025-04-09T00:46:30.417Z"
   },
   {
    "duration": 4,
    "start_time": "2025-04-09T00:46:30.421Z"
   },
   {
    "duration": 3,
    "start_time": "2025-04-09T00:46:30.427Z"
   },
   {
    "duration": 502,
    "start_time": "2025-04-09T00:46:30.432Z"
   },
   {
    "duration": 244,
    "start_time": "2025-04-09T00:46:30.936Z"
   },
   {
    "duration": 0,
    "start_time": "2025-04-09T00:46:31.182Z"
   },
   {
    "duration": 0,
    "start_time": "2025-04-09T00:46:31.184Z"
   },
   {
    "duration": 0,
    "start_time": "2025-04-09T00:46:31.186Z"
   },
   {
    "duration": 0,
    "start_time": "2025-04-09T00:46:31.187Z"
   },
   {
    "duration": 0,
    "start_time": "2025-04-09T00:46:31.188Z"
   },
   {
    "duration": 4,
    "start_time": "2025-04-09T00:54:09.392Z"
   },
   {
    "duration": 2,
    "start_time": "2025-04-09T00:54:11.217Z"
   },
   {
    "duration": 3,
    "start_time": "2025-04-09T00:54:14.961Z"
   },
   {
    "duration": 2,
    "start_time": "2025-04-09T00:54:17.908Z"
   },
   {
    "duration": 133,
    "start_time": "2025-04-09T00:54:19.757Z"
   },
   {
    "duration": 4,
    "start_time": "2025-04-09T00:54:21.369Z"
   },
   {
    "duration": 4,
    "start_time": "2025-04-09T00:54:41.798Z"
   },
   {
    "duration": 3,
    "start_time": "2025-04-09T00:54:45.918Z"
   },
   {
    "duration": 4,
    "start_time": "2025-04-09T00:54:55.594Z"
   },
   {
    "duration": 31,
    "start_time": "2025-04-09T00:55:03.735Z"
   },
   {
    "duration": 17,
    "start_time": "2025-04-09T00:55:30.250Z"
   },
   {
    "duration": 3,
    "start_time": "2025-04-09T00:55:33.779Z"
   },
   {
    "duration": 3,
    "start_time": "2025-04-09T01:10:41.026Z"
   }
  ],
  "kernelspec": {
   "display_name": "Sprint10",
   "language": "python",
   "name": "python3"
  },
  "language_info": {
   "codemirror_mode": {
    "name": "ipython",
    "version": 3
   },
   "file_extension": ".py",
   "mimetype": "text/x-python",
   "name": "python",
   "nbconvert_exporter": "python",
   "pygments_lexer": "ipython3",
   "version": "3.11.5"
  },
  "toc": {
   "base_numbering": 1,
   "nav_menu": {},
   "number_sections": true,
   "sideBar": true,
   "skip_h1_title": true,
   "title_cell": "Table of Contents",
   "title_sidebar": "Contents",
   "toc_cell": false,
   "toc_position": {},
   "toc_section_display": true,
   "toc_window_display": false
  }
 },
 "nbformat": 4,
 "nbformat_minor": 2
}
